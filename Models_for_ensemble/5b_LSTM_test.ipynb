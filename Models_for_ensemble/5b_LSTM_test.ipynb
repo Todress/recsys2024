{
  "cells": [
    {
      "cell_type": "code",
      "execution_count": 1,
      "id": "f6b22d84",
      "metadata": {
        "id": "f6b22d84"
      },
      "outputs": [],
      "source": [
        "just_checking_integrity=False\n",
        "rows=3000\n",
        "test_rows=1000"
      ]
    },
    {
      "cell_type": "code",
      "execution_count": 2,
      "id": "b647804a",
      "metadata": {
        "execution": {
          "iopub.execute_input": "2022-06-13T15:46:46.608130Z",
          "iopub.status.busy": "2022-06-13T15:46:46.607453Z",
          "iopub.status.idle": "2022-06-13T15:46:52.081025Z",
          "shell.execute_reply": "2022-06-13T15:46:52.080240Z"
        },
        "id": "b647804a",
        "papermill": {
          "duration": 5.495221,
          "end_time": "2022-06-13T15:46:52.083101",
          "exception": false,
          "start_time": "2022-06-13T15:46:46.587880",
          "status": "completed"
        },
        "tags": []
      },
      "outputs": [],
      "source": [
        "import pandas as pd\n",
        "import tensorflow as tf\n",
        "from tensorflow.keras import layers\n",
        "from sklearn.model_selection import train_test_split\n",
        "import numpy as np\n",
        "import datetime\n",
        "from itertools import compress\n",
        "from math import sin, cos\n",
        "import ast"
      ]
    },
    {
      "cell_type": "code",
      "execution_count": 3,
      "id": "31e5dc46",
      "metadata": {
        "id": "31e5dc46"
      },
      "outputs": [],
      "source": [
        "from tqdm.auto import tqdm\n",
        "tqdm.pandas()"
      ]
    },
    {
      "cell_type": "code",
      "source": [
        "from google.colab import drive\n",
        "drive.mount('/content/drive')"
      ],
      "metadata": {
        "colab": {
          "base_uri": "https://localhost:8080/"
        },
        "id": "6TfW20obBrVM",
        "outputId": "ab44476e-c7dc-4294-c344-962ca37533f3"
      },
      "id": "6TfW20obBrVM",
      "execution_count": 4,
      "outputs": [
        {
          "output_type": "stream",
          "name": "stdout",
          "text": [
            "Mounted at /content/drive\n"
          ]
        }
      ]
    },
    {
      "cell_type": "markdown",
      "id": "c9df263b",
      "metadata": {
        "id": "c9df263b",
        "papermill": {
          "duration": 0.018802,
          "end_time": "2022-06-13T15:46:52.932998",
          "exception": false,
          "start_time": "2022-06-13T15:46:52.914196",
          "status": "completed"
        },
        "tags": []
      },
      "source": [
        "## Custom metric\n"
      ]
    },
    {
      "cell_type": "code",
      "execution_count": 5,
      "id": "0e515b5a",
      "metadata": {
        "execution": {
          "iopub.execute_input": "2022-06-13T15:46:52.971622Z",
          "iopub.status.busy": "2022-06-13T15:46:52.971293Z",
          "iopub.status.idle": "2022-06-13T15:46:52.979012Z",
          "shell.execute_reply": "2022-06-13T15:46:52.978270Z"
        },
        "id": "0e515b5a",
        "papermill": {
          "duration": 0.029113,
          "end_time": "2022-06-13T15:46:52.980780",
          "exception": false,
          "start_time": "2022-06-13T15:46:52.951667",
          "status": "completed"
        },
        "tags": []
      },
      "outputs": [],
      "source": [
        "def mrr_top_at(at=100):\n",
        "    @tf.function\n",
        "    def mrr_top(y_true,y_pred):\n",
        "        top_k=tf.math.top_k(y_pred,k=at)\n",
        "        rr=top_k.indices\n",
        "        #print(rr)\n",
        "        idx=tf.range(start=1,limit=at+1,delta=1)\n",
        "        y_true=tf.reshape(y_true,[-1,1])\n",
        "        #print(y_true)\n",
        "        #y_true=tf.broadcast_to(y_true,test.shape)\n",
        "        y_true=tf.cast(y_true,tf.int32)\n",
        "        ranking=tf.where(tf.math.equal(rr,y_true),idx,0)\n",
        "        #print(ranking)\n",
        "        ranking=tf.reduce_sum(ranking,axis=-1)\n",
        "        ranking=tf.where(ranking>0,1/ranking,0)\n",
        "        #print(ranking)\n",
        "        ranking=tf.reduce_mean(ranking)\n",
        "        return ranking\n",
        "    return mrr_top\n"
      ]
    },
    {
      "cell_type": "markdown",
      "id": "024b1a7e",
      "metadata": {
        "id": "024b1a7e",
        "papermill": {
          "duration": 0.018758,
          "end_time": "2022-06-13T15:46:53.018573",
          "exception": false,
          "start_time": "2022-06-13T15:46:52.999815",
          "status": "completed"
        },
        "tags": []
      },
      "source": [
        "## Custom layers"
      ]
    },
    {
      "cell_type": "code",
      "execution_count": 6,
      "id": "f682c799",
      "metadata": {
        "execution": {
          "iopub.execute_input": "2022-06-13T15:46:53.057483Z",
          "iopub.status.busy": "2022-06-13T15:46:53.056810Z",
          "iopub.status.idle": "2022-06-13T15:46:53.064633Z",
          "shell.execute_reply": "2022-06-13T15:46:53.063907Z"
        },
        "id": "f682c799",
        "papermill": {
          "duration": 0.029132,
          "end_time": "2022-06-13T15:46:53.066312",
          "exception": false,
          "start_time": "2022-06-13T15:46:53.037180",
          "status": "completed"
        },
        "tags": []
      },
      "outputs": [],
      "source": [
        "class TransformerBlock(layers.Layer):\n",
        "    def __init__(self, embed_dim, num_heads, ff_dim, rate=0.1):\n",
        "        super(TransformerBlock, self).__init__()\n",
        "        self.att = layers.MultiHeadAttention(num_heads=num_heads, key_dim=embed_dim)\n",
        "        self.ffn = tf.keras.Sequential(\n",
        "            [layers.Dense(ff_dim, activation=\"relu\"), layers.Dense(embed_dim),]\n",
        "        )\n",
        "        self.layernorm1 = layers.LayerNormalization(epsilon=1e-6)\n",
        "        self.layernorm2 = layers.LayerNormalization(epsilon=1e-6)\n",
        "        self.dropout1 = layers.Dropout(rate)\n",
        "        self.dropout2 = layers.Dropout(rate)\n",
        "\n",
        "    def call(self, inputs, training):\n",
        "        attn_output = self.att(inputs, inputs)\n",
        "        attn_output = self.dropout1(attn_output, training=training)\n",
        "        out1 = self.layernorm1(inputs + attn_output)\n",
        "        ffn_output = self.ffn(out1)\n",
        "        ffn_output = self.dropout2(ffn_output, training=training)\n",
        "        return self.layernorm2(out1 + ffn_output)"
      ]
    },
    {
      "cell_type": "code",
      "execution_count": 7,
      "id": "8b32ba9f",
      "metadata": {
        "execution": {
          "iopub.execute_input": "2022-06-13T15:46:53.104693Z",
          "iopub.status.busy": "2022-06-13T15:46:53.104054Z",
          "iopub.status.idle": "2022-06-13T15:46:53.110733Z",
          "shell.execute_reply": "2022-06-13T15:46:53.110019Z"
        },
        "id": "8b32ba9f",
        "papermill": {
          "duration": 0.027593,
          "end_time": "2022-06-13T15:46:53.112366",
          "exception": false,
          "start_time": "2022-06-13T15:46:53.084773",
          "status": "completed"
        },
        "tags": []
      },
      "outputs": [],
      "source": [
        "class TokenAndPositionEmbedding(layers.Layer):\n",
        "    def __init__(\n",
        "        self,\n",
        "        maxlen,\n",
        "        vocab_size,\n",
        "        embed_dim,\n",
        "        item_embedding_trainable=True,\n",
        "        embedding_weights=None\n",
        "        ):\n",
        "        super(TokenAndPositionEmbedding, self).__init__()\n",
        "        self.token_emb = layers.Embedding(\n",
        "            input_dim=vocab_size,\n",
        "            output_dim=embed_dim,\n",
        "            trainable=item_embedding_trainable,\n",
        "            weights=embedding_weights\n",
        "            )\n",
        "        self.pos_emb = layers.Embedding(input_dim=maxlen, output_dim=embed_dim)\n",
        "\n",
        "    def call(self, x):\n",
        "        maxlen = tf.shape(x)[-1]\n",
        "        positions = tf.range(start=maxlen-1, limit=0, delta=-1)\n",
        "        positions = self.pos_emb(positions)\n",
        "        x = self.token_emb(x)\n",
        "        return x + positions"
      ]
    },
    {
      "cell_type": "code",
      "execution_count": 8,
      "id": "357d9308",
      "metadata": {
        "execution": {
          "iopub.execute_input": "2022-06-13T15:46:53.150889Z",
          "iopub.status.busy": "2022-06-13T15:46:53.150617Z",
          "iopub.status.idle": "2022-06-13T15:46:53.156218Z",
          "shell.execute_reply": "2022-06-13T15:46:53.155513Z"
        },
        "id": "357d9308",
        "papermill": {
          "duration": 0.026924,
          "end_time": "2022-06-13T15:46:53.157898",
          "exception": false,
          "start_time": "2022-06-13T15:46:53.130974",
          "status": "completed"
        },
        "tags": []
      },
      "outputs": [],
      "source": [
        "class PositionEmbedding(layers.Layer):\n",
        "    def __init__(\n",
        "        self,\n",
        "        maxlen,\n",
        "        embed_dim,\n",
        "        ):\n",
        "        super(PositionEmbedding, self).__init__()\n",
        "        self.pos_emb = layers.Embedding(input_dim=maxlen, output_dim=embed_dim)\n",
        "\n",
        "    def call(self, x):\n",
        "        maxlen = tf.shape(x)[-1]\n",
        "        positions = tf.range(start=0, limit=maxlen, delta=1)\n",
        "        positions = self.pos_emb(positions)\n",
        "        return positions"
      ]
    },
    {
      "cell_type": "code",
      "execution_count": 9,
      "id": "99603a0f",
      "metadata": {
        "execution": {
          "iopub.execute_input": "2022-06-13T15:46:53.197710Z",
          "iopub.status.busy": "2022-06-13T15:46:53.196404Z",
          "iopub.status.idle": "2022-06-13T15:46:53.203227Z",
          "shell.execute_reply": "2022-06-13T15:46:53.202536Z"
        },
        "id": "99603a0f",
        "papermill": {
          "duration": 0.028007,
          "end_time": "2022-06-13T15:46:53.204851",
          "exception": false,
          "start_time": "2022-06-13T15:46:53.176844",
          "status": "completed"
        },
        "tags": []
      },
      "outputs": [],
      "source": [
        "class RBFLayer(layers.Layer):\n",
        "    def __init__(self, weights, gamma, **kwargs):\n",
        "        super(RBFLayer, self).__init__(**kwargs)\n",
        "        # shape=(embedding_dimension, num_units)\n",
        "        self.embedding_weights = tf.transpose(weights)\n",
        "        self.gamma = gamma\n",
        "\n",
        "    def call(self, inputs):\n",
        "        l2 = tf.math.reduce_sum(\n",
        "            tf.math.squared_difference(\n",
        "                x=tf.expand_dims(inputs, axis=-1),\n",
        "                y=self.embedding_weights\n",
        "                ),\n",
        "            axis=1\n",
        "            )\n",
        "        res = tf.math.exp(-self.gamma * l2)\n",
        "        return res / tf.reduce_sum(res, axis=1, keepdims=True)"
      ]
    },
    {
      "cell_type": "markdown",
      "id": "88e0e2ad",
      "metadata": {
        "id": "88e0e2ad",
        "papermill": {
          "duration": 0.031781,
          "end_time": "2022-06-13T15:46:53.950092",
          "exception": false,
          "start_time": "2022-06-13T15:46:53.918311",
          "status": "completed"
        },
        "tags": []
      },
      "source": [
        "# Prepare dataset"
      ]
    },
    {
      "cell_type": "code",
      "execution_count": 10,
      "id": "82dc56b9",
      "metadata": {
        "execution": {
          "iopub.execute_input": "2022-06-13T15:46:54.017951Z",
          "iopub.status.busy": "2022-06-13T15:46:54.017635Z",
          "iopub.status.idle": "2022-06-13T15:46:54.032556Z",
          "shell.execute_reply": "2022-06-13T15:46:54.031718Z"
        },
        "id": "82dc56b9",
        "outputId": "8ed4b01b-7e27-4127-d929-909679aa8b8e",
        "papermill": {
          "duration": 0.050992,
          "end_time": "2022-06-13T15:46:54.034575",
          "exception": false,
          "start_time": "2022-06-13T15:46:53.983583",
          "status": "completed"
        },
        "tags": [],
        "colab": {
          "base_uri": "https://localhost:8080/",
          "height": 206
        }
      },
      "outputs": [
        {
          "output_type": "execute_result",
          "data": {
            "text/plain": [
              "   item_id\n",
              "0        1\n",
              "1        2\n",
              "2        3\n",
              "3        4\n",
              "4        5"
            ],
            "text/html": [
              "\n",
              "  <div id=\"df-bf21f8d9-648f-451a-ba51-2df4a7eb6507\" class=\"colab-df-container\">\n",
              "    <div>\n",
              "<style scoped>\n",
              "    .dataframe tbody tr th:only-of-type {\n",
              "        vertical-align: middle;\n",
              "    }\n",
              "\n",
              "    .dataframe tbody tr th {\n",
              "        vertical-align: top;\n",
              "    }\n",
              "\n",
              "    .dataframe thead th {\n",
              "        text-align: right;\n",
              "    }\n",
              "</style>\n",
              "<table border=\"1\" class=\"dataframe\">\n",
              "  <thead>\n",
              "    <tr style=\"text-align: right;\">\n",
              "      <th></th>\n",
              "      <th>item_id</th>\n",
              "    </tr>\n",
              "  </thead>\n",
              "  <tbody>\n",
              "    <tr>\n",
              "      <th>0</th>\n",
              "      <td>1</td>\n",
              "    </tr>\n",
              "    <tr>\n",
              "      <th>1</th>\n",
              "      <td>2</td>\n",
              "    </tr>\n",
              "    <tr>\n",
              "      <th>2</th>\n",
              "      <td>3</td>\n",
              "    </tr>\n",
              "    <tr>\n",
              "      <th>3</th>\n",
              "      <td>4</td>\n",
              "    </tr>\n",
              "    <tr>\n",
              "      <th>4</th>\n",
              "      <td>5</td>\n",
              "    </tr>\n",
              "  </tbody>\n",
              "</table>\n",
              "</div>\n",
              "    <div class=\"colab-df-buttons\">\n",
              "\n",
              "  <div class=\"colab-df-container\">\n",
              "    <button class=\"colab-df-convert\" onclick=\"convertToInteractive('df-bf21f8d9-648f-451a-ba51-2df4a7eb6507')\"\n",
              "            title=\"Convert this dataframe to an interactive table.\"\n",
              "            style=\"display:none;\">\n",
              "\n",
              "  <svg xmlns=\"http://www.w3.org/2000/svg\" height=\"24px\" viewBox=\"0 -960 960 960\">\n",
              "    <path d=\"M120-120v-720h720v720H120Zm60-500h600v-160H180v160Zm220 220h160v-160H400v160Zm0 220h160v-160H400v160ZM180-400h160v-160H180v160Zm440 0h160v-160H620v160ZM180-180h160v-160H180v160Zm440 0h160v-160H620v160Z\"/>\n",
              "  </svg>\n",
              "    </button>\n",
              "\n",
              "  <style>\n",
              "    .colab-df-container {\n",
              "      display:flex;\n",
              "      gap: 12px;\n",
              "    }\n",
              "\n",
              "    .colab-df-convert {\n",
              "      background-color: #E8F0FE;\n",
              "      border: none;\n",
              "      border-radius: 50%;\n",
              "      cursor: pointer;\n",
              "      display: none;\n",
              "      fill: #1967D2;\n",
              "      height: 32px;\n",
              "      padding: 0 0 0 0;\n",
              "      width: 32px;\n",
              "    }\n",
              "\n",
              "    .colab-df-convert:hover {\n",
              "      background-color: #E2EBFA;\n",
              "      box-shadow: 0px 1px 2px rgba(60, 64, 67, 0.3), 0px 1px 3px 1px rgba(60, 64, 67, 0.15);\n",
              "      fill: #174EA6;\n",
              "    }\n",
              "\n",
              "    .colab-df-buttons div {\n",
              "      margin-bottom: 4px;\n",
              "    }\n",
              "\n",
              "    [theme=dark] .colab-df-convert {\n",
              "      background-color: #3B4455;\n",
              "      fill: #D2E3FC;\n",
              "    }\n",
              "\n",
              "    [theme=dark] .colab-df-convert:hover {\n",
              "      background-color: #434B5C;\n",
              "      box-shadow: 0px 1px 3px 1px rgba(0, 0, 0, 0.15);\n",
              "      filter: drop-shadow(0px 1px 2px rgba(0, 0, 0, 0.3));\n",
              "      fill: #FFFFFF;\n",
              "    }\n",
              "  </style>\n",
              "\n",
              "    <script>\n",
              "      const buttonEl =\n",
              "        document.querySelector('#df-bf21f8d9-648f-451a-ba51-2df4a7eb6507 button.colab-df-convert');\n",
              "      buttonEl.style.display =\n",
              "        google.colab.kernel.accessAllowed ? 'block' : 'none';\n",
              "\n",
              "      async function convertToInteractive(key) {\n",
              "        const element = document.querySelector('#df-bf21f8d9-648f-451a-ba51-2df4a7eb6507');\n",
              "        const dataTable =\n",
              "          await google.colab.kernel.invokeFunction('convertToInteractive',\n",
              "                                                    [key], {});\n",
              "        if (!dataTable) return;\n",
              "\n",
              "        const docLinkHtml = 'Like what you see? Visit the ' +\n",
              "          '<a target=\"_blank\" href=https://colab.research.google.com/notebooks/data_table.ipynb>data table notebook</a>'\n",
              "          + ' to learn more about interactive tables.';\n",
              "        element.innerHTML = '';\n",
              "        dataTable['output_type'] = 'display_data';\n",
              "        await google.colab.output.renderOutput(dataTable, element);\n",
              "        const docLink = document.createElement('div');\n",
              "        docLink.innerHTML = docLinkHtml;\n",
              "        element.appendChild(docLink);\n",
              "      }\n",
              "    </script>\n",
              "  </div>\n",
              "\n",
              "\n",
              "<div id=\"df-3b997415-4798-48e0-af4a-ab052eddb1ba\">\n",
              "  <button class=\"colab-df-quickchart\" onclick=\"quickchart('df-3b997415-4798-48e0-af4a-ab052eddb1ba')\"\n",
              "            title=\"Suggest charts\"\n",
              "            style=\"display:none;\">\n",
              "\n",
              "<svg xmlns=\"http://www.w3.org/2000/svg\" height=\"24px\"viewBox=\"0 0 24 24\"\n",
              "     width=\"24px\">\n",
              "    <g>\n",
              "        <path d=\"M19 3H5c-1.1 0-2 .9-2 2v14c0 1.1.9 2 2 2h14c1.1 0 2-.9 2-2V5c0-1.1-.9-2-2-2zM9 17H7v-7h2v7zm4 0h-2V7h2v10zm4 0h-2v-4h2v4z\"/>\n",
              "    </g>\n",
              "</svg>\n",
              "  </button>\n",
              "\n",
              "<style>\n",
              "  .colab-df-quickchart {\n",
              "      --bg-color: #E8F0FE;\n",
              "      --fill-color: #1967D2;\n",
              "      --hover-bg-color: #E2EBFA;\n",
              "      --hover-fill-color: #174EA6;\n",
              "      --disabled-fill-color: #AAA;\n",
              "      --disabled-bg-color: #DDD;\n",
              "  }\n",
              "\n",
              "  [theme=dark] .colab-df-quickchart {\n",
              "      --bg-color: #3B4455;\n",
              "      --fill-color: #D2E3FC;\n",
              "      --hover-bg-color: #434B5C;\n",
              "      --hover-fill-color: #FFFFFF;\n",
              "      --disabled-bg-color: #3B4455;\n",
              "      --disabled-fill-color: #666;\n",
              "  }\n",
              "\n",
              "  .colab-df-quickchart {\n",
              "    background-color: var(--bg-color);\n",
              "    border: none;\n",
              "    border-radius: 50%;\n",
              "    cursor: pointer;\n",
              "    display: none;\n",
              "    fill: var(--fill-color);\n",
              "    height: 32px;\n",
              "    padding: 0;\n",
              "    width: 32px;\n",
              "  }\n",
              "\n",
              "  .colab-df-quickchart:hover {\n",
              "    background-color: var(--hover-bg-color);\n",
              "    box-shadow: 0 1px 2px rgba(60, 64, 67, 0.3), 0 1px 3px 1px rgba(60, 64, 67, 0.15);\n",
              "    fill: var(--button-hover-fill-color);\n",
              "  }\n",
              "\n",
              "  .colab-df-quickchart-complete:disabled,\n",
              "  .colab-df-quickchart-complete:disabled:hover {\n",
              "    background-color: var(--disabled-bg-color);\n",
              "    fill: var(--disabled-fill-color);\n",
              "    box-shadow: none;\n",
              "  }\n",
              "\n",
              "  .colab-df-spinner {\n",
              "    border: 2px solid var(--fill-color);\n",
              "    border-color: transparent;\n",
              "    border-bottom-color: var(--fill-color);\n",
              "    animation:\n",
              "      spin 1s steps(1) infinite;\n",
              "  }\n",
              "\n",
              "  @keyframes spin {\n",
              "    0% {\n",
              "      border-color: transparent;\n",
              "      border-bottom-color: var(--fill-color);\n",
              "      border-left-color: var(--fill-color);\n",
              "    }\n",
              "    20% {\n",
              "      border-color: transparent;\n",
              "      border-left-color: var(--fill-color);\n",
              "      border-top-color: var(--fill-color);\n",
              "    }\n",
              "    30% {\n",
              "      border-color: transparent;\n",
              "      border-left-color: var(--fill-color);\n",
              "      border-top-color: var(--fill-color);\n",
              "      border-right-color: var(--fill-color);\n",
              "    }\n",
              "    40% {\n",
              "      border-color: transparent;\n",
              "      border-right-color: var(--fill-color);\n",
              "      border-top-color: var(--fill-color);\n",
              "    }\n",
              "    60% {\n",
              "      border-color: transparent;\n",
              "      border-right-color: var(--fill-color);\n",
              "    }\n",
              "    80% {\n",
              "      border-color: transparent;\n",
              "      border-right-color: var(--fill-color);\n",
              "      border-bottom-color: var(--fill-color);\n",
              "    }\n",
              "    90% {\n",
              "      border-color: transparent;\n",
              "      border-bottom-color: var(--fill-color);\n",
              "    }\n",
              "  }\n",
              "</style>\n",
              "\n",
              "  <script>\n",
              "    async function quickchart(key) {\n",
              "      const quickchartButtonEl =\n",
              "        document.querySelector('#' + key + ' button');\n",
              "      quickchartButtonEl.disabled = true;  // To prevent multiple clicks.\n",
              "      quickchartButtonEl.classList.add('colab-df-spinner');\n",
              "      try {\n",
              "        const charts = await google.colab.kernel.invokeFunction(\n",
              "            'suggestCharts', [key], {});\n",
              "      } catch (error) {\n",
              "        console.error('Error during call to suggestCharts:', error);\n",
              "      }\n",
              "      quickchartButtonEl.classList.remove('colab-df-spinner');\n",
              "      quickchartButtonEl.classList.add('colab-df-quickchart-complete');\n",
              "    }\n",
              "    (() => {\n",
              "      let quickchartButtonEl =\n",
              "        document.querySelector('#df-3b997415-4798-48e0-af4a-ab052eddb1ba button');\n",
              "      quickchartButtonEl.style.display =\n",
              "        google.colab.kernel.accessAllowed ? 'block' : 'none';\n",
              "    })();\n",
              "  </script>\n",
              "</div>\n",
              "\n",
              "    </div>\n",
              "  </div>\n"
            ],
            "application/vnd.google.colaboratory.intrinsic+json": {
              "type": "dataframe",
              "variable_name": "candidate_items",
              "summary": "{\n  \"name\": \"candidate_items\",\n  \"rows\": 4990,\n  \"fields\": [\n    {\n      \"column\": \"item_id\",\n      \"properties\": {\n        \"dtype\": \"number\",\n        \"std\": 1440,\n        \"min\": 1,\n        \"max\": 4990,\n        \"num_unique_values\": 4990,\n        \"samples\": [\n          4728,\n          2317,\n          3670\n        ],\n        \"semantic_type\": \"\",\n        \"description\": \"\"\n      }\n    }\n  ]\n}"
            }
          },
          "metadata": {},
          "execution_count": 10
        }
      ],
      "source": [
        "candidate_items = pd.read_csv('drive/MyDrive/recsys2022-main/dataset/processed_data/candidate_items_mapped.csv')\n",
        "candidate_items.head()"
      ]
    },
    {
      "cell_type": "code",
      "execution_count": 11,
      "id": "5a5a5fe6",
      "metadata": {
        "execution": {
          "iopub.execute_input": "2022-06-13T15:46:54.073629Z",
          "iopub.status.busy": "2022-06-13T15:46:54.073351Z",
          "iopub.status.idle": "2022-06-13T15:46:54.082020Z",
          "shell.execute_reply": "2022-06-13T15:46:54.081162Z"
        },
        "id": "5a5a5fe6",
        "outputId": "b04da64d-c93c-4d33-8643-f4d790d6a694",
        "papermill": {
          "duration": 0.029847,
          "end_time": "2022-06-13T15:46:54.083735",
          "exception": false,
          "start_time": "2022-06-13T15:46:54.053888",
          "status": "completed"
        },
        "tags": [],
        "colab": {
          "base_uri": "https://localhost:8080/"
        }
      },
      "outputs": [
        {
          "output_type": "execute_result",
          "data": {
            "text/plain": [
              "(23692, 64)"
            ]
          },
          "metadata": {},
          "execution_count": 11
        }
      ],
      "source": [
        "embedding_weights = np.load(\n",
        "    'drive/MyDrive/recsys2022-main/dataset/processed_data/compressed_features.npy'\n",
        "    )\n",
        "import os\n",
        "import scipy.sparse as sps\n",
        "def get_ICM(files_directory=\"drive/MyDrive/recsys2022-main/dataset/processed_data\"):\n",
        "    df_icm = pd.read_csv(filepath_or_buffer=os.path.join(files_directory, 'simplified_features_and_categories_30.csv'), sep=',', header=0)\n",
        "\n",
        "    item_id_list = df_icm['item_id'].values\n",
        "    feat_id_list = df_icm['feature_idx'].values\n",
        "    rating_id_list = np.ones_like(feat_id_list)\n",
        "    ICM_matrix = sps.csr_matrix((rating_id_list, (item_id_list, feat_id_list)))\n",
        "    return ICM_matrix\n",
        "\n",
        "ICM=get_ICM()\n",
        "embedding_weights.shape"
      ]
    },
    {
      "cell_type": "code",
      "execution_count": 12,
      "id": "972a586b",
      "metadata": {
        "execution": {
          "iopub.execute_input": "2022-06-13T15:46:54.303794Z",
          "iopub.status.busy": "2022-06-13T15:46:54.303548Z",
          "iopub.status.idle": "2022-06-13T15:47:34.265070Z",
          "shell.execute_reply": "2022-06-13T15:47:34.264280Z"
        },
        "id": "972a586b",
        "papermill": {
          "duration": 39.983661,
          "end_time": "2022-06-13T15:47:34.267146",
          "exception": false,
          "start_time": "2022-06-13T15:46:54.283485",
          "status": "completed"
        },
        "tags": []
      },
      "outputs": [],
      "source": [
        "result =  pd.read_csv(\"drive/MyDrive/recsys2022-main/dataset/processed_data/macro_feats_NN.csv\",parse_dates=[\"date_session_starting\"],\n",
        "     infer_datetime_format=True)\n",
        "\n",
        "\n",
        "\n",
        "result[\"item_id\"]=result[\"item_id\"].map(ast.literal_eval)\n",
        "result[\"timedelta\"]=result[\"timedelta\"].map(ast.literal_eval)\n",
        "\n",
        "def is_reseen(x):\n",
        "    #print(x)\n",
        "    seen={}\n",
        "    res=[]\n",
        "    for item in x:\n",
        "        if item in seen:\n",
        "            res.append(seen[item])\n",
        "            seen[item]+=1\n",
        "        else:\n",
        "            res.append(0)\n",
        "            seen[item]=1\n",
        "    return res\n",
        "\n",
        "def percentage_seen(x):\n",
        "    size=len(x)\n",
        "    return [(i+1)/size for i in range(size)]"
      ]
    },
    {
      "cell_type": "code",
      "execution_count": 13,
      "id": "ff57e158",
      "metadata": {
        "execution": {
          "iopub.execute_input": "2022-06-13T15:47:34.307373Z",
          "iopub.status.busy": "2022-06-13T15:47:34.307065Z",
          "iopub.status.idle": "2022-06-13T15:47:50.902832Z",
          "shell.execute_reply": "2022-06-13T15:47:50.902005Z"
        },
        "id": "ff57e158",
        "outputId": "ce63ff17-623d-4345-deb9-d2736e22c8a7",
        "papermill": {
          "duration": 16.618572,
          "end_time": "2022-06-13T15:47:50.904973",
          "exception": false,
          "start_time": "2022-06-13T15:47:34.286401",
          "status": "completed"
        },
        "tags": [],
        "colab": {
          "base_uri": "https://localhost:8080/",
          "height": 81,
          "referenced_widgets": [
            "9cd13a43c1244fb688bda60cdb5d2b56",
            "a7c36ecc279b41b1ad68a198b7dab0b0",
            "0318aa2e9dd24ca89fdf6bc7a3033446",
            "b7a02a13b94242359a2c9b4973569147",
            "efacebecf64b4259bbfb79ba6c58d9a5",
            "825c44b72f6041d98d38e428a115f239",
            "b0974ec673a54913adb047a1cec822a2",
            "df8cf27c37444767877d31c8ccf32245",
            "8feae0baf4c94aa588d6d996b7a3b901",
            "2a6cdd2c96564a15a8832dca11f34520",
            "d4b1a0d180dc482789c078dd8dedaf9b",
            "d56e87205cf6484e96f6f3c105a115b6",
            "64dae1ec2bcf4355a7b08ced3fd5e888",
            "a785f76c20644a2eab5c3bc07c190747",
            "20a721ceaa11436e92130fed54c4fb4f",
            "72288850728c45539435fe1a6dc30f69",
            "c3c8b9fa51b1471aadee95045b79c3ed",
            "e151d5135202488786523d98ff60d863",
            "1106dbc1186141e8abc919323c16669c",
            "d1b2d24df9084d89bb020bda335878fe",
            "b28bc4678907460682a9f9e0f1915e1c",
            "91c98cd509b044b79d6f07a124934ed3"
          ]
        }
      },
      "outputs": [
        {
          "output_type": "display_data",
          "data": {
            "text/plain": [
              "  0%|          | 0/1000000 [00:00<?, ?it/s]"
            ],
            "application/vnd.jupyter.widget-view+json": {
              "version_major": 2,
              "version_minor": 0,
              "model_id": "9cd13a43c1244fb688bda60cdb5d2b56"
            }
          },
          "metadata": {}
        },
        {
          "output_type": "display_data",
          "data": {
            "text/plain": [
              "  0%|          | 0/1000000 [00:00<?, ?it/s]"
            ],
            "application/vnd.jupyter.widget-view+json": {
              "version_major": 2,
              "version_minor": 0,
              "model_id": "d56e87205cf6484e96f6f3c105a115b6"
            }
          },
          "metadata": {}
        }
      ],
      "source": [
        "x_reseen = tf.keras.preprocessing.sequence.pad_sequences(\n",
        "    result['item_id'].progress_apply(is_reseen),\n",
        "    padding='post',\n",
        "    maxlen=100,\n",
        "    dtype=\"int16\"\n",
        ")\n",
        "x_percentage_seen = tf.keras.preprocessing.sequence.pad_sequences(\n",
        "    result['item_id'].progress_apply(percentage_seen),\n",
        "    padding='post',\n",
        "    maxlen=100,\n",
        "    dtype='float16',\n",
        ")"
      ]
    },
    {
      "cell_type": "code",
      "execution_count": 14,
      "id": "1bb85465",
      "metadata": {
        "execution": {
          "iopub.execute_input": "2022-06-13T15:47:50.946427Z",
          "iopub.status.busy": "2022-06-13T15:47:50.946120Z",
          "iopub.status.idle": "2022-06-13T15:47:50.954799Z",
          "shell.execute_reply": "2022-06-13T15:47:50.953838Z"
        },
        "id": "1bb85465",
        "papermill": {
          "duration": 0.031192,
          "end_time": "2022-06-13T15:47:50.956707",
          "exception": false,
          "start_time": "2022-06-13T15:47:50.925515",
          "status": "completed"
        },
        "tags": []
      },
      "outputs": [],
      "source": [
        "def similarity_with_preceding(x):\n",
        "    if len(x)==1:\n",
        "        return np.array([0])\n",
        "    feats=embedding_weights[x]\n",
        "    #normalize\n",
        "    feats=np.divide(feats,np.linalg.norm(feats,axis=1).reshape((-1,1)))\n",
        "    feats_copy=feats.copy()\n",
        "    feats_copy=np.roll(feats_copy,1,axis=0)\n",
        "    feats_copy[0,:]=0\n",
        "    prod=np.multiply(feats,feats_copy).sum(axis=1)\n",
        "    return prod\n",
        "\n",
        "\n",
        "\n",
        "def similarity_feats_with_preceding(x):\n",
        "    if len(x)==1:\n",
        "        return np.array([0])\n",
        "    feats=ICM[x].toarray()\n",
        "    #normalize\n",
        "    feats=np.divide(feats,np.linalg.norm(feats,axis=1).reshape((-1,1)))\n",
        "    feats_copy=feats.copy()\n",
        "    feats_copy=np.roll(feats_copy,1,axis=0)\n",
        "    feats_copy[0,:]=0\n",
        "    prod=np.multiply(feats,feats_copy).sum(axis=1)\n",
        "    return prod"
      ]
    },
    {
      "cell_type": "code",
      "execution_count": 15,
      "id": "94f3c622",
      "metadata": {
        "execution": {
          "iopub.execute_input": "2022-06-13T15:47:50.995998Z",
          "iopub.status.busy": "2022-06-13T15:47:50.995567Z",
          "iopub.status.idle": "2022-06-13T15:51:32.773031Z",
          "shell.execute_reply": "2022-06-13T15:51:32.772159Z"
        },
        "id": "94f3c622",
        "outputId": "12bf02e0-ff91-4e1c-f62b-d575acaca273",
        "papermill": {
          "duration": 221.799486,
          "end_time": "2022-06-13T15:51:32.775130",
          "exception": false,
          "start_time": "2022-06-13T15:47:50.975644",
          "status": "completed"
        },
        "tags": [],
        "colab": {
          "base_uri": "https://localhost:8080/",
          "height": 81,
          "referenced_widgets": [
            "a7d1dbf7ef49467cbb944b8a61fa0530",
            "63464f1247f049469018b451ab82821b",
            "9b1247a0bd1047438ec8b495ee1d2002",
            "369193df307349789e60b517a2300508",
            "bee17a9c7aa54d1290d0bbb2c935672f",
            "4b3b742d680b47d6988584c9512d5558",
            "078199161f614cf6bc8b74b33c9900e0",
            "701e8c37cf9d4d9a9efed3328c669628",
            "30f4a0636b0c4bacbdfba08e560cd310",
            "882bb98b5ce744089748068e675c77eb",
            "14bec1a5600941fe9285e881ae6c3913",
            "f50eba6b3c4d4e009cec4daef3bcd9cd",
            "9414fcf206be4be7a9962f4434bbd468",
            "668de5a28091431c8524558b8a0a7e0f",
            "6042eff804fb43ee8919afa28de6830a",
            "1ffac4f430404fa89bf7551a0b21276d",
            "f3929bbe353a4a41923d75310c313862",
            "ce36949c8c2f4f8ea4aee98caea04006",
            "8f72c9570bfd45b3994f9805790a394c",
            "59870269cb76450cb18f91f8e4b3b34f",
            "f318f4fa7394404fab82de6fff26ecc9",
            "e4ff7ebf3ea042079ebb1d4017cdf755"
          ]
        }
      },
      "outputs": [
        {
          "output_type": "display_data",
          "data": {
            "text/plain": [
              "  0%|          | 0/1000000 [00:00<?, ?it/s]"
            ],
            "application/vnd.jupyter.widget-view+json": {
              "version_major": 2,
              "version_minor": 0,
              "model_id": "a7d1dbf7ef49467cbb944b8a61fa0530"
            }
          },
          "metadata": {}
        },
        {
          "output_type": "display_data",
          "data": {
            "text/plain": [
              "  0%|          | 0/1000000 [00:00<?, ?it/s]"
            ],
            "application/vnd.jupyter.widget-view+json": {
              "version_major": 2,
              "version_minor": 0,
              "model_id": "f50eba6b3c4d4e009cec4daef3bcd9cd"
            }
          },
          "metadata": {}
        }
      ],
      "source": [
        "x_simils = tf.keras.preprocessing.sequence.pad_sequences(\n",
        "    result['item_id'].progress_apply(similarity_with_preceding\n",
        "    ),\n",
        "    padding='post',\n",
        "    maxlen=100,\n",
        "    dtype='float16',\n",
        ")\n",
        "x_simils_feats = tf.keras.preprocessing.sequence.pad_sequences(\n",
        "    result['item_id'].progress_apply(similarity_feats_with_preceding\n",
        "    ),\n",
        "    padding='post',\n",
        "    maxlen=100,\n",
        "    dtype='float16',\n",
        ")"
      ]
    },
    {
      "cell_type": "code",
      "execution_count": 16,
      "id": "d62f6260",
      "metadata": {
        "execution": {
          "iopub.execute_input": "2022-06-13T15:51:34.501280Z",
          "iopub.status.busy": "2022-06-13T15:51:34.500969Z",
          "iopub.status.idle": "2022-06-13T15:51:34.570271Z",
          "shell.execute_reply": "2022-06-13T15:51:34.569406Z"
        },
        "id": "d62f6260",
        "papermill": {
          "duration": 0.092553,
          "end_time": "2022-06-13T15:51:34.572311",
          "exception": false,
          "start_time": "2022-06-13T15:51:34.479758",
          "status": "completed"
        },
        "tags": []
      },
      "outputs": [],
      "source": [
        "static_features = [\n",
        "                   'date_hour_sin',\n",
        "                   'date_hour_cos',\n",
        "                   'date_day_sin',\n",
        "                   'date_day_cos',\n",
        "                   'date_month_sin',\n",
        "                   'date_month_cos',\n",
        "                   'date_hour_sin_ending',\n",
        "                   'date_hour_cos_ending',\n",
        "                   'date_day_sin_ending',\n",
        "                   'date_day_cos_ending',\n",
        "                   'date_month_sin_ending',\n",
        "                   'date_month_cos_ending',\n",
        "                   'date_year_2020',\n",
        "                   'length_of_session_seconds',\n",
        "                   'avg_time_spent_per_item_seconds',\n",
        "                   'variance_time_spent_per_item_seconds',\n",
        "                   'n_seen_items',\n",
        "                   'n_unique_items',\n",
        "                   'user_went_afk',\n",
        "                   'is_weekend',\n",
        "                   'is_hot_hour',\n",
        "                   'is_night',\n",
        "                   'is_christmas_time',\n",
        "                   'is_black_friday',\n",
        "                   'session_similarity',\n",
        "                   'session_similarity_uniques',\n",
        "                   'session_similarity_feats',\n",
        "                   'session_similarity_feats_uniques'\n",
        "]\n",
        "for col in ['length_of_session_seconds','avg_time_spent_per_item_seconds','variance_time_spent_per_item_seconds']:\n",
        "    result[col]=np.log10(result[col]+1)\n",
        "for col in ['n_seen_items','n_unique_items']:\n",
        "    result[col]=result[col]/100\n",
        "item_related_features = [\n",
        "                         'timedelta'\n",
        "]"
      ]
    },
    {
      "cell_type": "code",
      "execution_count": 17,
      "id": "534beafc",
      "metadata": {
        "execution": {
          "iopub.execute_input": "2022-06-13T15:51:34.615718Z",
          "iopub.status.busy": "2022-06-13T15:51:34.615062Z",
          "iopub.status.idle": "2022-06-13T15:51:34.917476Z",
          "shell.execute_reply": "2022-06-13T15:51:34.916559Z"
        },
        "id": "534beafc",
        "papermill": {
          "duration": 0.325499,
          "end_time": "2022-06-13T15:51:34.919304",
          "exception": false,
          "start_time": "2022-06-13T15:51:34.593805",
          "status": "completed"
        },
        "tags": []
      },
      "outputs": [],
      "source": [
        "if just_checking_integrity:\n",
        "    train_purchases = pd.read_csv(\n",
        "    'drive/MyDrive/recsys2022-main/dataset/processed_data/train_purchases_mapped.csv',\n",
        "    usecols = ['session_id', 'item_id'],\n",
        "    nrows=len(result)\n",
        "    )\n",
        "else:\n",
        "    train_purchases = pd.read_csv(\n",
        "    'drive/MyDrive/recsys2022-main/dataset/processed_data/train_purchases_mapped.csv',\n",
        "    usecols = ['session_id', 'item_id'],\n",
        "    )\n"
      ]
    },
    {
      "cell_type": "code",
      "execution_count": 18,
      "id": "2a7adf88",
      "metadata": {
        "execution": {
          "iopub.execute_input": "2022-06-13T15:51:34.962544Z",
          "iopub.status.busy": "2022-06-13T15:51:34.961683Z",
          "iopub.status.idle": "2022-06-13T15:51:35.110044Z",
          "shell.execute_reply": "2022-06-13T15:51:35.109135Z"
        },
        "id": "2a7adf88",
        "papermill": {
          "duration": 0.17217,
          "end_time": "2022-06-13T15:51:35.112494",
          "exception": false,
          "start_time": "2022-06-13T15:51:34.940324",
          "status": "completed"
        },
        "tags": []
      },
      "outputs": [],
      "source": [
        "train_purchases.sort_values(by=\"session_id\",inplace=True)"
      ]
    },
    {
      "cell_type": "code",
      "execution_count": 19,
      "id": "1388d6d3",
      "metadata": {
        "execution": {
          "iopub.execute_input": "2022-06-13T15:51:35.155237Z",
          "iopub.status.busy": "2022-06-13T15:51:35.154928Z",
          "iopub.status.idle": "2022-06-13T15:51:39.396817Z",
          "shell.execute_reply": "2022-06-13T15:51:39.395855Z"
        },
        "id": "1388d6d3",
        "papermill": {
          "duration": 4.265437,
          "end_time": "2022-06-13T15:51:39.398888",
          "exception": false,
          "start_time": "2022-06-13T15:51:35.133451",
          "status": "completed"
        },
        "tags": []
      },
      "outputs": [],
      "source": [
        "x_ids = tf.keras.preprocessing.sequence.pad_sequences(\n",
        "    result['item_id'],\n",
        "    padding='post',\n",
        "    maxlen=100\n",
        ")"
      ]
    },
    {
      "cell_type": "code",
      "execution_count": 20,
      "id": "22f15072",
      "metadata": {
        "execution": {
          "iopub.execute_input": "2022-06-13T15:51:39.449019Z",
          "iopub.status.busy": "2022-06-13T15:51:39.447546Z",
          "iopub.status.idle": "2022-06-13T15:51:43.704762Z",
          "shell.execute_reply": "2022-06-13T15:51:43.703929Z"
        },
        "id": "22f15072",
        "outputId": "8a89df6f-03c2-46e2-89d4-b5e80c2e3ba9",
        "papermill": {
          "duration": 4.285489,
          "end_time": "2022-06-13T15:51:43.706848",
          "exception": false,
          "start_time": "2022-06-13T15:51:39.421359",
          "status": "completed"
        },
        "tags": [],
        "colab": {
          "base_uri": "https://localhost:8080/"
        }
      },
      "outputs": [
        {
          "output_type": "stream",
          "name": "stdout",
          "text": [
            "Padding timedelta\n"
          ]
        }
      ],
      "source": [
        "for item_related_feature in item_related_features:\n",
        "  print('Padding {}'.format(item_related_feature))\n",
        "  x_item_related = tf.keras.preprocessing.sequence.pad_sequences(\n",
        "      result[item_related_feature],\n",
        "      dtype='float16',\n",
        "      maxlen=100,\n",
        "      padding='post'\n",
        "    )"
      ]
    },
    {
      "cell_type": "code",
      "execution_count": 21,
      "id": "f6e35447",
      "metadata": {
        "execution": {
          "iopub.execute_input": "2022-06-13T15:51:43.750944Z",
          "iopub.status.busy": "2022-06-13T15:51:43.750637Z",
          "iopub.status.idle": "2022-06-13T15:51:43.754631Z",
          "shell.execute_reply": "2022-06-13T15:51:43.753840Z"
        },
        "id": "f6e35447",
        "papermill": {
          "duration": 0.02755,
          "end_time": "2022-06-13T15:51:43.756240",
          "exception": false,
          "start_time": "2022-06-13T15:51:43.728690",
          "status": "completed"
        },
        "tags": []
      },
      "outputs": [],
      "source": [
        "if len(item_related_features) == 1:\n",
        "    x_item_related = np.expand_dims(x_item_related, axis=-1)"
      ]
    },
    {
      "cell_type": "code",
      "execution_count": 22,
      "id": "f884d292",
      "metadata": {
        "execution": {
          "iopub.execute_input": "2022-06-13T15:51:43.893379Z",
          "iopub.status.busy": "2022-06-13T15:51:43.893107Z",
          "iopub.status.idle": "2022-06-13T15:51:43.896971Z",
          "shell.execute_reply": "2022-06-13T15:51:43.896229Z"
        },
        "id": "f884d292",
        "papermill": {
          "duration": 0.026709,
          "end_time": "2022-06-13T15:51:43.898618",
          "exception": false,
          "start_time": "2022-06-13T15:51:43.871909",
          "status": "completed"
        },
        "tags": []
      },
      "outputs": [],
      "source": [
        "y = train_purchases['item_id'].to_numpy()"
      ]
    },
    {
      "cell_type": "code",
      "execution_count": 23,
      "id": "1a4a0af6",
      "metadata": {
        "execution": {
          "iopub.execute_input": "2022-06-13T15:51:43.941569Z",
          "iopub.status.busy": "2022-06-13T15:51:43.941317Z",
          "iopub.status.idle": "2022-06-13T15:51:44.021922Z",
          "shell.execute_reply": "2022-06-13T15:51:44.021034Z"
        },
        "id": "1a4a0af6",
        "papermill": {
          "duration": 0.104479,
          "end_time": "2022-06-13T15:51:44.024064",
          "exception": false,
          "start_time": "2022-06-13T15:51:43.919585",
          "status": "completed"
        },
        "tags": []
      },
      "outputs": [],
      "source": [
        "y_features = embedding_weights[y]"
      ]
    },
    {
      "cell_type": "code",
      "execution_count": 24,
      "id": "f22f3984",
      "metadata": {
        "execution": {
          "iopub.execute_input": "2022-06-13T15:51:44.067560Z",
          "iopub.status.busy": "2022-06-13T15:51:44.067172Z",
          "iopub.status.idle": "2022-06-13T15:51:45.449853Z",
          "shell.execute_reply": "2022-06-13T15:51:45.449013Z"
        },
        "id": "f22f3984",
        "papermill": {
          "duration": 1.406532,
          "end_time": "2022-06-13T15:51:45.451908",
          "exception": false,
          "start_time": "2022-06-13T15:51:44.045376",
          "status": "completed"
        },
        "tags": []
      },
      "outputs": [],
      "source": [
        "x_ids_train, x_ids_test,\\\n",
        "x_reseen_train, x_reseen_test,\\\n",
        "x_simils_train,x_simils_test,\\\n",
        "x_simils_feats_train,x_simils_feats_test,\\\n",
        "x_percentage_seen_train,x_percentage_seen_test,\\\n",
        "x_static_train, x_static_test, \\\n",
        "x_item_related_train, x_item_related_test, \\\n",
        "y_train, y_test, \\\n",
        "y_features_train, y_features_test = train_test_split(\n",
        "    x_ids,\n",
        "    x_reseen,\n",
        "    x_simils,\n",
        "    x_simils_feats,\n",
        "    x_percentage_seen,\n",
        "    result[static_features].to_numpy(),\n",
        "    x_item_related,\n",
        "    y,\n",
        "    y_features,\n",
        "    test_size=0.2,\n",
        "    random_state=1234\n",
        "    )\n"
      ]
    },
    {
      "cell_type": "code",
      "execution_count": 25,
      "id": "53bb5588",
      "metadata": {
        "execution": {
          "iopub.execute_input": "2022-06-13T15:51:45.496227Z",
          "iopub.status.busy": "2022-06-13T15:51:45.495636Z",
          "iopub.status.idle": "2022-06-13T15:51:45.901985Z",
          "shell.execute_reply": "2022-06-13T15:51:45.901153Z"
        },
        "id": "53bb5588",
        "outputId": "2e3bd6ca-fbd7-4998-ecfa-5979388a3aa3",
        "papermill": {
          "duration": 0.429915,
          "end_time": "2022-06-13T15:51:45.903962",
          "exception": false,
          "start_time": "2022-06-13T15:51:45.474047",
          "status": "completed"
        },
        "tags": [],
        "colab": {
          "base_uri": "https://localhost:8080/"
        }
      },
      "outputs": [
        {
          "output_type": "execute_result",
          "data": {
            "text/plain": [
              "54"
            ]
          },
          "metadata": {},
          "execution_count": 25
        }
      ],
      "source": [
        "del x_ids,x_reseen,x_simils,x_simils_feats,x_percentage_seen,result,x_item_related,y,y_features\n",
        "import gc\n",
        "gc.collect()"
      ]
    },
    {
      "cell_type": "markdown",
      "id": "9ca33062",
      "metadata": {
        "id": "9ca33062",
        "papermill": {
          "duration": 0.020763,
          "end_time": "2022-06-13T15:51:45.946343",
          "exception": false,
          "start_time": "2022-06-13T15:51:45.925580",
          "status": "completed"
        },
        "tags": []
      },
      "source": [
        "# Build Dataset"
      ]
    },
    {
      "cell_type": "code",
      "execution_count": 26,
      "id": "141d71da",
      "metadata": {
        "execution": {
          "iopub.execute_input": "2022-06-13T15:51:45.990114Z",
          "iopub.status.busy": "2022-06-13T15:51:45.989457Z",
          "iopub.status.idle": "2022-06-13T15:51:53.352858Z",
          "shell.execute_reply": "2022-06-13T15:51:53.351926Z"
        },
        "id": "141d71da",
        "outputId": "63ffdf9b-8fcc-4c53-ecae-0e72cb83a71a",
        "papermill": {
          "duration": 7.387675,
          "end_time": "2022-06-13T15:51:53.355423",
          "exception": false,
          "start_time": "2022-06-13T15:51:45.967748",
          "status": "completed"
        },
        "tags": [],
        "colab": {
          "base_uri": "https://localhost:8080/"
        }
      },
      "outputs": [
        {
          "output_type": "execute_result",
          "data": {
            "text/plain": [
              "0"
            ]
          },
          "metadata": {},
          "execution_count": 26
        }
      ],
      "source": [
        "\n",
        "train_set_complete = tf.data.Dataset.from_tensor_slices(\n",
        "    ((x_ids_train, x_reseen_train/100,x_percentage_seen_train,x_simils_train,x_simils_feats_train, x_item_related_train, x_static_train), (y_train, y_features_train))\n",
        "    ).batch(256,num_parallel_calls=tf.data.AUTOTUNE).prefetch(tf.data.AUTOTUNE).shuffle(1563, reshuffle_each_iteration=True)\n",
        "test_set_complete = tf.data.Dataset.from_tensor_slices(\n",
        "    ((x_ids_test, x_reseen_test/100, x_percentage_seen_test,x_simils_test,x_simils_feats_test, x_item_related_test, x_static_test), (y_test, y_features_test))\n",
        "    ).batch(256)\n",
        "gc.collect()"
      ]
    },
    {
      "cell_type": "code",
      "execution_count": 27,
      "id": "863af3e9",
      "metadata": {
        "execution": {
          "iopub.execute_input": "2022-06-13T15:51:53.428338Z",
          "iopub.status.busy": "2022-06-13T15:51:53.427947Z",
          "iopub.status.idle": "2022-06-13T15:51:53.432468Z",
          "shell.execute_reply": "2022-06-13T15:51:53.431541Z"
        },
        "papermill": {
          "duration": 0.045271,
          "end_time": "2022-06-13T15:51:53.436361",
          "exception": false,
          "start_time": "2022-06-13T15:51:53.391090",
          "status": "completed"
        },
        "tags": [],
        "id": "863af3e9"
      },
      "outputs": [],
      "source": [
        "shape=y_features_train.shape[1]"
      ]
    },
    {
      "cell_type": "code",
      "execution_count": 28,
      "id": "88a72605",
      "metadata": {
        "execution": {
          "iopub.execute_input": "2022-06-13T15:51:53.507961Z",
          "iopub.status.busy": "2022-06-13T15:51:53.507540Z",
          "iopub.status.idle": "2022-06-13T15:51:53.984954Z",
          "shell.execute_reply": "2022-06-13T15:51:53.984184Z"
        },
        "papermill": {
          "duration": 0.515709,
          "end_time": "2022-06-13T15:51:53.986832",
          "exception": false,
          "start_time": "2022-06-13T15:51:53.471123",
          "status": "completed"
        },
        "tags": [],
        "colab": {
          "base_uri": "https://localhost:8080/"
        },
        "id": "88a72605",
        "outputId": "0913b1e9-8cf8-42cf-f773-37ea4727a8cf"
      },
      "outputs": [
        {
          "output_type": "execute_result",
          "data": {
            "text/plain": [
              "0"
            ]
          },
          "metadata": {},
          "execution_count": 28
        }
      ],
      "source": [
        "del x_ids_train,x_reseen_train,x_simils_train,x_simils_feats_train,x_percentage_seen_train,x_item_related_train,y_train,y_features_train\n",
        "del x_ids_test,x_reseen_test,x_simils_test,x_simils_feats_test,x_percentage_seen_test,x_item_related_test,y_test,y_features_test\n",
        "gc.collect()"
      ]
    },
    {
      "cell_type": "code",
      "execution_count": 29,
      "id": "8b63b103",
      "metadata": {
        "execution": {
          "iopub.execute_input": "2022-06-13T15:51:54.033515Z",
          "iopub.status.busy": "2022-06-13T15:51:54.033136Z",
          "iopub.status.idle": "2022-06-13T15:51:54.038651Z",
          "shell.execute_reply": "2022-06-13T15:51:54.037938Z"
        },
        "id": "8b63b103",
        "outputId": "725457b6-d30f-4687-916a-459eb85cb0c2",
        "papermill": {
          "duration": 0.032112,
          "end_time": "2022-06-13T15:51:54.040457",
          "exception": false,
          "start_time": "2022-06-13T15:51:54.008345",
          "status": "completed"
        },
        "tags": [],
        "colab": {
          "base_uri": "https://localhost:8080/"
        }
      },
      "outputs": [
        {
          "output_type": "execute_result",
          "data": {
            "text/plain": [
              "((TensorSpec(shape=(None, 100), dtype=tf.int32, name=None),\n",
              "  TensorSpec(shape=(None, 100), dtype=tf.float64, name=None),\n",
              "  TensorSpec(shape=(None, 100), dtype=tf.float16, name=None),\n",
              "  TensorSpec(shape=(None, 100), dtype=tf.float16, name=None),\n",
              "  TensorSpec(shape=(None, 100), dtype=tf.float16, name=None),\n",
              "  TensorSpec(shape=(None, 100, 1), dtype=tf.float16, name=None),\n",
              "  TensorSpec(shape=(None, 28), dtype=tf.float64, name=None)),\n",
              " (TensorSpec(shape=(None,), dtype=tf.int64, name=None),\n",
              "  TensorSpec(shape=(None, 64), dtype=tf.float32, name=None)))"
            ]
          },
          "metadata": {},
          "execution_count": 29
        }
      ],
      "source": [
        "train_set_complete.element_spec"
      ]
    },
    {
      "cell_type": "code",
      "execution_count": 30,
      "id": "b21c0fba",
      "metadata": {
        "execution": {
          "iopub.execute_input": "2022-06-13T15:51:54.085044Z",
          "iopub.status.busy": "2022-06-13T15:51:54.084566Z",
          "iopub.status.idle": "2022-06-13T15:51:54.967540Z",
          "shell.execute_reply": "2022-06-13T15:51:54.966736Z"
        },
        "papermill": {
          "duration": 0.908109,
          "end_time": "2022-06-13T15:51:54.969686",
          "exception": false,
          "start_time": "2022-06-13T15:51:54.061577",
          "status": "completed"
        },
        "tags": [],
        "id": "b21c0fba"
      },
      "outputs": [],
      "source": [
        "embed_dim = 64  # Embedding size for each token\n",
        "maxlen = 100\n",
        "num_static = len(static_features)\n",
        "num_item_related = len(item_related_features)\n",
        "vocabulary_size = 23692 #max(train_purchases['item_id']) # Size of the vocabulary\n",
        "rnn_width = (512 - 128 - num_static - num_item_related - 4)//2\n",
        "mlp_width = 511\n",
        "mlp_depth = 2\n",
        "\n",
        "###### INPUT #####\n",
        "id_inputs = layers.Input(shape=(maxlen,), name='ids')\n",
        "item_related_inputs = layers.Input(shape=(maxlen, num_item_related), name='item_related_features')\n",
        "x_reseen_inputs = layers.Input(shape=(maxlen, 1), name='x_reseen_featurs')\n",
        "x_percentage_seen_inputs = layers.Input(shape=(maxlen, 1), name='x_percentage_seen')\n",
        "x_simils_inputs = layers.Input(shape=(maxlen, 1), name='x_similarities_embeddings')\n",
        "x_simils_feats_inputs = layers.Input(shape=(maxlen, 1), name='x_similarities_ICM')\n",
        "static_inputs = layers.Input(shape=(num_static,), name='static_features')\n",
        "\n",
        "##### MODEL DEFINITION #####\n",
        "\n",
        "learned_embedding = layers.Embedding(\n",
        "    input_dim=vocabulary_size,\n",
        "    output_dim=embed_dim,\n",
        "    mask_zero=True,\n",
        "    name='learned_embedding'\n",
        "    )(id_inputs)\n",
        "\n",
        "feature_embedding = layers.Embedding(\n",
        "    input_dim=embedding_weights.shape[0],\n",
        "    output_dim=embedding_weights.shape[1],\n",
        "    mask_zero=True,\n",
        "    trainable=False,\n",
        "    weights=[embedding_weights],\n",
        "    name='feature_embedding'\n",
        "    )(id_inputs)\n",
        "\n",
        "embedding = layers.Concatenate(\n",
        "    name='embedding'\n",
        ")([learned_embedding, feature_embedding])\n",
        "\n",
        "x_pre = embedding\n",
        "\n",
        "masked_item_related_inputs = item_related_inputs[:, :tf.shape(id_inputs)[-1], :]\n",
        "\n",
        "x_pre = layers.Concatenate()([x_pre, masked_item_related_inputs, x_reseen_inputs,x_percentage_seen_inputs,x_simils_inputs,x_simils_feats_inputs])\n",
        "\n",
        "x_post = layers.Bidirectional(layers.LSTM(\n",
        "    units=rnn_width,\n",
        "    return_sequences=False,\n",
        "    dropout=0.1,\n",
        "    #unroll=True,\n",
        "    name='recurrrent1'\n",
        "))(x_pre)\n",
        "\n",
        "x_pre = layers.GlobalAveragePooling1D()(x_pre)\n",
        "x_pre = layers.Concatenate()([x_post, x_pre, static_inputs])\n",
        "\n",
        "for layer in range(mlp_depth):\n",
        "    x_post = layers.BatchNormalization()(x_pre)\n",
        "    x_post = layers.Dropout(0.2)(x_post)\n",
        "    x_post = layers.Dense(units=mlp_width, activation='gelu')(x_post)\n",
        "    x_pre = layers.Add()([x_pre, x_post])\n",
        "\n",
        "##### PREDICTION DEFINITION #####\n",
        "\n",
        "outputs = layers.Dense(19021, activation='softmax', name='y')(x_pre)\n",
        "secondary_outputs = layers.Dense(\n",
        "    units=shape,\n",
        "    activation='tanh',\n",
        "    name='y_features'\n",
        "    )(x_pre)\n",
        "\n",
        "model_for_training= tf.keras.Model(\n",
        "    inputs=[id_inputs, x_reseen_inputs, x_percentage_seen_inputs,x_simils_inputs,x_simils_feats_inputs,item_related_inputs, static_inputs],\n",
        "    outputs=[outputs, secondary_outputs],\n",
        "    name=\"encodermodel_training\"\n",
        "    )\n",
        "\n",
        "\n",
        "model_for_training.compile(\n",
        "    optimizer=\"adamax\",\n",
        "    loss=[\n",
        "        lambda y_true, y_pred : tf.keras.losses.categorical_crossentropy(\n",
        "            tf.squeeze(tf.one_hot(tf.cast(y_true, dtype=tf.int32), 19020+1, axis=-1)),\n",
        "            y_pred,\n",
        "            label_smoothing=0.3\n",
        "            ),\n",
        "        'mse'\n",
        "    ],\n",
        "    loss_weights=[1, 1],\n",
        "    metrics=[\n",
        "            [\n",
        "            mrr_top_at(at=100)\n",
        "            ],\n",
        "            []\n",
        "            ]\n",
        "    )"
      ]
    },
    {
      "cell_type": "markdown",
      "id": "03ec1b76",
      "metadata": {
        "id": "03ec1b76",
        "papermill": {
          "duration": 0.021265,
          "end_time": "2022-06-13T15:51:55.013902",
          "exception": false,
          "start_time": "2022-06-13T15:51:54.992637",
          "status": "completed"
        },
        "tags": []
      },
      "source": [
        "# Plot"
      ]
    },
    {
      "cell_type": "markdown",
      "id": "50634bf8",
      "metadata": {
        "id": "50634bf8",
        "papermill": {
          "duration": 0.021133,
          "end_time": "2022-06-13T15:51:55.056367",
          "exception": false,
          "start_time": "2022-06-13T15:51:55.035234",
          "status": "completed"
        },
        "tags": []
      },
      "source": [
        "#Training"
      ]
    },
    {
      "cell_type": "code",
      "execution_count": 31,
      "id": "5deafa4d",
      "metadata": {
        "execution": {
          "iopub.execute_input": "2022-06-13T15:51:55.100603Z",
          "iopub.status.busy": "2022-06-13T15:51:55.099842Z",
          "iopub.status.idle": "2022-06-13T16:06:44.461121Z",
          "shell.execute_reply": "2022-06-13T16:06:44.460195Z"
        },
        "id": "5deafa4d",
        "outputId": "395a4e11-61cf-4363-e3bb-49b05b138f9e",
        "papermill": {
          "duration": 889.396889,
          "end_time": "2022-06-13T16:06:44.474620",
          "exception": false,
          "start_time": "2022-06-13T15:51:55.077731",
          "status": "completed"
        },
        "tags": [],
        "colab": {
          "base_uri": "https://localhost:8080/"
        }
      },
      "outputs": [
        {
          "output_type": "stream",
          "name": "stdout",
          "text": [
            "Epoch 1/100\n",
            "3125/3125 [==============================] - 137s 39ms/step - loss: 8.5547 - y_loss: 8.5258 - y_features_loss: 0.0288 - y_mrr_top: 0.0796 - val_loss: 8.0414 - val_y_loss: 8.0302 - val_y_features_loss: 0.0113 - val_y_mrr_top: 0.1235\n",
            "Epoch 2/100\n",
            "3125/3125 [==============================] - 67s 20ms/step - loss: 7.8864 - y_loss: 7.8750 - y_features_loss: 0.0114 - y_mrr_top: 0.1404 - val_loss: 7.8125 - val_y_loss: 7.8012 - val_y_features_loss: 0.0112 - val_y_mrr_top: 0.1544\n",
            "Epoch 3/100\n",
            "3125/3125 [==============================] - 67s 20ms/step - loss: 7.6455 - y_loss: 7.6341 - y_features_loss: 0.0115 - y_mrr_top: 0.1705 - val_loss: 7.7165 - val_y_loss: 7.7051 - val_y_features_loss: 0.0114 - val_y_mrr_top: 0.1715\n",
            "Epoch 4/100\n",
            "3125/3125 [==============================] - 66s 20ms/step - loss: 7.4827 - y_loss: 7.4712 - y_features_loss: 0.0115 - y_mrr_top: 0.1911 - val_loss: 7.6730 - val_y_loss: 7.6616 - val_y_features_loss: 0.0114 - val_y_mrr_top: 0.1803\n",
            "Epoch 5/100\n",
            "3125/3125 [==============================] - 65s 19ms/step - loss: 7.3555 - y_loss: 7.3439 - y_features_loss: 0.0115 - y_mrr_top: 0.2078 - val_loss: 7.6589 - val_y_loss: 7.6475 - val_y_features_loss: 0.0114 - val_y_mrr_top: 0.1859\n",
            "Epoch 6/100\n",
            "3125/3125 [==============================] - 65s 20ms/step - loss: 7.2465 - y_loss: 7.2349 - y_features_loss: 0.0116 - y_mrr_top: 0.2219 - val_loss: 7.6619 - val_y_loss: 7.6503 - val_y_features_loss: 0.0116 - val_y_mrr_top: 0.1893\n",
            "Epoch 7/100\n",
            "3125/3125 [==============================] - 66s 20ms/step - loss: 7.1508 - y_loss: 7.1391 - y_features_loss: 0.0116 - y_mrr_top: 0.2355 - val_loss: 7.6764 - val_y_loss: 7.6649 - val_y_features_loss: 0.0115 - val_y_mrr_top: 0.1909\n",
            "Epoch 8/100\n",
            "3125/3125 [==============================] - 65s 19ms/step - loss: 7.0637 - y_loss: 7.0521 - y_features_loss: 0.0117 - y_mrr_top: 0.2483 - val_loss: 7.7031 - val_y_loss: 7.6915 - val_y_features_loss: 0.0116 - val_y_mrr_top: 0.1922\n",
            "Epoch 9/100\n",
            "3125/3125 [==============================] - 64s 19ms/step - loss: 6.9840 - y_loss: 6.9723 - y_features_loss: 0.0117 - y_mrr_top: 0.2610 - val_loss: 7.7274 - val_y_loss: 7.7158 - val_y_features_loss: 0.0116 - val_y_mrr_top: 0.1924\n",
            "Epoch 10/100\n",
            "3125/3125 [==============================] - 65s 19ms/step - loss: 6.9096 - y_loss: 6.8979 - y_features_loss: 0.0117 - y_mrr_top: 0.2741 - val_loss: 7.7673 - val_y_loss: 7.7557 - val_y_features_loss: 0.0116 - val_y_mrr_top: 0.1918\n"
          ]
        },
        {
          "output_type": "execute_result",
          "data": {
            "text/plain": [
              "<keras.src.callbacks.History at 0x7ef873406320>"
            ]
          },
          "metadata": {},
          "execution_count": 31
        }
      ],
      "source": [
        "gc.collect()\n",
        "if just_checking_integrity:\n",
        "    n_epochs=2\n",
        "else:\n",
        "    n_epochs=100\n",
        "monitor='val_y_mrr_top'\n",
        "model_for_training.fit(\n",
        "    train_set_complete,\n",
        "    validation_data=test_set_complete,\n",
        "    epochs=n_epochs,\n",
        "    callbacks=[\n",
        "               tf.keras.callbacks.EarlyStopping(\n",
        "                  monitor=monitor,\n",
        "                  mode='max',\n",
        "                  patience=1,\n",
        "                  min_delta=0.0001,\n",
        "                  restore_best_weights=True,\n",
        "              ),\n",
        "         ]\n",
        "    )"
      ]
    },
    {
      "cell_type": "markdown",
      "id": "606adf29",
      "metadata": {
        "id": "606adf29",
        "papermill": {
          "duration": 0.022568,
          "end_time": "2022-06-13T16:06:44.519940",
          "exception": false,
          "start_time": "2022-06-13T16:06:44.497372",
          "status": "completed"
        },
        "tags": []
      },
      "source": [
        "# Prepare test predictions Leaderboard\n",
        "\n"
      ]
    },
    {
      "cell_type": "code",
      "execution_count": 32,
      "id": "c6a7d62e",
      "metadata": {
        "execution": {
          "iopub.execute_input": "2022-06-13T16:06:44.566987Z",
          "iopub.status.busy": "2022-06-13T16:06:44.566660Z",
          "iopub.status.idle": "2022-06-13T16:06:44.589899Z",
          "shell.execute_reply": "2022-06-13T16:06:44.589161Z"
        },
        "papermill": {
          "duration": 0.048993,
          "end_time": "2022-06-13T16:06:44.591607",
          "exception": false,
          "start_time": "2022-06-13T16:06:44.542614",
          "status": "completed"
        },
        "tags": [],
        "id": "c6a7d62e"
      },
      "outputs": [],
      "source": [
        "del train_set_complete\n",
        "del test_set_complete"
      ]
    },
    {
      "cell_type": "code",
      "execution_count": 33,
      "id": "e392d3ac",
      "metadata": {
        "execution": {
          "iopub.execute_input": "2022-06-13T16:06:45.230061Z",
          "iopub.status.busy": "2022-06-13T16:06:45.229746Z",
          "iopub.status.idle": "2022-06-13T16:06:47.447985Z",
          "shell.execute_reply": "2022-06-13T16:06:47.447136Z"
        },
        "id": "e392d3ac",
        "outputId": "ae968bdf-31ff-4e81-d2cd-8cdc1e55a02e",
        "papermill": {
          "duration": 2.244434,
          "end_time": "2022-06-13T16:06:47.450210",
          "exception": false,
          "start_time": "2022-06-13T16:06:45.205776",
          "status": "completed"
        },
        "tags": [],
        "colab": {
          "base_uri": "https://localhost:8080/"
        }
      },
      "outputs": [
        {
          "output_type": "execute_result",
          "data": {
            "text/plain": [
              "1214"
            ]
          },
          "metadata": {},
          "execution_count": 33
        }
      ],
      "source": [
        "temp=pd.read_csv(\"drive/MyDrive/recsys2022-main/dataset/processed_data/macro_feats_NN_leaderboard.csv\")\n",
        "temp[\"item_id\"]=temp[\"item_id\"].map(ast.literal_eval)\n",
        "temp[\"timedelta\"]=temp[\"timedelta\"].map(ast.literal_eval)\n",
        "\n",
        "test_leaderboard_sessions=temp\n",
        "gc.collect()"
      ]
    },
    {
      "cell_type": "code",
      "execution_count": 34,
      "id": "927de505",
      "metadata": {
        "execution": {
          "iopub.execute_input": "2022-06-13T16:06:47.498838Z",
          "iopub.status.busy": "2022-06-13T16:06:47.498183Z",
          "iopub.status.idle": "2022-06-13T16:06:48.037874Z",
          "shell.execute_reply": "2022-06-13T16:06:48.037062Z"
        },
        "id": "927de505",
        "papermill": {
          "duration": 0.565867,
          "end_time": "2022-06-13T16:06:48.039989",
          "exception": false,
          "start_time": "2022-06-13T16:06:47.474122",
          "status": "completed"
        },
        "tags": []
      },
      "outputs": [],
      "source": [
        "\n",
        "x_reseen_test = tf.keras.preprocessing.sequence.pad_sequences(\n",
        "    test_leaderboard_sessions['item_id'].apply(is_reseen),\n",
        "    padding='post',\n",
        "    maxlen=100,\n",
        ")\n",
        "\n",
        "x_percentage_seen_test = tf.keras.preprocessing.sequence.pad_sequences(\n",
        "    test_leaderboard_sessions['item_id'].apply(percentage_seen),\n",
        "    padding='post',\n",
        "    maxlen=100,\n",
        ")"
      ]
    },
    {
      "cell_type": "code",
      "execution_count": 35,
      "id": "4bbcca2a",
      "metadata": {
        "execution": {
          "iopub.execute_input": "2022-06-13T16:06:48.089197Z",
          "iopub.status.busy": "2022-06-13T16:06:48.088494Z",
          "iopub.status.idle": "2022-06-13T16:06:59.057112Z",
          "shell.execute_reply": "2022-06-13T16:06:59.056307Z"
        },
        "id": "4bbcca2a",
        "outputId": "6f402ae3-d463-4711-884b-6314d8134fc6",
        "papermill": {
          "duration": 10.995595,
          "end_time": "2022-06-13T16:06:59.059286",
          "exception": false,
          "start_time": "2022-06-13T16:06:48.063691",
          "status": "completed"
        },
        "tags": [],
        "colab": {
          "base_uri": "https://localhost:8080/",
          "height": 81,
          "referenced_widgets": [
            "1ae000e15e694873b21214a12190b884",
            "b0568e8f3dff409a9c96ae2cf175241b",
            "568ce871db614f268f501d3e3dcaea53",
            "810b9f3ff9634314878f12a00c05fb70",
            "3231879429694d8984e8c4d9a3fa1709",
            "a3d49f9efabb480f8c2594ef5d4a48ee",
            "d01fbf62242846798ad153aad40a52ef",
            "b4cf2739919d4f7f810f0c19fa6d23db",
            "9c0de0f8da3c44d386a3c73ae902cc3e",
            "e94f052a5fdd453890a62da96bbb26cc",
            "f396dd8ae09f41cfbc2b6deca66e4e9c",
            "d78da372c036407cba1453779226ae49",
            "13a5c7a133d94cd48e2d8c1229ddc529",
            "71739886731e4ab994d3190a5fad3fad",
            "8b31b316cfae464abd24c46dc6750c9b",
            "acd2a106b8e94f9d8876731bf2c8f0d7",
            "3e02b377c6994633aa9e2bb254358944",
            "a075746a53b54e31bc47be090a7ceae9",
            "43f7a6c2d9354fab84554e1f97b4fc7d",
            "8be842c6e9874c47b6f8473d57fa4626",
            "a8d641935bab4b0eb1cc94985f10886f",
            "0a468210921043fb809632e7e88ebcb6"
          ]
        }
      },
      "outputs": [
        {
          "output_type": "display_data",
          "data": {
            "text/plain": [
              "  0%|          | 0/50000 [00:00<?, ?it/s]"
            ],
            "application/vnd.jupyter.widget-view+json": {
              "version_major": 2,
              "version_minor": 0,
              "model_id": "1ae000e15e694873b21214a12190b884"
            }
          },
          "metadata": {}
        },
        {
          "output_type": "display_data",
          "data": {
            "text/plain": [
              "  0%|          | 0/50000 [00:00<?, ?it/s]"
            ],
            "application/vnd.jupyter.widget-view+json": {
              "version_major": 2,
              "version_minor": 0,
              "model_id": "d78da372c036407cba1453779226ae49"
            }
          },
          "metadata": {}
        }
      ],
      "source": [
        "x_simils_test = tf.keras.preprocessing.sequence.pad_sequences(\n",
        "    test_leaderboard_sessions['item_id'].progress_apply(similarity_with_preceding\n",
        "    ),\n",
        "    padding='post',\n",
        "    maxlen=100,\n",
        "    dtype='float32',\n",
        ")\n",
        "x_simils_feats_test = tf.keras.preprocessing.sequence.pad_sequences(\n",
        "    test_leaderboard_sessions['item_id'].progress_apply(similarity_feats_with_preceding\n",
        "    ),\n",
        "    padding='post',\n",
        "    maxlen=100,\n",
        "    dtype='float32',\n",
        ")"
      ]
    },
    {
      "cell_type": "code",
      "execution_count": 36,
      "id": "93cecdd9",
      "metadata": {
        "execution": {
          "iopub.execute_input": "2022-06-13T16:06:59.110460Z",
          "iopub.status.busy": "2022-06-13T16:06:59.110085Z",
          "iopub.status.idle": "2022-06-13T16:06:59.121248Z",
          "shell.execute_reply": "2022-06-13T16:06:59.120472Z"
        },
        "id": "93cecdd9",
        "papermill": {
          "duration": 0.038412,
          "end_time": "2022-06-13T16:06:59.123137",
          "exception": false,
          "start_time": "2022-06-13T16:06:59.084725",
          "status": "completed"
        },
        "tags": []
      },
      "outputs": [],
      "source": [
        "for col in ['length_of_session_seconds','avg_time_spent_per_item_seconds','variance_time_spent_per_item_seconds']:\n",
        "    test_leaderboard_sessions[col]=np.log10(test_leaderboard_sessions[col]+1)\n",
        "for col in ['n_seen_items','n_unique_items']:\n",
        "    test_leaderboard_sessions[col]=test_leaderboard_sessions[col]/100"
      ]
    },
    {
      "cell_type": "code",
      "execution_count": 37,
      "id": "6d2fe969",
      "metadata": {
        "execution": {
          "iopub.execute_input": "2022-06-13T16:06:59.174306Z",
          "iopub.status.busy": "2022-06-13T16:06:59.173642Z",
          "iopub.status.idle": "2022-06-13T16:06:59.379504Z",
          "shell.execute_reply": "2022-06-13T16:06:59.378552Z"
        },
        "id": "6d2fe969",
        "papermill": {
          "duration": 0.233343,
          "end_time": "2022-06-13T16:06:59.381721",
          "exception": false,
          "start_time": "2022-06-13T16:06:59.148378",
          "status": "completed"
        },
        "tags": [],
        "colab": {
          "base_uri": "https://localhost:8080/"
        },
        "outputId": "1e01182f-714e-4adc-94ec-acef1ac2e438"
      },
      "outputs": [
        {
          "output_type": "execute_result",
          "data": {
            "text/plain": [
              "array([3404,    0,    0,    0,    0,    0,    0,    0,    0,    0,    0,\n",
              "          0,    0,    0,    0,    0,    0,    0,    0,    0,    0,    0,\n",
              "          0,    0,    0,    0,    0,    0,    0,    0,    0,    0,    0,\n",
              "          0,    0,    0,    0,    0,    0,    0,    0,    0,    0,    0,\n",
              "          0,    0,    0,    0,    0,    0,    0,    0,    0,    0,    0,\n",
              "          0,    0,    0,    0,    0,    0,    0,    0,    0,    0,    0,\n",
              "          0,    0,    0,    0,    0,    0,    0,    0,    0,    0,    0,\n",
              "          0,    0,    0,    0,    0,    0,    0,    0,    0,    0,    0,\n",
              "          0,    0,    0,    0,    0,    0,    0,    0,    0,    0,    0,\n",
              "          0], dtype=int32)"
            ]
          },
          "metadata": {},
          "execution_count": 37
        }
      ],
      "source": [
        "x_test_leaderboard = tf.keras.preprocessing.sequence.pad_sequences(\n",
        "    test_leaderboard_sessions['item_id'],\n",
        "    padding='post',\n",
        "    maxlen=100\n",
        ")\n",
        "\n",
        "x_test_leaderboard[0]"
      ]
    },
    {
      "cell_type": "code",
      "execution_count": 38,
      "id": "4a1ca7da",
      "metadata": {
        "execution": {
          "iopub.execute_input": "2022-06-13T16:06:59.433021Z",
          "iopub.status.busy": "2022-06-13T16:06:59.432227Z",
          "iopub.status.idle": "2022-06-13T16:06:59.642095Z",
          "shell.execute_reply": "2022-06-13T16:06:59.640926Z"
        },
        "id": "4a1ca7da",
        "papermill": {
          "duration": 0.238214,
          "end_time": "2022-06-13T16:06:59.644606",
          "exception": false,
          "start_time": "2022-06-13T16:06:59.406392",
          "status": "completed"
        },
        "tags": [],
        "colab": {
          "base_uri": "https://localhost:8080/"
        },
        "outputId": "a10cfc17-e0a4-4d21-9f27-78814c3e4f5b"
      },
      "outputs": [
        {
          "output_type": "stream",
          "name": "stdout",
          "text": [
            "Padding timedelta\n"
          ]
        }
      ],
      "source": [
        "for item_related_feature in item_related_features:\n",
        "  print('Padding {}'.format(item_related_feature))\n",
        "  x_test_item_related = tf.keras.preprocessing.sequence.pad_sequences(\n",
        "      test_leaderboard_sessions[item_related_feature],\n",
        "      dtype='float16',\n",
        "      maxlen=100,\n",
        "      padding='post'\n",
        "    )"
      ]
    },
    {
      "cell_type": "code",
      "execution_count": 39,
      "id": "ae52b0f1",
      "metadata": {
        "execution": {
          "iopub.execute_input": "2022-06-13T16:06:59.698055Z",
          "iopub.status.busy": "2022-06-13T16:06:59.697292Z",
          "iopub.status.idle": "2022-06-13T16:06:59.701666Z",
          "shell.execute_reply": "2022-06-13T16:06:59.700865Z"
        },
        "id": "ae52b0f1",
        "papermill": {
          "duration": 0.033071,
          "end_time": "2022-06-13T16:06:59.703533",
          "exception": false,
          "start_time": "2022-06-13T16:06:59.670462",
          "status": "completed"
        },
        "tags": []
      },
      "outputs": [],
      "source": [
        "if len(item_related_features) == 1:\n",
        "    x_test_item_related = np.expand_dims(x_test_item_related, axis=-1)"
      ]
    },
    {
      "cell_type": "code",
      "execution_count": 40,
      "id": "435fc2bf",
      "metadata": {
        "execution": {
          "iopub.execute_input": "2022-06-13T16:06:59.754252Z",
          "iopub.status.busy": "2022-06-13T16:06:59.753605Z",
          "iopub.status.idle": "2022-06-13T16:06:59.840357Z",
          "shell.execute_reply": "2022-06-13T16:06:59.839546Z"
        },
        "id": "435fc2bf",
        "outputId": "a9f27fc3-f4c1-402d-bdcf-1893f6741c31",
        "papermill": {
          "duration": 0.114226,
          "end_time": "2022-06-13T16:06:59.842201",
          "exception": false,
          "start_time": "2022-06-13T16:06:59.727975",
          "status": "completed"
        },
        "tags": [],
        "colab": {
          "base_uri": "https://localhost:8080/"
        }
      },
      "outputs": [
        {
          "output_type": "execute_result",
          "data": {
            "text/plain": [
              "(TensorSpec(shape=(None,), dtype=tf.int64, name=None),\n",
              " (TensorSpec(shape=(None, 100), dtype=tf.int32, name=None),\n",
              "  TensorSpec(shape=(None, 100), dtype=tf.float64, name=None),\n",
              "  TensorSpec(shape=(None, 100), dtype=tf.int32, name=None),\n",
              "  TensorSpec(shape=(None, 100), dtype=tf.float32, name=None),\n",
              "  TensorSpec(shape=(None, 100), dtype=tf.float32, name=None),\n",
              "  TensorSpec(shape=(None, 100, 1), dtype=tf.float16, name=None),\n",
              "  TensorSpec(shape=(None, 28), dtype=tf.float64, name=None)))"
            ]
          },
          "metadata": {},
          "execution_count": 40
        }
      ],
      "source": [
        "submission_set = tf.data.Dataset.from_tensor_slices(\n",
        "    (\n",
        "        test_leaderboard_sessions['session_id'],\n",
        "     (\n",
        "        x_test_leaderboard,\n",
        "        x_reseen_test/100,\n",
        "        x_percentage_seen_test,\n",
        "        x_simils_test,\n",
        "        x_simils_feats_test,\n",
        "        x_test_item_related,\n",
        "        test_leaderboard_sessions[static_features].to_numpy()\n",
        "     )\n",
        "    )\n",
        ").batch(512)\n",
        "\n",
        "submission_set.element_spec"
      ]
    },
    {
      "cell_type": "code",
      "execution_count": 41,
      "id": "b5127be2",
      "metadata": {
        "execution": {
          "iopub.execute_input": "2022-06-13T16:06:59.895073Z",
          "iopub.status.busy": "2022-06-13T16:06:59.894724Z",
          "iopub.status.idle": "2022-06-13T16:06:59.904723Z",
          "shell.execute_reply": "2022-06-13T16:06:59.903870Z"
        },
        "id": "b5127be2",
        "outputId": "8b63cf69-d517-4fa6-c7df-577c4a46ddc5",
        "papermill": {
          "duration": 0.037788,
          "end_time": "2022-06-13T16:06:59.906596",
          "exception": false,
          "start_time": "2022-06-13T16:06:59.868808",
          "status": "completed"
        },
        "tags": [],
        "colab": {
          "base_uri": "https://localhost:8080/",
          "height": 53
        }
      },
      "outputs": [
        {
          "output_type": "execute_result",
          "data": {
            "text/plain": [
              "Empty DataFrame\n",
              "Columns: [session_id, code, score, rank]\n",
              "Index: []"
            ],
            "text/html": [
              "\n",
              "  <div id=\"df-6206ced8-0946-4318-b904-f36260354d39\" class=\"colab-df-container\">\n",
              "    <div>\n",
              "<style scoped>\n",
              "    .dataframe tbody tr th:only-of-type {\n",
              "        vertical-align: middle;\n",
              "    }\n",
              "\n",
              "    .dataframe tbody tr th {\n",
              "        vertical-align: top;\n",
              "    }\n",
              "\n",
              "    .dataframe thead th {\n",
              "        text-align: right;\n",
              "    }\n",
              "</style>\n",
              "<table border=\"1\" class=\"dataframe\">\n",
              "  <thead>\n",
              "    <tr style=\"text-align: right;\">\n",
              "      <th></th>\n",
              "      <th>session_id</th>\n",
              "      <th>code</th>\n",
              "      <th>score</th>\n",
              "      <th>rank</th>\n",
              "    </tr>\n",
              "  </thead>\n",
              "  <tbody>\n",
              "  </tbody>\n",
              "</table>\n",
              "</div>\n",
              "    <div class=\"colab-df-buttons\">\n",
              "\n",
              "  <div class=\"colab-df-container\">\n",
              "    <button class=\"colab-df-convert\" onclick=\"convertToInteractive('df-6206ced8-0946-4318-b904-f36260354d39')\"\n",
              "            title=\"Convert this dataframe to an interactive table.\"\n",
              "            style=\"display:none;\">\n",
              "\n",
              "  <svg xmlns=\"http://www.w3.org/2000/svg\" height=\"24px\" viewBox=\"0 -960 960 960\">\n",
              "    <path d=\"M120-120v-720h720v720H120Zm60-500h600v-160H180v160Zm220 220h160v-160H400v160Zm0 220h160v-160H400v160ZM180-400h160v-160H180v160Zm440 0h160v-160H620v160ZM180-180h160v-160H180v160Zm440 0h160v-160H620v160Z\"/>\n",
              "  </svg>\n",
              "    </button>\n",
              "\n",
              "  <style>\n",
              "    .colab-df-container {\n",
              "      display:flex;\n",
              "      gap: 12px;\n",
              "    }\n",
              "\n",
              "    .colab-df-convert {\n",
              "      background-color: #E8F0FE;\n",
              "      border: none;\n",
              "      border-radius: 50%;\n",
              "      cursor: pointer;\n",
              "      display: none;\n",
              "      fill: #1967D2;\n",
              "      height: 32px;\n",
              "      padding: 0 0 0 0;\n",
              "      width: 32px;\n",
              "    }\n",
              "\n",
              "    .colab-df-convert:hover {\n",
              "      background-color: #E2EBFA;\n",
              "      box-shadow: 0px 1px 2px rgba(60, 64, 67, 0.3), 0px 1px 3px 1px rgba(60, 64, 67, 0.15);\n",
              "      fill: #174EA6;\n",
              "    }\n",
              "\n",
              "    .colab-df-buttons div {\n",
              "      margin-bottom: 4px;\n",
              "    }\n",
              "\n",
              "    [theme=dark] .colab-df-convert {\n",
              "      background-color: #3B4455;\n",
              "      fill: #D2E3FC;\n",
              "    }\n",
              "\n",
              "    [theme=dark] .colab-df-convert:hover {\n",
              "      background-color: #434B5C;\n",
              "      box-shadow: 0px 1px 3px 1px rgba(0, 0, 0, 0.15);\n",
              "      filter: drop-shadow(0px 1px 2px rgba(0, 0, 0, 0.3));\n",
              "      fill: #FFFFFF;\n",
              "    }\n",
              "  </style>\n",
              "\n",
              "    <script>\n",
              "      const buttonEl =\n",
              "        document.querySelector('#df-6206ced8-0946-4318-b904-f36260354d39 button.colab-df-convert');\n",
              "      buttonEl.style.display =\n",
              "        google.colab.kernel.accessAllowed ? 'block' : 'none';\n",
              "\n",
              "      async function convertToInteractive(key) {\n",
              "        const element = document.querySelector('#df-6206ced8-0946-4318-b904-f36260354d39');\n",
              "        const dataTable =\n",
              "          await google.colab.kernel.invokeFunction('convertToInteractive',\n",
              "                                                    [key], {});\n",
              "        if (!dataTable) return;\n",
              "\n",
              "        const docLinkHtml = 'Like what you see? Visit the ' +\n",
              "          '<a target=\"_blank\" href=https://colab.research.google.com/notebooks/data_table.ipynb>data table notebook</a>'\n",
              "          + ' to learn more about interactive tables.';\n",
              "        element.innerHTML = '';\n",
              "        dataTable['output_type'] = 'display_data';\n",
              "        await google.colab.output.renderOutput(dataTable, element);\n",
              "        const docLink = document.createElement('div');\n",
              "        docLink.innerHTML = docLinkHtml;\n",
              "        element.appendChild(docLink);\n",
              "      }\n",
              "    </script>\n",
              "  </div>\n",
              "\n",
              "\n",
              "    </div>\n",
              "  </div>\n"
            ],
            "application/vnd.google.colaboratory.intrinsic+json": {
              "type": "dataframe",
              "variable_name": "submission_df",
              "summary": "{\n  \"name\": \"submission_df\",\n  \"rows\": 0,\n  \"fields\": [\n    {\n      \"column\": \"session_id\",\n      \"properties\": {\n        \"dtype\": \"number\",\n        \"std\": null,\n        \"min\": null,\n        \"max\": null,\n        \"num_unique_values\": 0,\n        \"samples\": [],\n        \"semantic_type\": \"\",\n        \"description\": \"\"\n      }\n    },\n    {\n      \"column\": \"code\",\n      \"properties\": {\n        \"dtype\": \"number\",\n        \"std\": null,\n        \"min\": null,\n        \"max\": null,\n        \"num_unique_values\": 0,\n        \"samples\": [],\n        \"semantic_type\": \"\",\n        \"description\": \"\"\n      }\n    },\n    {\n      \"column\": \"score\",\n      \"properties\": {\n        \"dtype\": \"number\",\n        \"std\": null,\n        \"min\": null,\n        \"max\": null,\n        \"num_unique_values\": 0,\n        \"samples\": [],\n        \"semantic_type\": \"\",\n        \"description\": \"\"\n      }\n    },\n    {\n      \"column\": \"rank\",\n      \"properties\": {\n        \"dtype\": \"number\",\n        \"std\": null,\n        \"min\": null,\n        \"max\": null,\n        \"num_unique_values\": 0,\n        \"samples\": [],\n        \"semantic_type\": \"\",\n        \"description\": \"\"\n      }\n    }\n  ]\n}"
            }
          },
          "metadata": {},
          "execution_count": 41
        }
      ],
      "source": [
        "submission_df = pd.DataFrame(\n",
        "    {\n",
        "        'session_id':[],\n",
        "        'code':[],\n",
        "        'score':[],\n",
        "        'rank':[]\n",
        "    }\n",
        ")\n",
        "\n",
        "submission_df.head()"
      ]
    },
    {
      "cell_type": "code",
      "execution_count": 42,
      "id": "31d538cf",
      "metadata": {
        "execution": {
          "iopub.execute_input": "2022-06-13T16:06:59.960033Z",
          "iopub.status.busy": "2022-06-13T16:06:59.959685Z",
          "iopub.status.idle": "2022-06-13T16:06:59.964819Z",
          "shell.execute_reply": "2022-06-13T16:06:59.964065Z"
        },
        "id": "31d538cf",
        "papermill": {
          "duration": 0.032551,
          "end_time": "2022-06-13T16:06:59.966452",
          "exception": false,
          "start_time": "2022-06-13T16:06:59.933901",
          "status": "completed"
        },
        "tags": []
      },
      "outputs": [],
      "source": [
        "candidates=np.array([i+1 for i in range(4990)]) # this is for the test month"
      ]
    },
    {
      "cell_type": "code",
      "execution_count": 43,
      "id": "85266a92",
      "metadata": {
        "execution": {
          "iopub.execute_input": "2022-06-13T16:07:00.018957Z",
          "iopub.status.busy": "2022-06-13T16:07:00.018430Z",
          "iopub.status.idle": "2022-06-13T16:07:18.037881Z",
          "shell.execute_reply": "2022-06-13T16:07:18.037110Z"
        },
        "id": "85266a92",
        "outputId": "0acc57b9-d963-4d79-ccd5-29344afaa9dd",
        "papermill": {
          "duration": 18.04733,
          "end_time": "2022-06-13T16:07:18.039739",
          "exception": false,
          "start_time": "2022-06-13T16:06:59.992409",
          "status": "completed"
        },
        "tags": [],
        "colab": {
          "base_uri": "https://localhost:8080/",
          "height": 206
        }
      },
      "outputs": [
        {
          "output_type": "execute_result",
          "data": {
            "text/plain": [
              "   session_id                                               code  \\\n",
              "0        26.0  (606, 3646, 4952, 2874, 4685, 1219, 814, 1267,...   \n",
              "1       200.0  (772, 1827, 3400, 270, 4024, 3229, 3582, 64, 8...   \n",
              "2       205.0  (3398, 4986, 1181, 2785, 2075, 563, 115, 724, ...   \n",
              "3       495.0  (825, 1903, 4453, 583, 4845, 4686, 143, 2560, ...   \n",
              "4       521.0  (3705, 2121, 2232, 3022, 4574, 1608, 1768, 151...   \n",
              "\n",
              "                                               score  \\\n",
              "0  (0.027818233, 0.017395925, 0.015270167, 0.0105...   \n",
              "1  (0.15832694, 0.07415838, 0.05991782, 0.0376613...   \n",
              "2  (0.6976393, 0.09897649, 0.0073101576, 0.005673...   \n",
              "3  (0.02861437, 0.01252174, 0.011879837, 0.011275...   \n",
              "4  (0.022823265, 0.0108762635, 0.009599497, 0.009...   \n",
              "\n",
              "                                                rank  \n",
              "0  (1, 2, 3, 4, 5, 6, 7, 8, 9, 10, 11, 12, 13, 14...  \n",
              "1  (1, 2, 3, 4, 5, 6, 7, 8, 9, 10, 11, 12, 13, 14...  \n",
              "2  (1, 2, 3, 4, 5, 6, 7, 8, 9, 10, 11, 12, 13, 14...  \n",
              "3  (1, 2, 3, 4, 5, 6, 7, 8, 9, 10, 11, 12, 13, 14...  \n",
              "4  (1, 2, 3, 4, 5, 6, 7, 8, 9, 10, 11, 12, 13, 14...  "
            ],
            "text/html": [
              "\n",
              "  <div id=\"df-0cec8d4b-a4ea-404d-a3f0-d99f3bd20bf0\" class=\"colab-df-container\">\n",
              "    <div>\n",
              "<style scoped>\n",
              "    .dataframe tbody tr th:only-of-type {\n",
              "        vertical-align: middle;\n",
              "    }\n",
              "\n",
              "    .dataframe tbody tr th {\n",
              "        vertical-align: top;\n",
              "    }\n",
              "\n",
              "    .dataframe thead th {\n",
              "        text-align: right;\n",
              "    }\n",
              "</style>\n",
              "<table border=\"1\" class=\"dataframe\">\n",
              "  <thead>\n",
              "    <tr style=\"text-align: right;\">\n",
              "      <th></th>\n",
              "      <th>session_id</th>\n",
              "      <th>code</th>\n",
              "      <th>score</th>\n",
              "      <th>rank</th>\n",
              "    </tr>\n",
              "  </thead>\n",
              "  <tbody>\n",
              "    <tr>\n",
              "      <th>0</th>\n",
              "      <td>26.0</td>\n",
              "      <td>(606, 3646, 4952, 2874, 4685, 1219, 814, 1267,...</td>\n",
              "      <td>(0.027818233, 0.017395925, 0.015270167, 0.0105...</td>\n",
              "      <td>(1, 2, 3, 4, 5, 6, 7, 8, 9, 10, 11, 12, 13, 14...</td>\n",
              "    </tr>\n",
              "    <tr>\n",
              "      <th>1</th>\n",
              "      <td>200.0</td>\n",
              "      <td>(772, 1827, 3400, 270, 4024, 3229, 3582, 64, 8...</td>\n",
              "      <td>(0.15832694, 0.07415838, 0.05991782, 0.0376613...</td>\n",
              "      <td>(1, 2, 3, 4, 5, 6, 7, 8, 9, 10, 11, 12, 13, 14...</td>\n",
              "    </tr>\n",
              "    <tr>\n",
              "      <th>2</th>\n",
              "      <td>205.0</td>\n",
              "      <td>(3398, 4986, 1181, 2785, 2075, 563, 115, 724, ...</td>\n",
              "      <td>(0.6976393, 0.09897649, 0.0073101576, 0.005673...</td>\n",
              "      <td>(1, 2, 3, 4, 5, 6, 7, 8, 9, 10, 11, 12, 13, 14...</td>\n",
              "    </tr>\n",
              "    <tr>\n",
              "      <th>3</th>\n",
              "      <td>495.0</td>\n",
              "      <td>(825, 1903, 4453, 583, 4845, 4686, 143, 2560, ...</td>\n",
              "      <td>(0.02861437, 0.01252174, 0.011879837, 0.011275...</td>\n",
              "      <td>(1, 2, 3, 4, 5, 6, 7, 8, 9, 10, 11, 12, 13, 14...</td>\n",
              "    </tr>\n",
              "    <tr>\n",
              "      <th>4</th>\n",
              "      <td>521.0</td>\n",
              "      <td>(3705, 2121, 2232, 3022, 4574, 1608, 1768, 151...</td>\n",
              "      <td>(0.022823265, 0.0108762635, 0.009599497, 0.009...</td>\n",
              "      <td>(1, 2, 3, 4, 5, 6, 7, 8, 9, 10, 11, 12, 13, 14...</td>\n",
              "    </tr>\n",
              "  </tbody>\n",
              "</table>\n",
              "</div>\n",
              "    <div class=\"colab-df-buttons\">\n",
              "\n",
              "  <div class=\"colab-df-container\">\n",
              "    <button class=\"colab-df-convert\" onclick=\"convertToInteractive('df-0cec8d4b-a4ea-404d-a3f0-d99f3bd20bf0')\"\n",
              "            title=\"Convert this dataframe to an interactive table.\"\n",
              "            style=\"display:none;\">\n",
              "\n",
              "  <svg xmlns=\"http://www.w3.org/2000/svg\" height=\"24px\" viewBox=\"0 -960 960 960\">\n",
              "    <path d=\"M120-120v-720h720v720H120Zm60-500h600v-160H180v160Zm220 220h160v-160H400v160Zm0 220h160v-160H400v160ZM180-400h160v-160H180v160Zm440 0h160v-160H620v160ZM180-180h160v-160H180v160Zm440 0h160v-160H620v160Z\"/>\n",
              "  </svg>\n",
              "    </button>\n",
              "\n",
              "  <style>\n",
              "    .colab-df-container {\n",
              "      display:flex;\n",
              "      gap: 12px;\n",
              "    }\n",
              "\n",
              "    .colab-df-convert {\n",
              "      background-color: #E8F0FE;\n",
              "      border: none;\n",
              "      border-radius: 50%;\n",
              "      cursor: pointer;\n",
              "      display: none;\n",
              "      fill: #1967D2;\n",
              "      height: 32px;\n",
              "      padding: 0 0 0 0;\n",
              "      width: 32px;\n",
              "    }\n",
              "\n",
              "    .colab-df-convert:hover {\n",
              "      background-color: #E2EBFA;\n",
              "      box-shadow: 0px 1px 2px rgba(60, 64, 67, 0.3), 0px 1px 3px 1px rgba(60, 64, 67, 0.15);\n",
              "      fill: #174EA6;\n",
              "    }\n",
              "\n",
              "    .colab-df-buttons div {\n",
              "      margin-bottom: 4px;\n",
              "    }\n",
              "\n",
              "    [theme=dark] .colab-df-convert {\n",
              "      background-color: #3B4455;\n",
              "      fill: #D2E3FC;\n",
              "    }\n",
              "\n",
              "    [theme=dark] .colab-df-convert:hover {\n",
              "      background-color: #434B5C;\n",
              "      box-shadow: 0px 1px 3px 1px rgba(0, 0, 0, 0.15);\n",
              "      filter: drop-shadow(0px 1px 2px rgba(0, 0, 0, 0.3));\n",
              "      fill: #FFFFFF;\n",
              "    }\n",
              "  </style>\n",
              "\n",
              "    <script>\n",
              "      const buttonEl =\n",
              "        document.querySelector('#df-0cec8d4b-a4ea-404d-a3f0-d99f3bd20bf0 button.colab-df-convert');\n",
              "      buttonEl.style.display =\n",
              "        google.colab.kernel.accessAllowed ? 'block' : 'none';\n",
              "\n",
              "      async function convertToInteractive(key) {\n",
              "        const element = document.querySelector('#df-0cec8d4b-a4ea-404d-a3f0-d99f3bd20bf0');\n",
              "        const dataTable =\n",
              "          await google.colab.kernel.invokeFunction('convertToInteractive',\n",
              "                                                    [key], {});\n",
              "        if (!dataTable) return;\n",
              "\n",
              "        const docLinkHtml = 'Like what you see? Visit the ' +\n",
              "          '<a target=\"_blank\" href=https://colab.research.google.com/notebooks/data_table.ipynb>data table notebook</a>'\n",
              "          + ' to learn more about interactive tables.';\n",
              "        element.innerHTML = '';\n",
              "        dataTable['output_type'] = 'display_data';\n",
              "        await google.colab.output.renderOutput(dataTable, element);\n",
              "        const docLink = document.createElement('div');\n",
              "        docLink.innerHTML = docLinkHtml;\n",
              "        element.appendChild(docLink);\n",
              "      }\n",
              "    </script>\n",
              "  </div>\n",
              "\n",
              "\n",
              "<div id=\"df-1c0e0ab1-e733-4006-af50-63c45036650a\">\n",
              "  <button class=\"colab-df-quickchart\" onclick=\"quickchart('df-1c0e0ab1-e733-4006-af50-63c45036650a')\"\n",
              "            title=\"Suggest charts\"\n",
              "            style=\"display:none;\">\n",
              "\n",
              "<svg xmlns=\"http://www.w3.org/2000/svg\" height=\"24px\"viewBox=\"0 0 24 24\"\n",
              "     width=\"24px\">\n",
              "    <g>\n",
              "        <path d=\"M19 3H5c-1.1 0-2 .9-2 2v14c0 1.1.9 2 2 2h14c1.1 0 2-.9 2-2V5c0-1.1-.9-2-2-2zM9 17H7v-7h2v7zm4 0h-2V7h2v10zm4 0h-2v-4h2v4z\"/>\n",
              "    </g>\n",
              "</svg>\n",
              "  </button>\n",
              "\n",
              "<style>\n",
              "  .colab-df-quickchart {\n",
              "      --bg-color: #E8F0FE;\n",
              "      --fill-color: #1967D2;\n",
              "      --hover-bg-color: #E2EBFA;\n",
              "      --hover-fill-color: #174EA6;\n",
              "      --disabled-fill-color: #AAA;\n",
              "      --disabled-bg-color: #DDD;\n",
              "  }\n",
              "\n",
              "  [theme=dark] .colab-df-quickchart {\n",
              "      --bg-color: #3B4455;\n",
              "      --fill-color: #D2E3FC;\n",
              "      --hover-bg-color: #434B5C;\n",
              "      --hover-fill-color: #FFFFFF;\n",
              "      --disabled-bg-color: #3B4455;\n",
              "      --disabled-fill-color: #666;\n",
              "  }\n",
              "\n",
              "  .colab-df-quickchart {\n",
              "    background-color: var(--bg-color);\n",
              "    border: none;\n",
              "    border-radius: 50%;\n",
              "    cursor: pointer;\n",
              "    display: none;\n",
              "    fill: var(--fill-color);\n",
              "    height: 32px;\n",
              "    padding: 0;\n",
              "    width: 32px;\n",
              "  }\n",
              "\n",
              "  .colab-df-quickchart:hover {\n",
              "    background-color: var(--hover-bg-color);\n",
              "    box-shadow: 0 1px 2px rgba(60, 64, 67, 0.3), 0 1px 3px 1px rgba(60, 64, 67, 0.15);\n",
              "    fill: var(--button-hover-fill-color);\n",
              "  }\n",
              "\n",
              "  .colab-df-quickchart-complete:disabled,\n",
              "  .colab-df-quickchart-complete:disabled:hover {\n",
              "    background-color: var(--disabled-bg-color);\n",
              "    fill: var(--disabled-fill-color);\n",
              "    box-shadow: none;\n",
              "  }\n",
              "\n",
              "  .colab-df-spinner {\n",
              "    border: 2px solid var(--fill-color);\n",
              "    border-color: transparent;\n",
              "    border-bottom-color: var(--fill-color);\n",
              "    animation:\n",
              "      spin 1s steps(1) infinite;\n",
              "  }\n",
              "\n",
              "  @keyframes spin {\n",
              "    0% {\n",
              "      border-color: transparent;\n",
              "      border-bottom-color: var(--fill-color);\n",
              "      border-left-color: var(--fill-color);\n",
              "    }\n",
              "    20% {\n",
              "      border-color: transparent;\n",
              "      border-left-color: var(--fill-color);\n",
              "      border-top-color: var(--fill-color);\n",
              "    }\n",
              "    30% {\n",
              "      border-color: transparent;\n",
              "      border-left-color: var(--fill-color);\n",
              "      border-top-color: var(--fill-color);\n",
              "      border-right-color: var(--fill-color);\n",
              "    }\n",
              "    40% {\n",
              "      border-color: transparent;\n",
              "      border-right-color: var(--fill-color);\n",
              "      border-top-color: var(--fill-color);\n",
              "    }\n",
              "    60% {\n",
              "      border-color: transparent;\n",
              "      border-right-color: var(--fill-color);\n",
              "    }\n",
              "    80% {\n",
              "      border-color: transparent;\n",
              "      border-right-color: var(--fill-color);\n",
              "      border-bottom-color: var(--fill-color);\n",
              "    }\n",
              "    90% {\n",
              "      border-color: transparent;\n",
              "      border-bottom-color: var(--fill-color);\n",
              "    }\n",
              "  }\n",
              "</style>\n",
              "\n",
              "  <script>\n",
              "    async function quickchart(key) {\n",
              "      const quickchartButtonEl =\n",
              "        document.querySelector('#' + key + ' button');\n",
              "      quickchartButtonEl.disabled = true;  // To prevent multiple clicks.\n",
              "      quickchartButtonEl.classList.add('colab-df-spinner');\n",
              "      try {\n",
              "        const charts = await google.colab.kernel.invokeFunction(\n",
              "            'suggestCharts', [key], {});\n",
              "      } catch (error) {\n",
              "        console.error('Error during call to suggestCharts:', error);\n",
              "      }\n",
              "      quickchartButtonEl.classList.remove('colab-df-spinner');\n",
              "      quickchartButtonEl.classList.add('colab-df-quickchart-complete');\n",
              "    }\n",
              "    (() => {\n",
              "      let quickchartButtonEl =\n",
              "        document.querySelector('#df-1c0e0ab1-e733-4006-af50-63c45036650a button');\n",
              "      quickchartButtonEl.style.display =\n",
              "        google.colab.kernel.accessAllowed ? 'block' : 'none';\n",
              "    })();\n",
              "  </script>\n",
              "</div>\n",
              "\n",
              "    </div>\n",
              "  </div>\n"
            ],
            "application/vnd.google.colaboratory.intrinsic+json": {
              "type": "dataframe",
              "variable_name": "submission_df",
              "summary": "{\n  \"name\": \"submission_df\",\n  \"rows\": 50000,\n  \"fields\": [\n    {\n      \"column\": \"session_id\",\n      \"properties\": {\n        \"dtype\": \"number\",\n        \"std\": 1283404.4665049529,\n        \"min\": 26.0,\n        \"max\": 4439757.0,\n        \"num_unique_values\": 50000,\n        \"samples\": [\n          2993624.0,\n          841850.0,\n          18132.0\n        ],\n        \"semantic_type\": \"\",\n        \"description\": \"\"\n      }\n    },\n    {\n      \"column\": \"code\",\n      \"properties\": {\n        \"dtype\": \"string\",\n        \"num_unique_values\": 49968,\n        \"samples\": [\n          [\n            \"2330\",\n            \"4148\",\n            \"1936\",\n            \"3550\",\n            \"3227\",\n            \"299\",\n            \"3326\",\n            \"4146\",\n            \"1652\",\n            \"2037\",\n            \"2234\",\n            \"4038\",\n            \"2704\",\n            \"4418\",\n            \"19\",\n            \"2560\",\n            \"2328\",\n            \"1643\",\n            \"4554\",\n            \"3203\",\n            \"3110\",\n            \"2491\",\n            \"4489\",\n            \"2785\",\n            \"1569\",\n            \"2215\",\n            \"1356\",\n            \"1989\",\n            \"1516\",\n            \"1609\",\n            \"3522\",\n            \"3155\",\n            \"2250\",\n            \"310\",\n            \"507\",\n            \"3614\",\n            \"3859\",\n            \"1483\",\n            \"376\",\n            \"1139\",\n            \"2503\",\n            \"882\",\n            \"3202\",\n            \"2050\",\n            \"1183\",\n            \"1342\",\n            \"4504\",\n            \"1794\",\n            \"2262\",\n            \"3802\",\n            \"3094\",\n            \"4077\",\n            \"4854\",\n            \"203\",\n            \"3359\",\n            \"1350\",\n            \"1485\",\n            \"3767\",\n            \"1273\",\n            \"4145\",\n            \"3904\",\n            \"3045\",\n            \"929\",\n            \"1477\",\n            \"4686\",\n            \"3671\",\n            \"4399\",\n            \"4817\",\n            \"3287\",\n            \"2865\",\n            \"965\",\n            \"3871\",\n            \"2039\",\n            \"3026\",\n            \"89\",\n            \"2543\",\n            \"4857\",\n            \"1252\",\n            \"615\",\n            \"4165\",\n            \"2646\",\n            \"3895\",\n            \"733\",\n            \"3340\",\n            \"2094\",\n            \"2643\",\n            \"724\",\n            \"4795\",\n            \"4162\",\n            \"4966\",\n            \"242\",\n            \"1879\",\n            \"2853\",\n            \"4262\",\n            \"2903\",\n            \"2202\",\n            \"3427\",\n            \"4587\",\n            \"3320\",\n            \"2499\"\n          ],\n          [\n            \"949\",\n            \"3676\",\n            \"3526\",\n            \"3867\",\n            \"554\",\n            \"1661\",\n            \"1473\",\n            \"707\",\n            \"2530\",\n            \"3412\",\n            \"2800\",\n            \"3084\",\n            \"772\",\n            \"3005\",\n            \"3424\",\n            \"1987\",\n            \"643\",\n            \"1375\",\n            \"917\",\n            \"2549\",\n            \"773\",\n            \"2715\",\n            \"4810\",\n            \"977\",\n            \"576\",\n            \"270\",\n            \"4226\",\n            \"2781\",\n            \"540\",\n            \"2547\",\n            \"99\",\n            \"786\",\n            \"2302\",\n            \"3104\",\n            \"2301\",\n            \"2605\",\n            \"2865\",\n            \"2156\",\n            \"1468\",\n            \"3656\",\n            \"190\",\n            \"3550\",\n            \"1584\",\n            \"3037\",\n            \"3400\",\n            \"2262\",\n            \"4477\",\n            \"3783\",\n            \"2401\",\n            \"1183\",\n            \"2793\",\n            \"4122\",\n            \"4026\",\n            \"4986\",\n            \"1725\",\n            \"4036\",\n            \"4942\",\n            \"4294\",\n            \"2218\",\n            \"928\",\n            \"4039\",\n            \"2780\",\n            \"4146\",\n            \"2696\",\n            \"2235\",\n            \"3518\",\n            \"191\",\n            \"1827\",\n            \"1374\",\n            \"1609\",\n            \"2720\",\n            \"3346\",\n            \"1423\",\n            \"510\",\n            \"353\",\n            \"2464\",\n            \"242\",\n            \"311\",\n            \"3850\",\n            \"3359\",\n            \"1139\",\n            \"2919\",\n            \"2145\",\n            \"793\",\n            \"4967\",\n            \"4503\",\n            \"2802\",\n            \"4327\",\n            \"4167\",\n            \"2037\",\n            \"4835\",\n            \"1442\",\n            \"4007\",\n            \"1845\",\n            \"3582\",\n            \"3076\",\n            \"2328\",\n            \"64\",\n            \"581\",\n            \"4213\"\n          ],\n          [\n            \"4740\",\n            \"2257\",\n            \"1136\",\n            \"3904\",\n            \"158\",\n            \"1274\",\n            \"2156\",\n            \"4017\",\n            \"3603\",\n            \"3414\",\n            \"227\",\n            \"1211\",\n            \"1449\",\n            \"4819\",\n            \"3526\",\n            \"3844\",\n            \"3676\",\n            \"2530\",\n            \"3731\",\n            \"143\",\n            \"4628\",\n            \"772\",\n            \"3867\",\n            \"3586\",\n            \"2780\",\n            \"2121\",\n            \"1148\",\n            \"320\",\n            \"2745\",\n            \"1781\",\n            \"3746\",\n            \"4042\",\n            \"3685\",\n            \"4418\",\n            \"2117\",\n            \"2376\",\n            \"2092\",\n            \"1563\",\n            \"3054\",\n            \"4181\",\n            \"1183\",\n            \"3660\",\n            \"2202\",\n            \"534\",\n            \"2547\",\n            \"3581\",\n            \"4942\",\n            \"242\",\n            \"1559\",\n            \"2936\",\n            \"1436\",\n            \"178\",\n            \"3645\",\n            \"1636\",\n            \"3678\",\n            \"4758\",\n            \"1623\",\n            \"2865\",\n            \"270\",\n            \"4356\",\n            \"519\",\n            \"1573\",\n            \"1681\",\n            \"79\",\n            \"4741\",\n            \"377\",\n            \"1139\",\n            \"1672\",\n            \"4271\",\n            \"2785\",\n            \"1342\",\n            \"2605\",\n            \"917\",\n            \"3833\",\n            \"99\",\n            \"2937\",\n            \"103\",\n            \"2301\",\n            \"1936\",\n            \"2674\",\n            \"3531\",\n            \"402\",\n            \"4660\",\n            \"1099\",\n            \"1385\",\n            \"208\",\n            \"4436\",\n            \"3251\",\n            \"292\",\n            \"599\",\n            \"455\",\n            \"4262\",\n            \"4411\",\n            \"274\",\n            \"2667\",\n            \"2399\",\n            \"3506\",\n            \"1590\",\n            \"1310\",\n            \"3229\"\n          ]\n        ],\n        \"semantic_type\": \"\",\n        \"description\": \"\"\n      }\n    },\n    {\n      \"column\": \"score\",\n      \"properties\": {\n        \"dtype\": \"string\",\n        \"num_unique_values\": 49984,\n        \"samples\": [\n          [\n            \"0.045338582\",\n            \"0.044273194\",\n            \"0.043292172\",\n            \"0.030269884\",\n            \"0.018851545\",\n            \"0.016409682\",\n            \"0.016399013\",\n            \"0.016278192\",\n            \"0.015257975\",\n            \"0.013256915\",\n            \"0.0101656895\",\n            \"0.008530476\",\n            \"0.008116148\",\n            \"0.007332469\",\n            \"0.0067497455\",\n            \"0.0065437504\",\n            \"0.0061837276\",\n            \"0.0061260983\",\n            \"0.005585722\",\n            \"0.0055393055\",\n            \"0.005456881\",\n            \"0.0050459523\",\n            \"0.004954938\",\n            \"0.004843916\",\n            \"0.004546317\",\n            \"0.0044473587\",\n            \"0.0041010003\",\n            \"0.0040732715\",\n            \"0.004068101\",\n            \"0.0038441215\",\n            \"0.0038263167\",\n            \"0.0037827773\",\n            \"0.003696771\",\n            \"0.0035822885\",\n            \"0.003543019\",\n            \"0.0035328297\",\n            \"0.0034260433\",\n            \"0.0034256775\",\n            \"0.0033865876\",\n            \"0.003338557\",\n            \"0.0031309228\",\n            \"0.0031261132\",\n            \"0.0030940038\",\n            \"0.0030730134\",\n            \"0.0030406255\",\n            \"0.0030260745\",\n            \"0.00302085\",\n            \"0.0029753323\",\n            \"0.002975179\",\n            \"0.0029637439\",\n            \"0.0027283924\",\n            \"0.0026784695\",\n            \"0.0026260023\",\n            \"0.002589114\",\n            \"0.0025265773\",\n            \"0.002471092\",\n            \"0.0024038102\",\n            \"0.0023608215\",\n            \"0.002360763\",\n            \"0.0023302794\",\n            \"0.0023273388\",\n            \"0.0022865331\",\n            \"0.0022393926\",\n            \"0.002224875\",\n            \"0.0022186115\",\n            \"0.0022053176\",\n            \"0.0021658333\",\n            \"0.002157875\",\n            \"0.0021380747\",\n            \"0.002136615\",\n            \"0.0020536697\",\n            \"0.0020187246\",\n            \"0.002007524\",\n            \"0.0020009642\",\n            \"0.001981976\",\n            \"0.0019707424\",\n            \"0.0019620112\",\n            \"0.0019337421\",\n            \"0.0018950098\",\n            \"0.0018552474\",\n            \"0.0018494073\",\n            \"0.0018398479\",\n            \"0.0018313612\",\n            \"0.0018160978\",\n            \"0.0017375066\",\n            \"0.0017167956\",\n            \"0.0016905854\",\n            \"0.0016883202\",\n            \"0.0016605101\",\n            \"0.0016045726\",\n            \"0.0015673967\",\n            \"0.0015559735\",\n            \"0.0015116982\",\n            \"0.0014921385\",\n            \"0.0014800692\",\n            \"0.0014797616\",\n            \"0.001473256\",\n            \"0.0014584991\",\n            \"0.0014446808\",\n            \"0.0013938588\"\n          ],\n          [\n            \"0.21367355\",\n            \"0.096698776\",\n            \"0.06542206\",\n            \"0.030848835\",\n            \"0.022618618\",\n            \"0.012122702\",\n            \"0.009979454\",\n            \"0.007935733\",\n            \"0.0074679675\",\n            \"0.007320214\",\n            \"0.0069411034\",\n            \"0.006446736\",\n            \"0.0063411975\",\n            \"0.0059477403\",\n            \"0.0059365425\",\n            \"0.0058216527\",\n            \"0.005680907\",\n            \"0.0053467336\",\n            \"0.0039472496\",\n            \"0.003798423\",\n            \"0.00375887\",\n            \"0.0037411107\",\n            \"0.0032690535\",\n            \"0.0032621212\",\n            \"0.0030944052\",\n            \"0.0029946102\",\n            \"0.0029290365\",\n            \"0.0028022777\",\n            \"0.002754563\",\n            \"0.0027447033\",\n            \"0.002616298\",\n            \"0.00247881\",\n            \"0.0023622627\",\n            \"0.00221218\",\n            \"0.0022110664\",\n            \"0.0021288942\",\n            \"0.002034802\",\n            \"0.0020328974\",\n            \"0.0018981278\",\n            \"0.0018438246\",\n            \"0.0017857569\",\n            \"0.0017267097\",\n            \"0.001704212\",\n            \"0.0016904917\",\n            \"0.001655027\",\n            \"0.0015784068\",\n            \"0.0015403792\",\n            \"0.00153292\",\n            \"0.0015172124\",\n            \"0.0014641684\",\n            \"0.0014475355\",\n            \"0.0014162463\",\n            \"0.0014013547\",\n            \"0.0013455789\",\n            \"0.0012947613\",\n            \"0.0012770679\",\n            \"0.001216209\",\n            \"0.0012057298\",\n            \"0.0012013109\",\n            \"0.0011669762\",\n            \"0.0011614559\",\n            \"0.0011563762\",\n            \"0.0011464715\",\n            \"0.0011387806\",\n            \"0.0011190382\",\n            \"0.0010875879\",\n            \"0.0010755837\",\n            \"0.001058127\",\n            \"0.0010436195\",\n            \"0.0010031032\",\n            \"0.0009966057\",\n            \"0.0009830918\",\n            \"0.0009640587\",\n            \"0.0009587683\",\n            \"0.0009511366\",\n            \"0.00093725545\",\n            \"0.0009314155\",\n            \"0.00091229985\",\n            \"0.0008993131\",\n            \"0.0008961095\",\n            \"0.0008526063\",\n            \"0.00083074404\",\n            \"0.0008096616\",\n            \"0.00080035854\",\n            \"0.0007914445\",\n            \"0.0007844935\",\n            \"0.00077644904\",\n            \"0.0007756882\",\n            \"0.0007734972\",\n            \"0.0007724887\",\n            \"0.0007628369\",\n            \"0.0007503158\",\n            \"0.00073583703\",\n            \"0.0007265087\",\n            \"0.00071197853\",\n            \"0.00071143557\",\n            \"0.0007067937\",\n            \"0.0006881307\",\n            \"0.0006653746\",\n            \"0.0006404389\"\n          ],\n          [\n            \"0.013086335\",\n            \"0.012766525\",\n            \"0.010914726\",\n            \"0.009762051\",\n            \"0.009193488\",\n            \"0.008360316\",\n            \"0.0063077486\",\n            \"0.0061463\",\n            \"0.0055649127\",\n            \"0.0053347046\",\n            \"0.0051076347\",\n            \"0.0050519626\",\n            \"0.00469305\",\n            \"0.0046408074\",\n            \"0.004627549\",\n            \"0.004503347\",\n            \"0.0044310777\",\n            \"0.0042501725\",\n            \"0.00390778\",\n            \"0.003875159\",\n            \"0.0037352075\",\n            \"0.003674326\",\n            \"0.00359021\",\n            \"0.003530217\",\n            \"0.0035273626\",\n            \"0.003382308\",\n            \"0.0033503587\",\n            \"0.0033250914\",\n            \"0.0032758515\",\n            \"0.0032527153\",\n            \"0.0032282155\",\n            \"0.0032012365\",\n            \"0.0031752642\",\n            \"0.0031729455\",\n            \"0.0030721175\",\n            \"0.0029072412\",\n            \"0.0028406533\",\n            \"0.0028146254\",\n            \"0.002776226\",\n            \"0.0027373426\",\n            \"0.002733362\",\n            \"0.0027292622\",\n            \"0.0026794816\",\n            \"0.0026502556\",\n            \"0.002646235\",\n            \"0.002616154\",\n            \"0.002612743\",\n            \"0.0025137097\",\n            \"0.0025113807\",\n            \"0.0024766508\",\n            \"0.0024456128\",\n            \"0.0024370404\",\n            \"0.0023935214\",\n            \"0.002366692\",\n            \"0.0023357486\",\n            \"0.0023194645\",\n            \"0.0022914014\",\n            \"0.0021708212\",\n            \"0.00210994\",\n            \"0.0020340418\",\n            \"0.0020182014\",\n            \"0.0020039743\",\n            \"0.0019912445\",\n            \"0.0019801133\",\n            \"0.001941226\",\n            \"0.0019012336\",\n            \"0.001887957\",\n            \"0.0018798148\",\n            \"0.0018785889\",\n            \"0.0018716217\",\n            \"0.0018635677\",\n            \"0.0018199504\",\n            \"0.001732001\",\n            \"0.0017038841\",\n            \"0.0017001996\",\n            \"0.0016872998\",\n            \"0.0016809846\",\n            \"0.0016582632\",\n            \"0.0016538915\",\n            \"0.0016458795\",\n            \"0.0016395441\",\n            \"0.0016329839\",\n            \"0.0016298007\",\n            \"0.0015864385\",\n            \"0.0015806878\",\n            \"0.0015422081\",\n            \"0.001540168\",\n            \"0.0015297922\",\n            \"0.0015295792\",\n            \"0.0015272411\",\n            \"0.0015094281\",\n            \"0.0014785514\",\n            \"0.0014599105\",\n            \"0.001449865\",\n            \"0.0014364792\",\n            \"0.0014277329\",\n            \"0.0014146646\",\n            \"0.0014005988\",\n            \"0.0013918293\",\n            \"0.001375845\"\n          ]\n        ],\n        \"semantic_type\": \"\",\n        \"description\": \"\"\n      }\n    },\n    {\n      \"column\": \"rank\",\n      \"properties\": {\n        \"dtype\": \"category\",\n        \"num_unique_values\": 1,\n        \"samples\": [\n          [\n            1,\n            2,\n            3,\n            4,\n            5,\n            6,\n            7,\n            8,\n            9,\n            10,\n            11,\n            12,\n            13,\n            14,\n            15,\n            16,\n            17,\n            18,\n            19,\n            20,\n            21,\n            22,\n            23,\n            24,\n            25,\n            26,\n            27,\n            28,\n            29,\n            30,\n            31,\n            32,\n            33,\n            34,\n            35,\n            36,\n            37,\n            38,\n            39,\n            40,\n            41,\n            42,\n            43,\n            44,\n            45,\n            46,\n            47,\n            48,\n            49,\n            50,\n            51,\n            52,\n            53,\n            54,\n            55,\n            56,\n            57,\n            58,\n            59,\n            60,\n            61,\n            62,\n            63,\n            64,\n            65,\n            66,\n            67,\n            68,\n            69,\n            70,\n            71,\n            72,\n            73,\n            74,\n            75,\n            76,\n            77,\n            78,\n            79,\n            80,\n            81,\n            82,\n            83,\n            84,\n            85,\n            86,\n            87,\n            88,\n            89,\n            90,\n            91,\n            92,\n            93,\n            94,\n            95,\n            96,\n            97,\n            98,\n            99,\n            100\n          ]\n        ],\n        \"semantic_type\": \"\",\n        \"description\": \"\"\n      }\n    }\n  ]\n}"
            }
          },
          "metadata": {},
          "execution_count": 43
        }
      ],
      "source": [
        "for session_ids, sessions in submission_set:\n",
        "    predicted_scores=model_for_training(sessions)[0].numpy()\n",
        "    mask = np.ones(predicted_scores.shape[1], dtype=bool)\n",
        "    mask[candidates] = False\n",
        "    predicted_scores[...,mask]=-np.inf\n",
        "    predicted_scores=tf.convert_to_tensor(predicted_scores)\n",
        "    preds=tf.math.top_k(predicted_scores, k=100)\n",
        "    scores=preds.values.numpy()\n",
        "    code = preds.indices.numpy()\n",
        "    prediction = pd.DataFrame(\n",
        "        {\n",
        "            'session_id':session_ids,\n",
        "            'code':[tuple(v) for v in code],\n",
        "            'score':[tuple(v) for v in scores],\n",
        "            'rank':[tuple([rank for rank in range(1, 101)]) for id in session_ids]\n",
        "        }\n",
        "        )\n",
        "\n",
        "    submission_df = pd.concat([submission_df, prediction])\n",
        "\n",
        "submission_df.head()"
      ]
    },
    {
      "cell_type": "code",
      "execution_count": 44,
      "id": "22bb8d27",
      "metadata": {
        "execution": {
          "iopub.execute_input": "2022-06-13T16:07:18.090162Z",
          "iopub.status.busy": "2022-06-13T16:07:18.089885Z",
          "iopub.status.idle": "2022-06-13T16:07:27.315685Z",
          "shell.execute_reply": "2022-06-13T16:07:27.314650Z"
        },
        "id": "22bb8d27",
        "papermill": {
          "duration": 9.25344,
          "end_time": "2022-06-13T16:07:27.317993",
          "exception": false,
          "start_time": "2022-06-13T16:07:18.064553",
          "status": "completed"
        },
        "tags": []
      },
      "outputs": [],
      "source": [
        "submission_df.to_csv(\n",
        "    'drive/MyDrive/recsys2022-main/dataset/candidates/NN/LSTM/leaderboard/candidates.csv',\n",
        "    index=False\n",
        "    )"
      ]
    },
    {
      "cell_type": "code",
      "execution_count": 45,
      "id": "f8b16f3a",
      "metadata": {
        "execution": {
          "iopub.execute_input": "2022-06-13T16:07:27.375159Z",
          "iopub.status.busy": "2022-06-13T16:07:27.374821Z",
          "iopub.status.idle": "2022-06-13T16:07:27.845061Z",
          "shell.execute_reply": "2022-06-13T16:07:27.844139Z"
        },
        "papermill": {
          "duration": 0.500731,
          "end_time": "2022-06-13T16:07:27.847107",
          "exception": false,
          "start_time": "2022-06-13T16:07:27.346376",
          "status": "completed"
        },
        "tags": [],
        "colab": {
          "base_uri": "https://localhost:8080/"
        },
        "id": "f8b16f3a",
        "outputId": "78fbc899-27c3-43d0-bc42-93f8494b5fac"
      },
      "outputs": [
        {
          "output_type": "execute_result",
          "data": {
            "text/plain": [
              "31"
            ]
          },
          "metadata": {},
          "execution_count": 45
        }
      ],
      "source": [
        "del submission_df\n",
        "gc.collect()"
      ]
    },
    {
      "cell_type": "markdown",
      "id": "ec0adaeb",
      "metadata": {
        "id": "ec0adaeb",
        "papermill": {
          "duration": 0.025043,
          "end_time": "2022-06-13T16:07:27.900378",
          "exception": false,
          "start_time": "2022-06-13T16:07:27.875335",
          "status": "completed"
        },
        "tags": []
      },
      "source": [
        "# Prepare test predictions Final\n"
      ]
    },
    {
      "cell_type": "code",
      "execution_count": 46,
      "id": "bbb14e22",
      "metadata": {
        "execution": {
          "iopub.execute_input": "2022-06-13T16:07:27.950917Z",
          "iopub.status.busy": "2022-06-13T16:07:27.950365Z",
          "iopub.status.idle": "2022-06-13T16:07:30.185820Z",
          "shell.execute_reply": "2022-06-13T16:07:30.185064Z"
        },
        "id": "bbb14e22",
        "outputId": "23ec080d-d1e3-4562-f46f-d0a98a5da52c",
        "papermill": {
          "duration": 2.262505,
          "end_time": "2022-06-13T16:07:30.187617",
          "exception": false,
          "start_time": "2022-06-13T16:07:27.925112",
          "status": "completed"
        },
        "tags": [],
        "colab": {
          "base_uri": "https://localhost:8080/"
        }
      },
      "outputs": [
        {
          "output_type": "execute_result",
          "data": {
            "text/plain": [
              "2053"
            ]
          },
          "metadata": {},
          "execution_count": 46
        }
      ],
      "source": [
        "temp=pd.read_csv(\"drive/MyDrive/recsys2022-main/dataset/processed_data/macro_feats_NN_final.csv\")\n",
        "temp[\"item_id\"]=temp[\"item_id\"].map(ast.literal_eval)\n",
        "temp[\"timedelta\"]=temp[\"timedelta\"].map(ast.literal_eval)\n",
        "\n",
        "test_leaderboard_sessions=temp\n",
        "gc.collect()"
      ]
    },
    {
      "cell_type": "code",
      "execution_count": 47,
      "id": "78c383bd",
      "metadata": {
        "execution": {
          "iopub.execute_input": "2022-06-13T16:07:30.239639Z",
          "iopub.status.busy": "2022-06-13T16:07:30.239351Z",
          "iopub.status.idle": "2022-06-13T16:07:30.769535Z",
          "shell.execute_reply": "2022-06-13T16:07:30.768754Z"
        },
        "id": "78c383bd",
        "papermill": {
          "duration": 0.558819,
          "end_time": "2022-06-13T16:07:30.771619",
          "exception": false,
          "start_time": "2022-06-13T16:07:30.212800",
          "status": "completed"
        },
        "tags": []
      },
      "outputs": [],
      "source": [
        "\n",
        "x_reseen_test = tf.keras.preprocessing.sequence.pad_sequences(\n",
        "    test_leaderboard_sessions['item_id'].apply(is_reseen),\n",
        "    padding='post',\n",
        "    maxlen=100,\n",
        ")\n",
        "\n",
        "x_percentage_seen_test = tf.keras.preprocessing.sequence.pad_sequences(\n",
        "    test_leaderboard_sessions['item_id'].apply(percentage_seen),\n",
        "    padding='post',\n",
        "    maxlen=100,\n",
        ")"
      ]
    },
    {
      "cell_type": "code",
      "execution_count": 48,
      "id": "f78be361",
      "metadata": {
        "execution": {
          "iopub.execute_input": "2022-06-13T16:07:30.823882Z",
          "iopub.status.busy": "2022-06-13T16:07:30.823069Z",
          "iopub.status.idle": "2022-06-13T16:07:41.429301Z",
          "shell.execute_reply": "2022-06-13T16:07:41.428512Z"
        },
        "id": "f78be361",
        "outputId": "d3cbf172-8ef8-430d-c9b4-29a498194d5c",
        "papermill": {
          "duration": 10.634753,
          "end_time": "2022-06-13T16:07:41.431863",
          "exception": false,
          "start_time": "2022-06-13T16:07:30.797110",
          "status": "completed"
        },
        "tags": [],
        "colab": {
          "base_uri": "https://localhost:8080/",
          "height": 81,
          "referenced_widgets": [
            "e2df098132534116984890d628de1719",
            "e269aa7011d94700a2484a22d6611dc4",
            "e9e8f208ad484f5b80410cb254b87c0f",
            "23ec0bc1a15d46029f02719b3cf37d30",
            "66d96c3145cd42ee8341887a209cf746",
            "e3c15f22bd1f470eaa04e2898b779cd9",
            "3c9635d296ff4c259c36c53c8dba1d29",
            "64ba70fefea14a03aab6d6ecb2f68cb8",
            "7c74617798bd4375adff288878799642",
            "de8e861727394300b0b7a24e5f1ae163",
            "5885a1026f8e4488814d15ff7f238acd",
            "3e5eecee0f814664b2bb2d928bf79207",
            "342017710d88499a8e9fa3de22b5e2b2",
            "43b7c3f140034a9683d845e6b703bc6c",
            "7002e6fad9b941ee96b32a6d1fb3ffe4",
            "c4a0484b10664f0891503561187665d9",
            "63e06e6c3a16473ca9ac62737c836753",
            "48accfd7954c40fca742fcdc047c416a",
            "b5b50e1efd5446259445dfcb6c78cdfe",
            "3d54a68fe7a645b0b00042233d6734b3",
            "bdb7de0db4804065829ed39ad22554aa",
            "0abb085177c54ca7b2aa34fba89ad5e6"
          ]
        }
      },
      "outputs": [
        {
          "output_type": "display_data",
          "data": {
            "text/plain": [
              "  0%|          | 0/50000 [00:00<?, ?it/s]"
            ],
            "application/vnd.jupyter.widget-view+json": {
              "version_major": 2,
              "version_minor": 0,
              "model_id": "e2df098132534116984890d628de1719"
            }
          },
          "metadata": {}
        },
        {
          "output_type": "display_data",
          "data": {
            "text/plain": [
              "  0%|          | 0/50000 [00:00<?, ?it/s]"
            ],
            "application/vnd.jupyter.widget-view+json": {
              "version_major": 2,
              "version_minor": 0,
              "model_id": "3e5eecee0f814664b2bb2d928bf79207"
            }
          },
          "metadata": {}
        }
      ],
      "source": [
        "x_simils_test = tf.keras.preprocessing.sequence.pad_sequences(\n",
        "    test_leaderboard_sessions['item_id'].progress_apply(similarity_with_preceding\n",
        "    ),\n",
        "    padding='post',\n",
        "    maxlen=100,\n",
        "    dtype='float32',\n",
        ")\n",
        "x_simils_feats_test = tf.keras.preprocessing.sequence.pad_sequences(\n",
        "    test_leaderboard_sessions['item_id'].progress_apply(similarity_feats_with_preceding\n",
        "    ),\n",
        "    padding='post',\n",
        "    maxlen=100,\n",
        "    dtype='float32',\n",
        ")"
      ]
    },
    {
      "cell_type": "code",
      "execution_count": 49,
      "id": "637ad44b",
      "metadata": {
        "execution": {
          "iopub.execute_input": "2022-06-13T16:07:41.518852Z",
          "iopub.status.busy": "2022-06-13T16:07:41.518502Z",
          "iopub.status.idle": "2022-06-13T16:07:41.533748Z",
          "shell.execute_reply": "2022-06-13T16:07:41.533097Z"
        },
        "id": "637ad44b",
        "papermill": {
          "duration": 0.063237,
          "end_time": "2022-06-13T16:07:41.538915",
          "exception": false,
          "start_time": "2022-06-13T16:07:41.475678",
          "status": "completed"
        },
        "tags": []
      },
      "outputs": [],
      "source": [
        "for col in ['length_of_session_seconds','avg_time_spent_per_item_seconds','variance_time_spent_per_item_seconds']:\n",
        "    test_leaderboard_sessions[col]=np.log10(test_leaderboard_sessions[col]+1)\n",
        "for col in ['n_seen_items','n_unique_items']:\n",
        "    test_leaderboard_sessions[col]=test_leaderboard_sessions[col]/100"
      ]
    },
    {
      "cell_type": "code",
      "execution_count": 50,
      "id": "42ac81fe",
      "metadata": {
        "execution": {
          "iopub.execute_input": "2022-06-13T16:07:41.624584Z",
          "iopub.status.busy": "2022-06-13T16:07:41.624236Z",
          "iopub.status.idle": "2022-06-13T16:07:41.884050Z",
          "shell.execute_reply": "2022-06-13T16:07:41.883153Z"
        },
        "id": "42ac81fe",
        "papermill": {
          "duration": 0.304858,
          "end_time": "2022-06-13T16:07:41.885813",
          "exception": false,
          "start_time": "2022-06-13T16:07:41.580955",
          "status": "completed"
        },
        "tags": [],
        "colab": {
          "base_uri": "https://localhost:8080/"
        },
        "outputId": "7809bdf8-ea3d-4052-80e8-4852fb238cfc"
      },
      "outputs": [
        {
          "output_type": "execute_result",
          "data": {
            "text/plain": [
              "array([4785,    0,    0,    0,    0,    0,    0,    0,    0,    0,    0,\n",
              "          0,    0,    0,    0,    0,    0,    0,    0,    0,    0,    0,\n",
              "          0,    0,    0,    0,    0,    0,    0,    0,    0,    0,    0,\n",
              "          0,    0,    0,    0,    0,    0,    0,    0,    0,    0,    0,\n",
              "          0,    0,    0,    0,    0,    0,    0,    0,    0,    0,    0,\n",
              "          0,    0,    0,    0,    0,    0,    0,    0,    0,    0,    0,\n",
              "          0,    0,    0,    0,    0,    0,    0,    0,    0,    0,    0,\n",
              "          0,    0,    0,    0,    0,    0,    0,    0,    0,    0,    0,\n",
              "          0,    0,    0,    0,    0,    0,    0,    0,    0,    0,    0,\n",
              "          0], dtype=int32)"
            ]
          },
          "metadata": {},
          "execution_count": 50
        }
      ],
      "source": [
        "x_test_leaderboard = tf.keras.preprocessing.sequence.pad_sequences(\n",
        "    test_leaderboard_sessions['item_id'],\n",
        "    padding='post',\n",
        "    maxlen=100\n",
        ")\n",
        "\n",
        "x_test_leaderboard[0]"
      ]
    },
    {
      "cell_type": "code",
      "execution_count": 51,
      "id": "36e7fdf4",
      "metadata": {
        "execution": {
          "iopub.execute_input": "2022-06-13T16:07:41.939634Z",
          "iopub.status.busy": "2022-06-13T16:07:41.939353Z",
          "iopub.status.idle": "2022-06-13T16:07:42.140989Z",
          "shell.execute_reply": "2022-06-13T16:07:42.140019Z"
        },
        "id": "36e7fdf4",
        "papermill": {
          "duration": 0.230588,
          "end_time": "2022-06-13T16:07:42.142676",
          "exception": false,
          "start_time": "2022-06-13T16:07:41.912088",
          "status": "completed"
        },
        "tags": [],
        "colab": {
          "base_uri": "https://localhost:8080/"
        },
        "outputId": "b96d85d9-5bae-4a34-e935-534f27406667"
      },
      "outputs": [
        {
          "output_type": "stream",
          "name": "stdout",
          "text": [
            "Padding timedelta\n"
          ]
        }
      ],
      "source": [
        "\n",
        "for item_related_feature in item_related_features:\n",
        "    print('Padding {}'.format(item_related_feature))\n",
        "    x_test_item_related = tf.keras.preprocessing.sequence.pad_sequences(\n",
        "        test_leaderboard_sessions[item_related_feature],\n",
        "        dtype='float16',\n",
        "        maxlen=100,\n",
        "        padding='post'\n",
        "    )"
      ]
    },
    {
      "cell_type": "code",
      "execution_count": 52,
      "id": "afdfa217",
      "metadata": {
        "execution": {
          "iopub.execute_input": "2022-06-13T16:07:42.194870Z",
          "iopub.status.busy": "2022-06-13T16:07:42.194599Z",
          "iopub.status.idle": "2022-06-13T16:07:42.198447Z",
          "shell.execute_reply": "2022-06-13T16:07:42.197658Z"
        },
        "id": "afdfa217",
        "papermill": {
          "duration": 0.031637,
          "end_time": "2022-06-13T16:07:42.200092",
          "exception": false,
          "start_time": "2022-06-13T16:07:42.168455",
          "status": "completed"
        },
        "tags": []
      },
      "outputs": [],
      "source": [
        "if len(item_related_features) == 1:\n",
        "    x_test_item_related = np.expand_dims(x_test_item_related, axis=-1)"
      ]
    },
    {
      "cell_type": "code",
      "execution_count": 53,
      "id": "d6648b94",
      "metadata": {
        "execution": {
          "iopub.execute_input": "2022-06-13T16:07:42.252111Z",
          "iopub.status.busy": "2022-06-13T16:07:42.251862Z",
          "iopub.status.idle": "2022-06-13T16:07:42.337982Z",
          "shell.execute_reply": "2022-06-13T16:07:42.337289Z"
        },
        "id": "d6648b94",
        "papermill": {
          "duration": 0.114158,
          "end_time": "2022-06-13T16:07:42.339663",
          "exception": false,
          "start_time": "2022-06-13T16:07:42.225505",
          "status": "completed"
        },
        "tags": [],
        "colab": {
          "base_uri": "https://localhost:8080/"
        },
        "outputId": "621c9b44-623a-4260-f428-2200428137e5"
      },
      "outputs": [
        {
          "output_type": "execute_result",
          "data": {
            "text/plain": [
              "(TensorSpec(shape=(None,), dtype=tf.int64, name=None),\n",
              " (TensorSpec(shape=(None, 100), dtype=tf.int32, name=None),\n",
              "  TensorSpec(shape=(None, 100), dtype=tf.float64, name=None),\n",
              "  TensorSpec(shape=(None, 100), dtype=tf.int32, name=None),\n",
              "  TensorSpec(shape=(None, 100), dtype=tf.float32, name=None),\n",
              "  TensorSpec(shape=(None, 100), dtype=tf.float32, name=None),\n",
              "  TensorSpec(shape=(None, 100, 1), dtype=tf.float16, name=None),\n",
              "  TensorSpec(shape=(None, 28), dtype=tf.float64, name=None)))"
            ]
          },
          "metadata": {},
          "execution_count": 53
        }
      ],
      "source": [
        "submission_set = tf.data.Dataset.from_tensor_slices(\n",
        "    (\n",
        "        test_leaderboard_sessions['session_id'],\n",
        "     (\n",
        "        x_test_leaderboard,\n",
        "        x_reseen_test/100,\n",
        "        x_percentage_seen_test,\n",
        "        x_simils_test,\n",
        "        x_simils_feats_test,\n",
        "        x_test_item_related,\n",
        "        test_leaderboard_sessions[static_features].to_numpy()\n",
        "     )\n",
        "    )\n",
        ").batch(512)\n",
        "submission_set.element_spec"
      ]
    },
    {
      "cell_type": "code",
      "execution_count": 54,
      "id": "7b49535c",
      "metadata": {
        "execution": {
          "iopub.execute_input": "2022-06-13T16:07:42.392015Z",
          "iopub.status.busy": "2022-06-13T16:07:42.391745Z",
          "iopub.status.idle": "2022-06-13T16:07:42.400774Z",
          "shell.execute_reply": "2022-06-13T16:07:42.399954Z"
        },
        "id": "7b49535c",
        "outputId": "2739f52f-d7c9-4b63-b151-a20a866483e0",
        "papermill": {
          "duration": 0.036877,
          "end_time": "2022-06-13T16:07:42.402465",
          "exception": false,
          "start_time": "2022-06-13T16:07:42.365588",
          "status": "completed"
        },
        "tags": [],
        "colab": {
          "base_uri": "https://localhost:8080/",
          "height": 53
        }
      },
      "outputs": [
        {
          "output_type": "execute_result",
          "data": {
            "text/plain": [
              "Empty DataFrame\n",
              "Columns: [session_id, code, score, rank]\n",
              "Index: []"
            ],
            "text/html": [
              "\n",
              "  <div id=\"df-f9a98cbe-16b3-4501-8a7d-4f57fbe0a2a5\" class=\"colab-df-container\">\n",
              "    <div>\n",
              "<style scoped>\n",
              "    .dataframe tbody tr th:only-of-type {\n",
              "        vertical-align: middle;\n",
              "    }\n",
              "\n",
              "    .dataframe tbody tr th {\n",
              "        vertical-align: top;\n",
              "    }\n",
              "\n",
              "    .dataframe thead th {\n",
              "        text-align: right;\n",
              "    }\n",
              "</style>\n",
              "<table border=\"1\" class=\"dataframe\">\n",
              "  <thead>\n",
              "    <tr style=\"text-align: right;\">\n",
              "      <th></th>\n",
              "      <th>session_id</th>\n",
              "      <th>code</th>\n",
              "      <th>score</th>\n",
              "      <th>rank</th>\n",
              "    </tr>\n",
              "  </thead>\n",
              "  <tbody>\n",
              "  </tbody>\n",
              "</table>\n",
              "</div>\n",
              "    <div class=\"colab-df-buttons\">\n",
              "\n",
              "  <div class=\"colab-df-container\">\n",
              "    <button class=\"colab-df-convert\" onclick=\"convertToInteractive('df-f9a98cbe-16b3-4501-8a7d-4f57fbe0a2a5')\"\n",
              "            title=\"Convert this dataframe to an interactive table.\"\n",
              "            style=\"display:none;\">\n",
              "\n",
              "  <svg xmlns=\"http://www.w3.org/2000/svg\" height=\"24px\" viewBox=\"0 -960 960 960\">\n",
              "    <path d=\"M120-120v-720h720v720H120Zm60-500h600v-160H180v160Zm220 220h160v-160H400v160Zm0 220h160v-160H400v160ZM180-400h160v-160H180v160Zm440 0h160v-160H620v160ZM180-180h160v-160H180v160Zm440 0h160v-160H620v160Z\"/>\n",
              "  </svg>\n",
              "    </button>\n",
              "\n",
              "  <style>\n",
              "    .colab-df-container {\n",
              "      display:flex;\n",
              "      gap: 12px;\n",
              "    }\n",
              "\n",
              "    .colab-df-convert {\n",
              "      background-color: #E8F0FE;\n",
              "      border: none;\n",
              "      border-radius: 50%;\n",
              "      cursor: pointer;\n",
              "      display: none;\n",
              "      fill: #1967D2;\n",
              "      height: 32px;\n",
              "      padding: 0 0 0 0;\n",
              "      width: 32px;\n",
              "    }\n",
              "\n",
              "    .colab-df-convert:hover {\n",
              "      background-color: #E2EBFA;\n",
              "      box-shadow: 0px 1px 2px rgba(60, 64, 67, 0.3), 0px 1px 3px 1px rgba(60, 64, 67, 0.15);\n",
              "      fill: #174EA6;\n",
              "    }\n",
              "\n",
              "    .colab-df-buttons div {\n",
              "      margin-bottom: 4px;\n",
              "    }\n",
              "\n",
              "    [theme=dark] .colab-df-convert {\n",
              "      background-color: #3B4455;\n",
              "      fill: #D2E3FC;\n",
              "    }\n",
              "\n",
              "    [theme=dark] .colab-df-convert:hover {\n",
              "      background-color: #434B5C;\n",
              "      box-shadow: 0px 1px 3px 1px rgba(0, 0, 0, 0.15);\n",
              "      filter: drop-shadow(0px 1px 2px rgba(0, 0, 0, 0.3));\n",
              "      fill: #FFFFFF;\n",
              "    }\n",
              "  </style>\n",
              "\n",
              "    <script>\n",
              "      const buttonEl =\n",
              "        document.querySelector('#df-f9a98cbe-16b3-4501-8a7d-4f57fbe0a2a5 button.colab-df-convert');\n",
              "      buttonEl.style.display =\n",
              "        google.colab.kernel.accessAllowed ? 'block' : 'none';\n",
              "\n",
              "      async function convertToInteractive(key) {\n",
              "        const element = document.querySelector('#df-f9a98cbe-16b3-4501-8a7d-4f57fbe0a2a5');\n",
              "        const dataTable =\n",
              "          await google.colab.kernel.invokeFunction('convertToInteractive',\n",
              "                                                    [key], {});\n",
              "        if (!dataTable) return;\n",
              "\n",
              "        const docLinkHtml = 'Like what you see? Visit the ' +\n",
              "          '<a target=\"_blank\" href=https://colab.research.google.com/notebooks/data_table.ipynb>data table notebook</a>'\n",
              "          + ' to learn more about interactive tables.';\n",
              "        element.innerHTML = '';\n",
              "        dataTable['output_type'] = 'display_data';\n",
              "        await google.colab.output.renderOutput(dataTable, element);\n",
              "        const docLink = document.createElement('div');\n",
              "        docLink.innerHTML = docLinkHtml;\n",
              "        element.appendChild(docLink);\n",
              "      }\n",
              "    </script>\n",
              "  </div>\n",
              "\n",
              "\n",
              "    </div>\n",
              "  </div>\n"
            ],
            "application/vnd.google.colaboratory.intrinsic+json": {
              "type": "dataframe",
              "variable_name": "submission_df",
              "summary": "{\n  \"name\": \"submission_df\",\n  \"rows\": 0,\n  \"fields\": [\n    {\n      \"column\": \"session_id\",\n      \"properties\": {\n        \"dtype\": \"number\",\n        \"std\": null,\n        \"min\": null,\n        \"max\": null,\n        \"num_unique_values\": 0,\n        \"samples\": [],\n        \"semantic_type\": \"\",\n        \"description\": \"\"\n      }\n    },\n    {\n      \"column\": \"code\",\n      \"properties\": {\n        \"dtype\": \"number\",\n        \"std\": null,\n        \"min\": null,\n        \"max\": null,\n        \"num_unique_values\": 0,\n        \"samples\": [],\n        \"semantic_type\": \"\",\n        \"description\": \"\"\n      }\n    },\n    {\n      \"column\": \"score\",\n      \"properties\": {\n        \"dtype\": \"number\",\n        \"std\": null,\n        \"min\": null,\n        \"max\": null,\n        \"num_unique_values\": 0,\n        \"samples\": [],\n        \"semantic_type\": \"\",\n        \"description\": \"\"\n      }\n    },\n    {\n      \"column\": \"rank\",\n      \"properties\": {\n        \"dtype\": \"number\",\n        \"std\": null,\n        \"min\": null,\n        \"max\": null,\n        \"num_unique_values\": 0,\n        \"samples\": [],\n        \"semantic_type\": \"\",\n        \"description\": \"\"\n      }\n    }\n  ]\n}"
            }
          },
          "metadata": {},
          "execution_count": 54
        }
      ],
      "source": [
        "submission_df = pd.DataFrame(\n",
        "    {\n",
        "        'session_id':[],\n",
        "        'code':[],\n",
        "        'score':[],\n",
        "        'rank':[]\n",
        "    }\n",
        ")\n",
        "\n",
        "submission_df.head()"
      ]
    },
    {
      "cell_type": "code",
      "execution_count": 55,
      "id": "2ad3e22d",
      "metadata": {
        "execution": {
          "iopub.execute_input": "2022-06-13T16:07:42.462536Z",
          "iopub.status.busy": "2022-06-13T16:07:42.462250Z",
          "iopub.status.idle": "2022-06-13T16:07:42.467189Z",
          "shell.execute_reply": "2022-06-13T16:07:42.466421Z"
        },
        "id": "2ad3e22d",
        "papermill": {
          "duration": 0.04065,
          "end_time": "2022-06-13T16:07:42.468857",
          "exception": false,
          "start_time": "2022-06-13T16:07:42.428207",
          "status": "completed"
        },
        "tags": []
      },
      "outputs": [],
      "source": [
        "candidates=np.array([i+1 for i in range(4990)])"
      ]
    },
    {
      "cell_type": "code",
      "execution_count": 56,
      "id": "6a0589d1",
      "metadata": {
        "execution": {
          "iopub.execute_input": "2022-06-13T16:07:42.522535Z",
          "iopub.status.busy": "2022-06-13T16:07:42.522284Z",
          "iopub.status.idle": "2022-06-13T16:08:00.037931Z",
          "shell.execute_reply": "2022-06-13T16:08:00.037126Z"
        },
        "id": "6a0589d1",
        "outputId": "9f77c363-1c4d-478a-feb0-e6d4859add28",
        "papermill": {
          "duration": 17.543777,
          "end_time": "2022-06-13T16:08:00.039747",
          "exception": false,
          "start_time": "2022-06-13T16:07:42.495970",
          "status": "completed"
        },
        "tags": [],
        "colab": {
          "base_uri": "https://localhost:8080/",
          "height": 206
        }
      },
      "outputs": [
        {
          "output_type": "execute_result",
          "data": {
            "text/plain": [
              "   session_id                                               code  \\\n",
              "0        61.0  (1045, 4574, 3581, 4758, 143, 4136, 3414, 1916...   \n",
              "1        96.0  (3564, 3654, 4758, 4410, 2927, 19, 2064, 2050,...   \n",
              "2       185.0  (4148, 4146, 1652, 2330, 1569, 3326, 3767, 270...   \n",
              "3       224.0  (4202, 4418, 4298, 3186, 16, 3423, 2785, 234, ...   \n",
              "4       285.0  (3441, 2970, 1070, 615, 2471, 3555, 3016, 2268...   \n",
              "\n",
              "                                               score  \\\n",
              "0  (0.4153335, 0.023961727, 0.014235574, 0.011077...   \n",
              "1  (0.021127367, 0.014141993, 0.009293812, 0.0091...   \n",
              "2  (0.21640486, 0.04673108, 0.04393631, 0.0296929...   \n",
              "3  (0.08751924, 0.046374504, 0.029213909, 0.02363...   \n",
              "4  (0.064529635, 0.02613995, 0.019313104, 0.01652...   \n",
              "\n",
              "                                                rank  \n",
              "0  (1, 2, 3, 4, 5, 6, 7, 8, 9, 10, 11, 12, 13, 14...  \n",
              "1  (1, 2, 3, 4, 5, 6, 7, 8, 9, 10, 11, 12, 13, 14...  \n",
              "2  (1, 2, 3, 4, 5, 6, 7, 8, 9, 10, 11, 12, 13, 14...  \n",
              "3  (1, 2, 3, 4, 5, 6, 7, 8, 9, 10, 11, 12, 13, 14...  \n",
              "4  (1, 2, 3, 4, 5, 6, 7, 8, 9, 10, 11, 12, 13, 14...  "
            ],
            "text/html": [
              "\n",
              "  <div id=\"df-707b6dd2-8976-4b17-b495-b43aaf88e3a0\" class=\"colab-df-container\">\n",
              "    <div>\n",
              "<style scoped>\n",
              "    .dataframe tbody tr th:only-of-type {\n",
              "        vertical-align: middle;\n",
              "    }\n",
              "\n",
              "    .dataframe tbody tr th {\n",
              "        vertical-align: top;\n",
              "    }\n",
              "\n",
              "    .dataframe thead th {\n",
              "        text-align: right;\n",
              "    }\n",
              "</style>\n",
              "<table border=\"1\" class=\"dataframe\">\n",
              "  <thead>\n",
              "    <tr style=\"text-align: right;\">\n",
              "      <th></th>\n",
              "      <th>session_id</th>\n",
              "      <th>code</th>\n",
              "      <th>score</th>\n",
              "      <th>rank</th>\n",
              "    </tr>\n",
              "  </thead>\n",
              "  <tbody>\n",
              "    <tr>\n",
              "      <th>0</th>\n",
              "      <td>61.0</td>\n",
              "      <td>(1045, 4574, 3581, 4758, 143, 4136, 3414, 1916...</td>\n",
              "      <td>(0.4153335, 0.023961727, 0.014235574, 0.011077...</td>\n",
              "      <td>(1, 2, 3, 4, 5, 6, 7, 8, 9, 10, 11, 12, 13, 14...</td>\n",
              "    </tr>\n",
              "    <tr>\n",
              "      <th>1</th>\n",
              "      <td>96.0</td>\n",
              "      <td>(3564, 3654, 4758, 4410, 2927, 19, 2064, 2050,...</td>\n",
              "      <td>(0.021127367, 0.014141993, 0.009293812, 0.0091...</td>\n",
              "      <td>(1, 2, 3, 4, 5, 6, 7, 8, 9, 10, 11, 12, 13, 14...</td>\n",
              "    </tr>\n",
              "    <tr>\n",
              "      <th>2</th>\n",
              "      <td>185.0</td>\n",
              "      <td>(4148, 4146, 1652, 2330, 1569, 3326, 3767, 270...</td>\n",
              "      <td>(0.21640486, 0.04673108, 0.04393631, 0.0296929...</td>\n",
              "      <td>(1, 2, 3, 4, 5, 6, 7, 8, 9, 10, 11, 12, 13, 14...</td>\n",
              "    </tr>\n",
              "    <tr>\n",
              "      <th>3</th>\n",
              "      <td>224.0</td>\n",
              "      <td>(4202, 4418, 4298, 3186, 16, 3423, 2785, 234, ...</td>\n",
              "      <td>(0.08751924, 0.046374504, 0.029213909, 0.02363...</td>\n",
              "      <td>(1, 2, 3, 4, 5, 6, 7, 8, 9, 10, 11, 12, 13, 14...</td>\n",
              "    </tr>\n",
              "    <tr>\n",
              "      <th>4</th>\n",
              "      <td>285.0</td>\n",
              "      <td>(3441, 2970, 1070, 615, 2471, 3555, 3016, 2268...</td>\n",
              "      <td>(0.064529635, 0.02613995, 0.019313104, 0.01652...</td>\n",
              "      <td>(1, 2, 3, 4, 5, 6, 7, 8, 9, 10, 11, 12, 13, 14...</td>\n",
              "    </tr>\n",
              "  </tbody>\n",
              "</table>\n",
              "</div>\n",
              "    <div class=\"colab-df-buttons\">\n",
              "\n",
              "  <div class=\"colab-df-container\">\n",
              "    <button class=\"colab-df-convert\" onclick=\"convertToInteractive('df-707b6dd2-8976-4b17-b495-b43aaf88e3a0')\"\n",
              "            title=\"Convert this dataframe to an interactive table.\"\n",
              "            style=\"display:none;\">\n",
              "\n",
              "  <svg xmlns=\"http://www.w3.org/2000/svg\" height=\"24px\" viewBox=\"0 -960 960 960\">\n",
              "    <path d=\"M120-120v-720h720v720H120Zm60-500h600v-160H180v160Zm220 220h160v-160H400v160Zm0 220h160v-160H400v160ZM180-400h160v-160H180v160Zm440 0h160v-160H620v160ZM180-180h160v-160H180v160Zm440 0h160v-160H620v160Z\"/>\n",
              "  </svg>\n",
              "    </button>\n",
              "\n",
              "  <style>\n",
              "    .colab-df-container {\n",
              "      display:flex;\n",
              "      gap: 12px;\n",
              "    }\n",
              "\n",
              "    .colab-df-convert {\n",
              "      background-color: #E8F0FE;\n",
              "      border: none;\n",
              "      border-radius: 50%;\n",
              "      cursor: pointer;\n",
              "      display: none;\n",
              "      fill: #1967D2;\n",
              "      height: 32px;\n",
              "      padding: 0 0 0 0;\n",
              "      width: 32px;\n",
              "    }\n",
              "\n",
              "    .colab-df-convert:hover {\n",
              "      background-color: #E2EBFA;\n",
              "      box-shadow: 0px 1px 2px rgba(60, 64, 67, 0.3), 0px 1px 3px 1px rgba(60, 64, 67, 0.15);\n",
              "      fill: #174EA6;\n",
              "    }\n",
              "\n",
              "    .colab-df-buttons div {\n",
              "      margin-bottom: 4px;\n",
              "    }\n",
              "\n",
              "    [theme=dark] .colab-df-convert {\n",
              "      background-color: #3B4455;\n",
              "      fill: #D2E3FC;\n",
              "    }\n",
              "\n",
              "    [theme=dark] .colab-df-convert:hover {\n",
              "      background-color: #434B5C;\n",
              "      box-shadow: 0px 1px 3px 1px rgba(0, 0, 0, 0.15);\n",
              "      filter: drop-shadow(0px 1px 2px rgba(0, 0, 0, 0.3));\n",
              "      fill: #FFFFFF;\n",
              "    }\n",
              "  </style>\n",
              "\n",
              "    <script>\n",
              "      const buttonEl =\n",
              "        document.querySelector('#df-707b6dd2-8976-4b17-b495-b43aaf88e3a0 button.colab-df-convert');\n",
              "      buttonEl.style.display =\n",
              "        google.colab.kernel.accessAllowed ? 'block' : 'none';\n",
              "\n",
              "      async function convertToInteractive(key) {\n",
              "        const element = document.querySelector('#df-707b6dd2-8976-4b17-b495-b43aaf88e3a0');\n",
              "        const dataTable =\n",
              "          await google.colab.kernel.invokeFunction('convertToInteractive',\n",
              "                                                    [key], {});\n",
              "        if (!dataTable) return;\n",
              "\n",
              "        const docLinkHtml = 'Like what you see? Visit the ' +\n",
              "          '<a target=\"_blank\" href=https://colab.research.google.com/notebooks/data_table.ipynb>data table notebook</a>'\n",
              "          + ' to learn more about interactive tables.';\n",
              "        element.innerHTML = '';\n",
              "        dataTable['output_type'] = 'display_data';\n",
              "        await google.colab.output.renderOutput(dataTable, element);\n",
              "        const docLink = document.createElement('div');\n",
              "        docLink.innerHTML = docLinkHtml;\n",
              "        element.appendChild(docLink);\n",
              "      }\n",
              "    </script>\n",
              "  </div>\n",
              "\n",
              "\n",
              "<div id=\"df-34faf5a3-9c9c-4ed8-a65e-3f1dba35ed98\">\n",
              "  <button class=\"colab-df-quickchart\" onclick=\"quickchart('df-34faf5a3-9c9c-4ed8-a65e-3f1dba35ed98')\"\n",
              "            title=\"Suggest charts\"\n",
              "            style=\"display:none;\">\n",
              "\n",
              "<svg xmlns=\"http://www.w3.org/2000/svg\" height=\"24px\"viewBox=\"0 0 24 24\"\n",
              "     width=\"24px\">\n",
              "    <g>\n",
              "        <path d=\"M19 3H5c-1.1 0-2 .9-2 2v14c0 1.1.9 2 2 2h14c1.1 0 2-.9 2-2V5c0-1.1-.9-2-2-2zM9 17H7v-7h2v7zm4 0h-2V7h2v10zm4 0h-2v-4h2v4z\"/>\n",
              "    </g>\n",
              "</svg>\n",
              "  </button>\n",
              "\n",
              "<style>\n",
              "  .colab-df-quickchart {\n",
              "      --bg-color: #E8F0FE;\n",
              "      --fill-color: #1967D2;\n",
              "      --hover-bg-color: #E2EBFA;\n",
              "      --hover-fill-color: #174EA6;\n",
              "      --disabled-fill-color: #AAA;\n",
              "      --disabled-bg-color: #DDD;\n",
              "  }\n",
              "\n",
              "  [theme=dark] .colab-df-quickchart {\n",
              "      --bg-color: #3B4455;\n",
              "      --fill-color: #D2E3FC;\n",
              "      --hover-bg-color: #434B5C;\n",
              "      --hover-fill-color: #FFFFFF;\n",
              "      --disabled-bg-color: #3B4455;\n",
              "      --disabled-fill-color: #666;\n",
              "  }\n",
              "\n",
              "  .colab-df-quickchart {\n",
              "    background-color: var(--bg-color);\n",
              "    border: none;\n",
              "    border-radius: 50%;\n",
              "    cursor: pointer;\n",
              "    display: none;\n",
              "    fill: var(--fill-color);\n",
              "    height: 32px;\n",
              "    padding: 0;\n",
              "    width: 32px;\n",
              "  }\n",
              "\n",
              "  .colab-df-quickchart:hover {\n",
              "    background-color: var(--hover-bg-color);\n",
              "    box-shadow: 0 1px 2px rgba(60, 64, 67, 0.3), 0 1px 3px 1px rgba(60, 64, 67, 0.15);\n",
              "    fill: var(--button-hover-fill-color);\n",
              "  }\n",
              "\n",
              "  .colab-df-quickchart-complete:disabled,\n",
              "  .colab-df-quickchart-complete:disabled:hover {\n",
              "    background-color: var(--disabled-bg-color);\n",
              "    fill: var(--disabled-fill-color);\n",
              "    box-shadow: none;\n",
              "  }\n",
              "\n",
              "  .colab-df-spinner {\n",
              "    border: 2px solid var(--fill-color);\n",
              "    border-color: transparent;\n",
              "    border-bottom-color: var(--fill-color);\n",
              "    animation:\n",
              "      spin 1s steps(1) infinite;\n",
              "  }\n",
              "\n",
              "  @keyframes spin {\n",
              "    0% {\n",
              "      border-color: transparent;\n",
              "      border-bottom-color: var(--fill-color);\n",
              "      border-left-color: var(--fill-color);\n",
              "    }\n",
              "    20% {\n",
              "      border-color: transparent;\n",
              "      border-left-color: var(--fill-color);\n",
              "      border-top-color: var(--fill-color);\n",
              "    }\n",
              "    30% {\n",
              "      border-color: transparent;\n",
              "      border-left-color: var(--fill-color);\n",
              "      border-top-color: var(--fill-color);\n",
              "      border-right-color: var(--fill-color);\n",
              "    }\n",
              "    40% {\n",
              "      border-color: transparent;\n",
              "      border-right-color: var(--fill-color);\n",
              "      border-top-color: var(--fill-color);\n",
              "    }\n",
              "    60% {\n",
              "      border-color: transparent;\n",
              "      border-right-color: var(--fill-color);\n",
              "    }\n",
              "    80% {\n",
              "      border-color: transparent;\n",
              "      border-right-color: var(--fill-color);\n",
              "      border-bottom-color: var(--fill-color);\n",
              "    }\n",
              "    90% {\n",
              "      border-color: transparent;\n",
              "      border-bottom-color: var(--fill-color);\n",
              "    }\n",
              "  }\n",
              "</style>\n",
              "\n",
              "  <script>\n",
              "    async function quickchart(key) {\n",
              "      const quickchartButtonEl =\n",
              "        document.querySelector('#' + key + ' button');\n",
              "      quickchartButtonEl.disabled = true;  // To prevent multiple clicks.\n",
              "      quickchartButtonEl.classList.add('colab-df-spinner');\n",
              "      try {\n",
              "        const charts = await google.colab.kernel.invokeFunction(\n",
              "            'suggestCharts', [key], {});\n",
              "      } catch (error) {\n",
              "        console.error('Error during call to suggestCharts:', error);\n",
              "      }\n",
              "      quickchartButtonEl.classList.remove('colab-df-spinner');\n",
              "      quickchartButtonEl.classList.add('colab-df-quickchart-complete');\n",
              "    }\n",
              "    (() => {\n",
              "      let quickchartButtonEl =\n",
              "        document.querySelector('#df-34faf5a3-9c9c-4ed8-a65e-3f1dba35ed98 button');\n",
              "      quickchartButtonEl.style.display =\n",
              "        google.colab.kernel.accessAllowed ? 'block' : 'none';\n",
              "    })();\n",
              "  </script>\n",
              "</div>\n",
              "\n",
              "    </div>\n",
              "  </div>\n"
            ],
            "application/vnd.google.colaboratory.intrinsic+json": {
              "type": "dataframe",
              "variable_name": "submission_df",
              "summary": "{\n  \"name\": \"submission_df\",\n  \"rows\": 50000,\n  \"fields\": [\n    {\n      \"column\": \"session_id\",\n      \"properties\": {\n        \"dtype\": \"number\",\n        \"std\": 1282026.5744703738,\n        \"min\": 61.0,\n        \"max\": 4439966.0,\n        \"num_unique_values\": 50000,\n        \"samples\": [\n          2971690.0,\n          836475.0,\n          16743.0\n        ],\n        \"semantic_type\": \"\",\n        \"description\": \"\"\n      }\n    },\n    {\n      \"column\": \"code\",\n      \"properties\": {\n        \"dtype\": \"string\",\n        \"num_unique_values\": 49963,\n        \"samples\": [\n          [\n            \"3526\",\n            \"3676\",\n            \"949\",\n            \"2530\",\n            \"3412\",\n            \"554\",\n            \"270\",\n            \"2720\",\n            \"2715\",\n            \"977\",\n            \"1661\",\n            \"2605\",\n            \"1473\",\n            \"3867\",\n            \"772\",\n            \"99\",\n            \"1468\",\n            \"3424\",\n            \"707\",\n            \"3400\",\n            \"2302\",\n            \"917\",\n            \"2479\",\n            \"4967\",\n            \"3005\",\n            \"4810\",\n            \"1238\",\n            \"4724\",\n            \"2549\",\n            \"1375\",\n            \"4418\",\n            \"3656\",\n            \"4939\",\n            \"2800\",\n            \"3084\",\n            \"4156\",\n            \"2547\",\n            \"2793\",\n            \"4024\",\n            \"3518\",\n            \"13\",\n            \"4612\",\n            \"3037\",\n            \"3582\",\n            \"1374\",\n            \"3318\",\n            \"2033\",\n            \"2734\",\n            \"4122\",\n            \"3229\",\n            \"3519\",\n            \"4535\",\n            \"423\",\n            \"4741\",\n            \"4327\",\n            \"3893\",\n            \"2156\",\n            \"3194\",\n            \"4986\",\n            \"4118\",\n            \"2696\",\n            \"4294\",\n            \"4477\",\n            \"4298\",\n            \"1584\",\n            \"793\",\n            \"3104\",\n            \"4211\",\n            \"4819\",\n            \"1248\",\n            \"3644\",\n            \"3746\",\n            \"4146\",\n            \"3355\",\n            \"4411\",\n            \"2328\",\n            \"3776\",\n            \"2464\",\n            \"2865\",\n            \"1163\",\n            \"2347\",\n            \"4026\",\n            \"2051\",\n            \"2919\",\n            \"190\",\n            \"1449\",\n            \"3541\",\n            \"3186\",\n            \"576\",\n            \"1714\",\n            \"1827\",\n            \"2729\",\n            \"1987\",\n            \"1899\",\n            \"773\",\n            \"3614\",\n            \"1725\",\n            \"4036\",\n            \"3618\",\n            \"786\"\n          ],\n          [\n            \"1514\",\n            \"4110\",\n            \"2126\",\n            \"307\",\n            \"3545\",\n            \"4485\",\n            \"1087\",\n            \"1840\",\n            \"3495\",\n            \"312\",\n            \"472\",\n            \"1233\",\n            \"4598\",\n            \"3452\",\n            \"273\",\n            \"3619\",\n            \"2637\",\n            \"2645\",\n            \"1130\",\n            \"2002\",\n            \"2978\",\n            \"4957\",\n            \"3112\",\n            \"21\",\n            \"3513\",\n            \"4975\",\n            \"2403\",\n            \"3834\",\n            \"3944\",\n            \"1889\",\n            \"4019\",\n            \"2734\",\n            \"801\",\n            \"4952\",\n            \"3132\",\n            \"3058\",\n            \"600\",\n            \"1266\",\n            \"2753\",\n            \"2534\",\n            \"4606\",\n            \"1842\",\n            \"4800\",\n            \"4841\",\n            \"4348\",\n            \"768\",\n            \"2889\",\n            \"176\",\n            \"2565\",\n            \"3212\",\n            \"606\",\n            \"2898\",\n            \"2709\",\n            \"591\",\n            \"964\",\n            \"910\",\n            \"2907\",\n            \"1398\",\n            \"1686\",\n            \"1219\",\n            \"4716\",\n            \"1205\",\n            \"1084\",\n            \"2328\",\n            \"4616\",\n            \"1767\",\n            \"4819\",\n            \"159\",\n            \"234\",\n            \"91\",\n            \"942\",\n            \"3072\",\n            \"4407\",\n            \"4058\",\n            \"2823\",\n            \"1008\",\n            \"1147\",\n            \"4298\",\n            \"2298\",\n            \"169\",\n            \"4145\",\n            \"1032\",\n            \"1114\",\n            \"615\",\n            \"2874\",\n            \"634\",\n            \"570\",\n            \"509\",\n            \"3782\",\n            \"1601\",\n            \"2234\",\n            \"2961\",\n            \"2280\",\n            \"3197\",\n            \"2121\",\n            \"2729\",\n            \"37\",\n            \"3741\",\n            \"3523\",\n            \"1687\"\n          ],\n          [\n            \"4967\",\n            \"772\",\n            \"4167\",\n            \"3400\",\n            \"99\",\n            \"2381\",\n            \"2464\",\n            \"1827\",\n            \"3424\",\n            \"1449\",\n            \"949\",\n            \"554\",\n            \"3656\",\n            \"270\",\n            \"3676\",\n            \"4026\",\n            \"1468\",\n            \"2696\",\n            \"3582\",\n            \"2734\",\n            \"2547\",\n            \"3526\",\n            \"4122\",\n            \"2720\",\n            \"2638\",\n            \"4779\",\n            \"2530\",\n            \"64\",\n            \"3633\",\n            \"3229\",\n            \"2715\",\n            \"3531\",\n            \"1125\",\n            \"3782\",\n            \"2156\",\n            \"3004\",\n            \"2793\",\n            \"3519\",\n            \"2051\",\n            \"2605\",\n            \"3037\",\n            \"3596\",\n            \"3893\",\n            \"3412\",\n            \"707\",\n            \"1473\",\n            \"4024\",\n            \"2865\",\n            \"4846\",\n            \"191\",\n            \"3550\",\n            \"3423\",\n            \"977\",\n            \"4211\",\n            \"887\",\n            \"2258\",\n            \"1163\",\n            \"2800\",\n            \"3283\",\n            \"2204\",\n            \"4118\",\n            \"3304\",\n            \"3660\",\n            \"4878\",\n            \"3318\",\n            \"4069\",\n            \"989\",\n            \"1238\",\n            \"4411\",\n            \"517\",\n            \"1375\",\n            \"2180\",\n            \"593\",\n            \"4148\",\n            \"3060\",\n            \"294\",\n            \"4819\",\n            \"2266\",\n            \"2033\",\n            \"3194\",\n            \"4327\",\n            \"4560\",\n            \"2466\",\n            \"2641\",\n            \"643\",\n            \"1342\",\n            \"3186\",\n            \"4717\",\n            \"3541\",\n            \"442\",\n            \"1725\",\n            \"4612\",\n            \"2994\",\n            \"4741\",\n            \"323\",\n            \"4776\",\n            \"4749\",\n            \"3614\",\n            \"2919\",\n            \"439\"\n          ]\n        ],\n        \"semantic_type\": \"\",\n        \"description\": \"\"\n      }\n    },\n    {\n      \"column\": \"score\",\n      \"properties\": {\n        \"dtype\": \"string\",\n        \"num_unique_values\": 49985,\n        \"samples\": [\n          [\n            \"0.45759243\",\n            \"0.10953224\",\n            \"0.06050439\",\n            \"0.032909974\",\n            \"0.021963598\",\n            \"0.013893572\",\n            \"0.011134155\",\n            \"0.008695702\",\n            \"0.00735461\",\n            \"0.0066739945\",\n            \"0.0064093634\",\n            \"0.005139441\",\n            \"0.0047373124\",\n            \"0.0047305045\",\n            \"0.0038489916\",\n            \"0.0038066176\",\n            \"0.003578258\",\n            \"0.0027565642\",\n            \"0.0023212554\",\n            \"0.0023197595\",\n            \"0.0022725624\",\n            \"0.002233407\",\n            \"0.0016883451\",\n            \"0.0016427202\",\n            \"0.0015582655\",\n            \"0.0014022578\",\n            \"0.0013464076\",\n            \"0.0013214893\",\n            \"0.0011926576\",\n            \"0.0011138971\",\n            \"0.0010784139\",\n            \"0.0010015256\",\n            \"0.0009550154\",\n            \"0.00094816025\",\n            \"0.00087888236\",\n            \"0.000836214\",\n            \"0.00080649863\",\n            \"0.00077900913\",\n            \"0.0007687873\",\n            \"0.00073866174\",\n            \"0.00072005077\",\n            \"0.0007090659\",\n            \"0.0006940118\",\n            \"0.0006852071\",\n            \"0.0006640862\",\n            \"0.0006609851\",\n            \"0.00062026334\",\n            \"0.0006099928\",\n            \"0.00060989626\",\n            \"0.00060607994\",\n            \"0.00058373244\",\n            \"0.0005806321\",\n            \"0.0005545453\",\n            \"0.00052089145\",\n            \"0.00051769416\",\n            \"0.0005094135\",\n            \"0.0004929227\",\n            \"0.0004806426\",\n            \"0.00047782276\",\n            \"0.00047542184\",\n            \"0.00046822167\",\n            \"0.00046348487\",\n            \"0.00045351658\",\n            \"0.00044378472\",\n            \"0.000440039\",\n            \"0.000414494\",\n            \"0.0004111515\",\n            \"0.0004033168\",\n            \"0.00037953927\",\n            \"0.0003756745\",\n            \"0.00037140617\",\n            \"0.00036951323\",\n            \"0.00036798485\",\n            \"0.00035997853\",\n            \"0.0003596203\",\n            \"0.00035615874\",\n            \"0.00035522864\",\n            \"0.00035392807\",\n            \"0.00035309268\",\n            \"0.0003482815\",\n            \"0.00034178427\",\n            \"0.0003380357\",\n            \"0.0003276298\",\n            \"0.00031889472\",\n            \"0.00031452667\",\n            \"0.00031305378\",\n            \"0.00031158\",\n            \"0.0003092237\",\n            \"0.0003050149\",\n            \"0.00030404952\",\n            \"0.00029999472\",\n            \"0.00029339542\",\n            \"0.00028486367\",\n            \"0.0002829559\",\n            \"0.00028294406\",\n            \"0.0002806897\",\n            \"0.00027927506\",\n            \"0.00027306023\",\n            \"0.00027113585\",\n            \"0.00026591038\"\n          ],\n          [\n            \"0.26679426\",\n            \"0.06680023\",\n            \"0.03549889\",\n            \"0.02061645\",\n            \"0.017986683\",\n            \"0.01647266\",\n            \"0.015146265\",\n            \"0.011629191\",\n            \"0.011222768\",\n            \"0.010873704\",\n            \"0.008263201\",\n            \"0.007472589\",\n            \"0.007061356\",\n            \"0.006984582\",\n            \"0.006646619\",\n            \"0.0066353073\",\n            \"0.0065589305\",\n            \"0.0063516423\",\n            \"0.0062153386\",\n            \"0.0059854244\",\n            \"0.005638014\",\n            \"0.005583143\",\n            \"0.0054061785\",\n            \"0.0044235345\",\n            \"0.00430187\",\n            \"0.0039060751\",\n            \"0.0036075164\",\n            \"0.0035633359\",\n            \"0.0032464599\",\n            \"0.0031934623\",\n            \"0.0030805946\",\n            \"0.00284582\",\n            \"0.002688001\",\n            \"0.0024584872\",\n            \"0.0023828724\",\n            \"0.002309123\",\n            \"0.0022670191\",\n            \"0.002234694\",\n            \"0.002215676\",\n            \"0.0021443614\",\n            \"0.0020678267\",\n            \"0.0019989703\",\n            \"0.0017645461\",\n            \"0.0017422979\",\n            \"0.0017289766\",\n            \"0.0016638034\",\n            \"0.00161202\",\n            \"0.0015165741\",\n            \"0.0014495159\",\n            \"0.0013709287\",\n            \"0.0013582287\",\n            \"0.0013213055\",\n            \"0.0012783507\",\n            \"0.0012017002\",\n            \"0.00118862\",\n            \"0.0010800762\",\n            \"0.0010047295\",\n            \"0.0010011924\",\n            \"0.0009791504\",\n            \"0.00095899485\",\n            \"0.0009286533\",\n            \"0.0009186572\",\n            \"0.0009183577\",\n            \"0.000909839\",\n            \"0.0009058892\",\n            \"0.0008992133\",\n            \"0.00087364455\",\n            \"0.0008601721\",\n            \"0.00085649994\",\n            \"0.000841064\",\n            \"0.00083798636\",\n            \"0.0008326855\",\n            \"0.000831841\",\n            \"0.0008234649\",\n            \"0.0008084485\",\n            \"0.0008010639\",\n            \"0.0007960665\",\n            \"0.0007831239\",\n            \"0.00078308355\",\n            \"0.0007735545\",\n            \"0.0007476599\",\n            \"0.00073413213\",\n            \"0.00072639616\",\n            \"0.0007162224\",\n            \"0.0007156407\",\n            \"0.0007132424\",\n            \"0.0006956047\",\n            \"0.000685279\",\n            \"0.00068418327\",\n            \"0.000683638\",\n            \"0.00068190857\",\n            \"0.00068000576\",\n            \"0.00065819226\",\n            \"0.0006561066\",\n            \"0.0006512094\",\n            \"0.00064967596\",\n            \"0.0006334616\",\n            \"0.0006312111\",\n            \"0.00062584045\",\n            \"0.00060580607\"\n          ],\n          [\n            \"0.055906713\",\n            \"0.0415465\",\n            \"0.025343975\",\n            \"0.022961536\",\n            \"0.020974215\",\n            \"0.01903814\",\n            \"0.01847663\",\n            \"0.013125029\",\n            \"0.011564365\",\n            \"0.0109389005\",\n            \"0.010336969\",\n            \"0.009379802\",\n            \"0.009286913\",\n            \"0.009042604\",\n            \"0.008733021\",\n            \"0.008085309\",\n            \"0.007483039\",\n            \"0.007241337\",\n            \"0.00670288\",\n            \"0.006611371\",\n            \"0.0063627763\",\n            \"0.006344525\",\n            \"0.0057538063\",\n            \"0.005331052\",\n            \"0.005094781\",\n            \"0.005025897\",\n            \"0.0050046993\",\n            \"0.0049439874\",\n            \"0.0048855026\",\n            \"0.004717487\",\n            \"0.0046483898\",\n            \"0.004532827\",\n            \"0.004309871\",\n            \"0.004229147\",\n            \"0.0042209434\",\n            \"0.003851806\",\n            \"0.0036896209\",\n            \"0.0035799183\",\n            \"0.0033684468\",\n            \"0.0033606882\",\n            \"0.0033523717\",\n            \"0.0032339152\",\n            \"0.0032104629\",\n            \"0.0030426506\",\n            \"0.0029406634\",\n            \"0.002930797\",\n            \"0.0027884103\",\n            \"0.0026006312\",\n            \"0.0023873658\",\n            \"0.0023058164\",\n            \"0.0022634445\",\n            \"0.0022631465\",\n            \"0.0022626289\",\n            \"0.002237847\",\n            \"0.002236729\",\n            \"0.0021867414\",\n            \"0.0021507458\",\n            \"0.0020728859\",\n            \"0.001964944\",\n            \"0.0018861498\",\n            \"0.0018754345\",\n            \"0.001864524\",\n            \"0.0018641115\",\n            \"0.0018435682\",\n            \"0.0018345917\",\n            \"0.0018155712\",\n            \"0.001812976\",\n            \"0.0017967995\",\n            \"0.0017381165\",\n            \"0.0017347251\",\n            \"0.0017222335\",\n            \"0.001700994\",\n            \"0.0016961927\",\n            \"0.0016681191\",\n            \"0.0015701376\",\n            \"0.0015590275\",\n            \"0.0015367727\",\n            \"0.0014959142\",\n            \"0.0014801059\",\n            \"0.0014306958\",\n            \"0.0014246587\",\n            \"0.0014002514\",\n            \"0.001393787\",\n            \"0.0013725318\",\n            \"0.001359699\",\n            \"0.0013594682\",\n            \"0.0013518584\",\n            \"0.0013466676\",\n            \"0.0013183835\",\n            \"0.0013128328\",\n            \"0.001241354\",\n            \"0.0012345278\",\n            \"0.0011750842\",\n            \"0.001173015\",\n            \"0.001167101\",\n            \"0.0011478654\",\n            \"0.001127544\",\n            \"0.0010965824\",\n            \"0.0010919383\",\n            \"0.0010619301\"\n          ]\n        ],\n        \"semantic_type\": \"\",\n        \"description\": \"\"\n      }\n    },\n    {\n      \"column\": \"rank\",\n      \"properties\": {\n        \"dtype\": \"category\",\n        \"num_unique_values\": 1,\n        \"samples\": [\n          [\n            1,\n            2,\n            3,\n            4,\n            5,\n            6,\n            7,\n            8,\n            9,\n            10,\n            11,\n            12,\n            13,\n            14,\n            15,\n            16,\n            17,\n            18,\n            19,\n            20,\n            21,\n            22,\n            23,\n            24,\n            25,\n            26,\n            27,\n            28,\n            29,\n            30,\n            31,\n            32,\n            33,\n            34,\n            35,\n            36,\n            37,\n            38,\n            39,\n            40,\n            41,\n            42,\n            43,\n            44,\n            45,\n            46,\n            47,\n            48,\n            49,\n            50,\n            51,\n            52,\n            53,\n            54,\n            55,\n            56,\n            57,\n            58,\n            59,\n            60,\n            61,\n            62,\n            63,\n            64,\n            65,\n            66,\n            67,\n            68,\n            69,\n            70,\n            71,\n            72,\n            73,\n            74,\n            75,\n            76,\n            77,\n            78,\n            79,\n            80,\n            81,\n            82,\n            83,\n            84,\n            85,\n            86,\n            87,\n            88,\n            89,\n            90,\n            91,\n            92,\n            93,\n            94,\n            95,\n            96,\n            97,\n            98,\n            99,\n            100\n          ]\n        ],\n        \"semantic_type\": \"\",\n        \"description\": \"\"\n      }\n    }\n  ]\n}"
            }
          },
          "metadata": {},
          "execution_count": 56
        }
      ],
      "source": [
        "for session_ids, sessions in submission_set:\n",
        "    predicted_scores=model_for_training(sessions)[0].numpy()\n",
        "    mask = np.ones(predicted_scores.shape[1], dtype=bool)\n",
        "    mask[candidates] = False\n",
        "    predicted_scores[...,mask]=-np.inf\n",
        "    predicted_scores=tf.convert_to_tensor(predicted_scores)\n",
        "    preds=tf.math.top_k(predicted_scores, k=100)\n",
        "    scores=preds.values.numpy()\n",
        "    code = preds.indices.numpy()\n",
        "    prediction = pd.DataFrame(\n",
        "        {\n",
        "            'session_id':session_ids,\n",
        "            'code':[tuple(v) for v in code],\n",
        "            'score':[tuple(v) for v in scores],\n",
        "            'rank':[tuple([rank for rank in range(1, 101)]) for id in session_ids]\n",
        "        }\n",
        "        )\n",
        "\n",
        "    submission_df = pd.concat([submission_df, prediction])\n",
        "\n",
        "submission_df.head()"
      ]
    },
    {
      "cell_type": "code",
      "execution_count": 57,
      "id": "0174eab0",
      "metadata": {
        "execution": {
          "iopub.execute_input": "2022-06-13T16:08:00.095110Z",
          "iopub.status.busy": "2022-06-13T16:08:00.094831Z",
          "iopub.status.idle": "2022-06-13T16:08:09.121282Z",
          "shell.execute_reply": "2022-06-13T16:08:09.120413Z"
        },
        "id": "0174eab0",
        "papermill": {
          "duration": 9.056726,
          "end_time": "2022-06-13T16:08:09.123326",
          "exception": false,
          "start_time": "2022-06-13T16:08:00.066600",
          "status": "completed"
        },
        "tags": []
      },
      "outputs": [],
      "source": [
        "submission_df.to_csv(\n",
        "    'drive/MyDrive/recsys2022-main/dataset/candidates/NN/LSTM/final/candidates.csv',\n",
        "    index=False\n",
        "    )"
      ]
    },
    {
      "cell_type": "code",
      "execution_count": 57,
      "id": "627bb6fe",
      "metadata": {
        "id": "627bb6fe",
        "papermill": {
          "duration": 0.026333,
          "end_time": "2022-06-13T16:08:09.177035",
          "exception": false,
          "start_time": "2022-06-13T16:08:09.150702",
          "status": "completed"
        },
        "tags": []
      },
      "outputs": [],
      "source": []
    }
  ],
  "metadata": {
    "kernelspec": {
      "display_name": "Python 3",
      "name": "python3"
    },
    "language_info": {
      "codemirror_mode": {
        "name": "ipython",
        "version": 3
      },
      "file_extension": ".py",
      "mimetype": "text/x-python",
      "name": "python",
      "nbconvert_exporter": "python",
      "pygments_lexer": "ipython3",
      "version": "3.7.13"
    },
    "papermill": {
      "default_parameters": {},
      "duration": 1387.380693,
      "end_time": "2022-06-13T16:08:12.026465",
      "environment_variables": {},
      "exception": null,
      "input_path": "__notebook__.ipynb",
      "output_path": "__notebook__.ipynb",
      "parameters": {},
      "start_time": "2022-06-13T15:45:04.645772",
      "version": "2.3.4"
    },
    "vscode": {
      "interpreter": {
        "hash": "61f38fddaed46afda7c40a5798d4631266e18af1d335aa6f772dc3ed9b8ab549"
      }
    },
    "widgets": {
      "application/vnd.jupyter.widget-state+json": {
        "9cd13a43c1244fb688bda60cdb5d2b56": {
          "model_module": "@jupyter-widgets/controls",
          "model_name": "HBoxModel",
          "model_module_version": "1.5.0",
          "state": {
            "_dom_classes": [],
            "_model_module": "@jupyter-widgets/controls",
            "_model_module_version": "1.5.0",
            "_model_name": "HBoxModel",
            "_view_count": null,
            "_view_module": "@jupyter-widgets/controls",
            "_view_module_version": "1.5.0",
            "_view_name": "HBoxView",
            "box_style": "",
            "children": [
              "IPY_MODEL_a7c36ecc279b41b1ad68a198b7dab0b0",
              "IPY_MODEL_0318aa2e9dd24ca89fdf6bc7a3033446",
              "IPY_MODEL_b7a02a13b94242359a2c9b4973569147"
            ],
            "layout": "IPY_MODEL_efacebecf64b4259bbfb79ba6c58d9a5"
          }
        },
        "a7c36ecc279b41b1ad68a198b7dab0b0": {
          "model_module": "@jupyter-widgets/controls",
          "model_name": "HTMLModel",
          "model_module_version": "1.5.0",
          "state": {
            "_dom_classes": [],
            "_model_module": "@jupyter-widgets/controls",
            "_model_module_version": "1.5.0",
            "_model_name": "HTMLModel",
            "_view_count": null,
            "_view_module": "@jupyter-widgets/controls",
            "_view_module_version": "1.5.0",
            "_view_name": "HTMLView",
            "description": "",
            "description_tooltip": null,
            "layout": "IPY_MODEL_825c44b72f6041d98d38e428a115f239",
            "placeholder": "​",
            "style": "IPY_MODEL_b0974ec673a54913adb047a1cec822a2",
            "value": "100%"
          }
        },
        "0318aa2e9dd24ca89fdf6bc7a3033446": {
          "model_module": "@jupyter-widgets/controls",
          "model_name": "FloatProgressModel",
          "model_module_version": "1.5.0",
          "state": {
            "_dom_classes": [],
            "_model_module": "@jupyter-widgets/controls",
            "_model_module_version": "1.5.0",
            "_model_name": "FloatProgressModel",
            "_view_count": null,
            "_view_module": "@jupyter-widgets/controls",
            "_view_module_version": "1.5.0",
            "_view_name": "ProgressView",
            "bar_style": "success",
            "description": "",
            "description_tooltip": null,
            "layout": "IPY_MODEL_df8cf27c37444767877d31c8ccf32245",
            "max": 1000000,
            "min": 0,
            "orientation": "horizontal",
            "style": "IPY_MODEL_8feae0baf4c94aa588d6d996b7a3b901",
            "value": 1000000
          }
        },
        "b7a02a13b94242359a2c9b4973569147": {
          "model_module": "@jupyter-widgets/controls",
          "model_name": "HTMLModel",
          "model_module_version": "1.5.0",
          "state": {
            "_dom_classes": [],
            "_model_module": "@jupyter-widgets/controls",
            "_model_module_version": "1.5.0",
            "_model_name": "HTMLModel",
            "_view_count": null,
            "_view_module": "@jupyter-widgets/controls",
            "_view_module_version": "1.5.0",
            "_view_name": "HTMLView",
            "description": "",
            "description_tooltip": null,
            "layout": "IPY_MODEL_2a6cdd2c96564a15a8832dca11f34520",
            "placeholder": "​",
            "style": "IPY_MODEL_d4b1a0d180dc482789c078dd8dedaf9b",
            "value": " 1000000/1000000 [00:02&lt;00:00, 459587.00it/s]"
          }
        },
        "efacebecf64b4259bbfb79ba6c58d9a5": {
          "model_module": "@jupyter-widgets/base",
          "model_name": "LayoutModel",
          "model_module_version": "1.2.0",
          "state": {
            "_model_module": "@jupyter-widgets/base",
            "_model_module_version": "1.2.0",
            "_model_name": "LayoutModel",
            "_view_count": null,
            "_view_module": "@jupyter-widgets/base",
            "_view_module_version": "1.2.0",
            "_view_name": "LayoutView",
            "align_content": null,
            "align_items": null,
            "align_self": null,
            "border": null,
            "bottom": null,
            "display": null,
            "flex": null,
            "flex_flow": null,
            "grid_area": null,
            "grid_auto_columns": null,
            "grid_auto_flow": null,
            "grid_auto_rows": null,
            "grid_column": null,
            "grid_gap": null,
            "grid_row": null,
            "grid_template_areas": null,
            "grid_template_columns": null,
            "grid_template_rows": null,
            "height": null,
            "justify_content": null,
            "justify_items": null,
            "left": null,
            "margin": null,
            "max_height": null,
            "max_width": null,
            "min_height": null,
            "min_width": null,
            "object_fit": null,
            "object_position": null,
            "order": null,
            "overflow": null,
            "overflow_x": null,
            "overflow_y": null,
            "padding": null,
            "right": null,
            "top": null,
            "visibility": null,
            "width": null
          }
        },
        "825c44b72f6041d98d38e428a115f239": {
          "model_module": "@jupyter-widgets/base",
          "model_name": "LayoutModel",
          "model_module_version": "1.2.0",
          "state": {
            "_model_module": "@jupyter-widgets/base",
            "_model_module_version": "1.2.0",
            "_model_name": "LayoutModel",
            "_view_count": null,
            "_view_module": "@jupyter-widgets/base",
            "_view_module_version": "1.2.0",
            "_view_name": "LayoutView",
            "align_content": null,
            "align_items": null,
            "align_self": null,
            "border": null,
            "bottom": null,
            "display": null,
            "flex": null,
            "flex_flow": null,
            "grid_area": null,
            "grid_auto_columns": null,
            "grid_auto_flow": null,
            "grid_auto_rows": null,
            "grid_column": null,
            "grid_gap": null,
            "grid_row": null,
            "grid_template_areas": null,
            "grid_template_columns": null,
            "grid_template_rows": null,
            "height": null,
            "justify_content": null,
            "justify_items": null,
            "left": null,
            "margin": null,
            "max_height": null,
            "max_width": null,
            "min_height": null,
            "min_width": null,
            "object_fit": null,
            "object_position": null,
            "order": null,
            "overflow": null,
            "overflow_x": null,
            "overflow_y": null,
            "padding": null,
            "right": null,
            "top": null,
            "visibility": null,
            "width": null
          }
        },
        "b0974ec673a54913adb047a1cec822a2": {
          "model_module": "@jupyter-widgets/controls",
          "model_name": "DescriptionStyleModel",
          "model_module_version": "1.5.0",
          "state": {
            "_model_module": "@jupyter-widgets/controls",
            "_model_module_version": "1.5.0",
            "_model_name": "DescriptionStyleModel",
            "_view_count": null,
            "_view_module": "@jupyter-widgets/base",
            "_view_module_version": "1.2.0",
            "_view_name": "StyleView",
            "description_width": ""
          }
        },
        "df8cf27c37444767877d31c8ccf32245": {
          "model_module": "@jupyter-widgets/base",
          "model_name": "LayoutModel",
          "model_module_version": "1.2.0",
          "state": {
            "_model_module": "@jupyter-widgets/base",
            "_model_module_version": "1.2.0",
            "_model_name": "LayoutModel",
            "_view_count": null,
            "_view_module": "@jupyter-widgets/base",
            "_view_module_version": "1.2.0",
            "_view_name": "LayoutView",
            "align_content": null,
            "align_items": null,
            "align_self": null,
            "border": null,
            "bottom": null,
            "display": null,
            "flex": null,
            "flex_flow": null,
            "grid_area": null,
            "grid_auto_columns": null,
            "grid_auto_flow": null,
            "grid_auto_rows": null,
            "grid_column": null,
            "grid_gap": null,
            "grid_row": null,
            "grid_template_areas": null,
            "grid_template_columns": null,
            "grid_template_rows": null,
            "height": null,
            "justify_content": null,
            "justify_items": null,
            "left": null,
            "margin": null,
            "max_height": null,
            "max_width": null,
            "min_height": null,
            "min_width": null,
            "object_fit": null,
            "object_position": null,
            "order": null,
            "overflow": null,
            "overflow_x": null,
            "overflow_y": null,
            "padding": null,
            "right": null,
            "top": null,
            "visibility": null,
            "width": null
          }
        },
        "8feae0baf4c94aa588d6d996b7a3b901": {
          "model_module": "@jupyter-widgets/controls",
          "model_name": "ProgressStyleModel",
          "model_module_version": "1.5.0",
          "state": {
            "_model_module": "@jupyter-widgets/controls",
            "_model_module_version": "1.5.0",
            "_model_name": "ProgressStyleModel",
            "_view_count": null,
            "_view_module": "@jupyter-widgets/base",
            "_view_module_version": "1.2.0",
            "_view_name": "StyleView",
            "bar_color": null,
            "description_width": ""
          }
        },
        "2a6cdd2c96564a15a8832dca11f34520": {
          "model_module": "@jupyter-widgets/base",
          "model_name": "LayoutModel",
          "model_module_version": "1.2.0",
          "state": {
            "_model_module": "@jupyter-widgets/base",
            "_model_module_version": "1.2.0",
            "_model_name": "LayoutModel",
            "_view_count": null,
            "_view_module": "@jupyter-widgets/base",
            "_view_module_version": "1.2.0",
            "_view_name": "LayoutView",
            "align_content": null,
            "align_items": null,
            "align_self": null,
            "border": null,
            "bottom": null,
            "display": null,
            "flex": null,
            "flex_flow": null,
            "grid_area": null,
            "grid_auto_columns": null,
            "grid_auto_flow": null,
            "grid_auto_rows": null,
            "grid_column": null,
            "grid_gap": null,
            "grid_row": null,
            "grid_template_areas": null,
            "grid_template_columns": null,
            "grid_template_rows": null,
            "height": null,
            "justify_content": null,
            "justify_items": null,
            "left": null,
            "margin": null,
            "max_height": null,
            "max_width": null,
            "min_height": null,
            "min_width": null,
            "object_fit": null,
            "object_position": null,
            "order": null,
            "overflow": null,
            "overflow_x": null,
            "overflow_y": null,
            "padding": null,
            "right": null,
            "top": null,
            "visibility": null,
            "width": null
          }
        },
        "d4b1a0d180dc482789c078dd8dedaf9b": {
          "model_module": "@jupyter-widgets/controls",
          "model_name": "DescriptionStyleModel",
          "model_module_version": "1.5.0",
          "state": {
            "_model_module": "@jupyter-widgets/controls",
            "_model_module_version": "1.5.0",
            "_model_name": "DescriptionStyleModel",
            "_view_count": null,
            "_view_module": "@jupyter-widgets/base",
            "_view_module_version": "1.2.0",
            "_view_name": "StyleView",
            "description_width": ""
          }
        },
        "d56e87205cf6484e96f6f3c105a115b6": {
          "model_module": "@jupyter-widgets/controls",
          "model_name": "HBoxModel",
          "model_module_version": "1.5.0",
          "state": {
            "_dom_classes": [],
            "_model_module": "@jupyter-widgets/controls",
            "_model_module_version": "1.5.0",
            "_model_name": "HBoxModel",
            "_view_count": null,
            "_view_module": "@jupyter-widgets/controls",
            "_view_module_version": "1.5.0",
            "_view_name": "HBoxView",
            "box_style": "",
            "children": [
              "IPY_MODEL_64dae1ec2bcf4355a7b08ced3fd5e888",
              "IPY_MODEL_a785f76c20644a2eab5c3bc07c190747",
              "IPY_MODEL_20a721ceaa11436e92130fed54c4fb4f"
            ],
            "layout": "IPY_MODEL_72288850728c45539435fe1a6dc30f69"
          }
        },
        "64dae1ec2bcf4355a7b08ced3fd5e888": {
          "model_module": "@jupyter-widgets/controls",
          "model_name": "HTMLModel",
          "model_module_version": "1.5.0",
          "state": {
            "_dom_classes": [],
            "_model_module": "@jupyter-widgets/controls",
            "_model_module_version": "1.5.0",
            "_model_name": "HTMLModel",
            "_view_count": null,
            "_view_module": "@jupyter-widgets/controls",
            "_view_module_version": "1.5.0",
            "_view_name": "HTMLView",
            "description": "",
            "description_tooltip": null,
            "layout": "IPY_MODEL_c3c8b9fa51b1471aadee95045b79c3ed",
            "placeholder": "​",
            "style": "IPY_MODEL_e151d5135202488786523d98ff60d863",
            "value": "100%"
          }
        },
        "a785f76c20644a2eab5c3bc07c190747": {
          "model_module": "@jupyter-widgets/controls",
          "model_name": "FloatProgressModel",
          "model_module_version": "1.5.0",
          "state": {
            "_dom_classes": [],
            "_model_module": "@jupyter-widgets/controls",
            "_model_module_version": "1.5.0",
            "_model_name": "FloatProgressModel",
            "_view_count": null,
            "_view_module": "@jupyter-widgets/controls",
            "_view_module_version": "1.5.0",
            "_view_name": "ProgressView",
            "bar_style": "success",
            "description": "",
            "description_tooltip": null,
            "layout": "IPY_MODEL_1106dbc1186141e8abc919323c16669c",
            "max": 1000000,
            "min": 0,
            "orientation": "horizontal",
            "style": "IPY_MODEL_d1b2d24df9084d89bb020bda335878fe",
            "value": 1000000
          }
        },
        "20a721ceaa11436e92130fed54c4fb4f": {
          "model_module": "@jupyter-widgets/controls",
          "model_name": "HTMLModel",
          "model_module_version": "1.5.0",
          "state": {
            "_dom_classes": [],
            "_model_module": "@jupyter-widgets/controls",
            "_model_module_version": "1.5.0",
            "_model_name": "HTMLModel",
            "_view_count": null,
            "_view_module": "@jupyter-widgets/controls",
            "_view_module_version": "1.5.0",
            "_view_name": "HTMLView",
            "description": "",
            "description_tooltip": null,
            "layout": "IPY_MODEL_b28bc4678907460682a9f9e0f1915e1c",
            "placeholder": "​",
            "style": "IPY_MODEL_91c98cd509b044b79d6f07a124934ed3",
            "value": " 1000000/1000000 [00:02&lt;00:00, 500749.46it/s]"
          }
        },
        "72288850728c45539435fe1a6dc30f69": {
          "model_module": "@jupyter-widgets/base",
          "model_name": "LayoutModel",
          "model_module_version": "1.2.0",
          "state": {
            "_model_module": "@jupyter-widgets/base",
            "_model_module_version": "1.2.0",
            "_model_name": "LayoutModel",
            "_view_count": null,
            "_view_module": "@jupyter-widgets/base",
            "_view_module_version": "1.2.0",
            "_view_name": "LayoutView",
            "align_content": null,
            "align_items": null,
            "align_self": null,
            "border": null,
            "bottom": null,
            "display": null,
            "flex": null,
            "flex_flow": null,
            "grid_area": null,
            "grid_auto_columns": null,
            "grid_auto_flow": null,
            "grid_auto_rows": null,
            "grid_column": null,
            "grid_gap": null,
            "grid_row": null,
            "grid_template_areas": null,
            "grid_template_columns": null,
            "grid_template_rows": null,
            "height": null,
            "justify_content": null,
            "justify_items": null,
            "left": null,
            "margin": null,
            "max_height": null,
            "max_width": null,
            "min_height": null,
            "min_width": null,
            "object_fit": null,
            "object_position": null,
            "order": null,
            "overflow": null,
            "overflow_x": null,
            "overflow_y": null,
            "padding": null,
            "right": null,
            "top": null,
            "visibility": null,
            "width": null
          }
        },
        "c3c8b9fa51b1471aadee95045b79c3ed": {
          "model_module": "@jupyter-widgets/base",
          "model_name": "LayoutModel",
          "model_module_version": "1.2.0",
          "state": {
            "_model_module": "@jupyter-widgets/base",
            "_model_module_version": "1.2.0",
            "_model_name": "LayoutModel",
            "_view_count": null,
            "_view_module": "@jupyter-widgets/base",
            "_view_module_version": "1.2.0",
            "_view_name": "LayoutView",
            "align_content": null,
            "align_items": null,
            "align_self": null,
            "border": null,
            "bottom": null,
            "display": null,
            "flex": null,
            "flex_flow": null,
            "grid_area": null,
            "grid_auto_columns": null,
            "grid_auto_flow": null,
            "grid_auto_rows": null,
            "grid_column": null,
            "grid_gap": null,
            "grid_row": null,
            "grid_template_areas": null,
            "grid_template_columns": null,
            "grid_template_rows": null,
            "height": null,
            "justify_content": null,
            "justify_items": null,
            "left": null,
            "margin": null,
            "max_height": null,
            "max_width": null,
            "min_height": null,
            "min_width": null,
            "object_fit": null,
            "object_position": null,
            "order": null,
            "overflow": null,
            "overflow_x": null,
            "overflow_y": null,
            "padding": null,
            "right": null,
            "top": null,
            "visibility": null,
            "width": null
          }
        },
        "e151d5135202488786523d98ff60d863": {
          "model_module": "@jupyter-widgets/controls",
          "model_name": "DescriptionStyleModel",
          "model_module_version": "1.5.0",
          "state": {
            "_model_module": "@jupyter-widgets/controls",
            "_model_module_version": "1.5.0",
            "_model_name": "DescriptionStyleModel",
            "_view_count": null,
            "_view_module": "@jupyter-widgets/base",
            "_view_module_version": "1.2.0",
            "_view_name": "StyleView",
            "description_width": ""
          }
        },
        "1106dbc1186141e8abc919323c16669c": {
          "model_module": "@jupyter-widgets/base",
          "model_name": "LayoutModel",
          "model_module_version": "1.2.0",
          "state": {
            "_model_module": "@jupyter-widgets/base",
            "_model_module_version": "1.2.0",
            "_model_name": "LayoutModel",
            "_view_count": null,
            "_view_module": "@jupyter-widgets/base",
            "_view_module_version": "1.2.0",
            "_view_name": "LayoutView",
            "align_content": null,
            "align_items": null,
            "align_self": null,
            "border": null,
            "bottom": null,
            "display": null,
            "flex": null,
            "flex_flow": null,
            "grid_area": null,
            "grid_auto_columns": null,
            "grid_auto_flow": null,
            "grid_auto_rows": null,
            "grid_column": null,
            "grid_gap": null,
            "grid_row": null,
            "grid_template_areas": null,
            "grid_template_columns": null,
            "grid_template_rows": null,
            "height": null,
            "justify_content": null,
            "justify_items": null,
            "left": null,
            "margin": null,
            "max_height": null,
            "max_width": null,
            "min_height": null,
            "min_width": null,
            "object_fit": null,
            "object_position": null,
            "order": null,
            "overflow": null,
            "overflow_x": null,
            "overflow_y": null,
            "padding": null,
            "right": null,
            "top": null,
            "visibility": null,
            "width": null
          }
        },
        "d1b2d24df9084d89bb020bda335878fe": {
          "model_module": "@jupyter-widgets/controls",
          "model_name": "ProgressStyleModel",
          "model_module_version": "1.5.0",
          "state": {
            "_model_module": "@jupyter-widgets/controls",
            "_model_module_version": "1.5.0",
            "_model_name": "ProgressStyleModel",
            "_view_count": null,
            "_view_module": "@jupyter-widgets/base",
            "_view_module_version": "1.2.0",
            "_view_name": "StyleView",
            "bar_color": null,
            "description_width": ""
          }
        },
        "b28bc4678907460682a9f9e0f1915e1c": {
          "model_module": "@jupyter-widgets/base",
          "model_name": "LayoutModel",
          "model_module_version": "1.2.0",
          "state": {
            "_model_module": "@jupyter-widgets/base",
            "_model_module_version": "1.2.0",
            "_model_name": "LayoutModel",
            "_view_count": null,
            "_view_module": "@jupyter-widgets/base",
            "_view_module_version": "1.2.0",
            "_view_name": "LayoutView",
            "align_content": null,
            "align_items": null,
            "align_self": null,
            "border": null,
            "bottom": null,
            "display": null,
            "flex": null,
            "flex_flow": null,
            "grid_area": null,
            "grid_auto_columns": null,
            "grid_auto_flow": null,
            "grid_auto_rows": null,
            "grid_column": null,
            "grid_gap": null,
            "grid_row": null,
            "grid_template_areas": null,
            "grid_template_columns": null,
            "grid_template_rows": null,
            "height": null,
            "justify_content": null,
            "justify_items": null,
            "left": null,
            "margin": null,
            "max_height": null,
            "max_width": null,
            "min_height": null,
            "min_width": null,
            "object_fit": null,
            "object_position": null,
            "order": null,
            "overflow": null,
            "overflow_x": null,
            "overflow_y": null,
            "padding": null,
            "right": null,
            "top": null,
            "visibility": null,
            "width": null
          }
        },
        "91c98cd509b044b79d6f07a124934ed3": {
          "model_module": "@jupyter-widgets/controls",
          "model_name": "DescriptionStyleModel",
          "model_module_version": "1.5.0",
          "state": {
            "_model_module": "@jupyter-widgets/controls",
            "_model_module_version": "1.5.0",
            "_model_name": "DescriptionStyleModel",
            "_view_count": null,
            "_view_module": "@jupyter-widgets/base",
            "_view_module_version": "1.2.0",
            "_view_name": "StyleView",
            "description_width": ""
          }
        },
        "a7d1dbf7ef49467cbb944b8a61fa0530": {
          "model_module": "@jupyter-widgets/controls",
          "model_name": "HBoxModel",
          "model_module_version": "1.5.0",
          "state": {
            "_dom_classes": [],
            "_model_module": "@jupyter-widgets/controls",
            "_model_module_version": "1.5.0",
            "_model_name": "HBoxModel",
            "_view_count": null,
            "_view_module": "@jupyter-widgets/controls",
            "_view_module_version": "1.5.0",
            "_view_name": "HBoxView",
            "box_style": "",
            "children": [
              "IPY_MODEL_63464f1247f049469018b451ab82821b",
              "IPY_MODEL_9b1247a0bd1047438ec8b495ee1d2002",
              "IPY_MODEL_369193df307349789e60b517a2300508"
            ],
            "layout": "IPY_MODEL_bee17a9c7aa54d1290d0bbb2c935672f"
          }
        },
        "63464f1247f049469018b451ab82821b": {
          "model_module": "@jupyter-widgets/controls",
          "model_name": "HTMLModel",
          "model_module_version": "1.5.0",
          "state": {
            "_dom_classes": [],
            "_model_module": "@jupyter-widgets/controls",
            "_model_module_version": "1.5.0",
            "_model_name": "HTMLModel",
            "_view_count": null,
            "_view_module": "@jupyter-widgets/controls",
            "_view_module_version": "1.5.0",
            "_view_name": "HTMLView",
            "description": "",
            "description_tooltip": null,
            "layout": "IPY_MODEL_4b3b742d680b47d6988584c9512d5558",
            "placeholder": "​",
            "style": "IPY_MODEL_078199161f614cf6bc8b74b33c9900e0",
            "value": "100%"
          }
        },
        "9b1247a0bd1047438ec8b495ee1d2002": {
          "model_module": "@jupyter-widgets/controls",
          "model_name": "FloatProgressModel",
          "model_module_version": "1.5.0",
          "state": {
            "_dom_classes": [],
            "_model_module": "@jupyter-widgets/controls",
            "_model_module_version": "1.5.0",
            "_model_name": "FloatProgressModel",
            "_view_count": null,
            "_view_module": "@jupyter-widgets/controls",
            "_view_module_version": "1.5.0",
            "_view_name": "ProgressView",
            "bar_style": "success",
            "description": "",
            "description_tooltip": null,
            "layout": "IPY_MODEL_701e8c37cf9d4d9a9efed3328c669628",
            "max": 1000000,
            "min": 0,
            "orientation": "horizontal",
            "style": "IPY_MODEL_30f4a0636b0c4bacbdfba08e560cd310",
            "value": 1000000
          }
        },
        "369193df307349789e60b517a2300508": {
          "model_module": "@jupyter-widgets/controls",
          "model_name": "HTMLModel",
          "model_module_version": "1.5.0",
          "state": {
            "_dom_classes": [],
            "_model_module": "@jupyter-widgets/controls",
            "_model_module_version": "1.5.0",
            "_model_name": "HTMLModel",
            "_view_count": null,
            "_view_module": "@jupyter-widgets/controls",
            "_view_module_version": "1.5.0",
            "_view_name": "HTMLView",
            "description": "",
            "description_tooltip": null,
            "layout": "IPY_MODEL_882bb98b5ce744089748068e675c77eb",
            "placeholder": "​",
            "style": "IPY_MODEL_14bec1a5600941fe9285e881ae6c3913",
            "value": " 1000000/1000000 [00:26&lt;00:00, 32627.31it/s]"
          }
        },
        "bee17a9c7aa54d1290d0bbb2c935672f": {
          "model_module": "@jupyter-widgets/base",
          "model_name": "LayoutModel",
          "model_module_version": "1.2.0",
          "state": {
            "_model_module": "@jupyter-widgets/base",
            "_model_module_version": "1.2.0",
            "_model_name": "LayoutModel",
            "_view_count": null,
            "_view_module": "@jupyter-widgets/base",
            "_view_module_version": "1.2.0",
            "_view_name": "LayoutView",
            "align_content": null,
            "align_items": null,
            "align_self": null,
            "border": null,
            "bottom": null,
            "display": null,
            "flex": null,
            "flex_flow": null,
            "grid_area": null,
            "grid_auto_columns": null,
            "grid_auto_flow": null,
            "grid_auto_rows": null,
            "grid_column": null,
            "grid_gap": null,
            "grid_row": null,
            "grid_template_areas": null,
            "grid_template_columns": null,
            "grid_template_rows": null,
            "height": null,
            "justify_content": null,
            "justify_items": null,
            "left": null,
            "margin": null,
            "max_height": null,
            "max_width": null,
            "min_height": null,
            "min_width": null,
            "object_fit": null,
            "object_position": null,
            "order": null,
            "overflow": null,
            "overflow_x": null,
            "overflow_y": null,
            "padding": null,
            "right": null,
            "top": null,
            "visibility": null,
            "width": null
          }
        },
        "4b3b742d680b47d6988584c9512d5558": {
          "model_module": "@jupyter-widgets/base",
          "model_name": "LayoutModel",
          "model_module_version": "1.2.0",
          "state": {
            "_model_module": "@jupyter-widgets/base",
            "_model_module_version": "1.2.0",
            "_model_name": "LayoutModel",
            "_view_count": null,
            "_view_module": "@jupyter-widgets/base",
            "_view_module_version": "1.2.0",
            "_view_name": "LayoutView",
            "align_content": null,
            "align_items": null,
            "align_self": null,
            "border": null,
            "bottom": null,
            "display": null,
            "flex": null,
            "flex_flow": null,
            "grid_area": null,
            "grid_auto_columns": null,
            "grid_auto_flow": null,
            "grid_auto_rows": null,
            "grid_column": null,
            "grid_gap": null,
            "grid_row": null,
            "grid_template_areas": null,
            "grid_template_columns": null,
            "grid_template_rows": null,
            "height": null,
            "justify_content": null,
            "justify_items": null,
            "left": null,
            "margin": null,
            "max_height": null,
            "max_width": null,
            "min_height": null,
            "min_width": null,
            "object_fit": null,
            "object_position": null,
            "order": null,
            "overflow": null,
            "overflow_x": null,
            "overflow_y": null,
            "padding": null,
            "right": null,
            "top": null,
            "visibility": null,
            "width": null
          }
        },
        "078199161f614cf6bc8b74b33c9900e0": {
          "model_module": "@jupyter-widgets/controls",
          "model_name": "DescriptionStyleModel",
          "model_module_version": "1.5.0",
          "state": {
            "_model_module": "@jupyter-widgets/controls",
            "_model_module_version": "1.5.0",
            "_model_name": "DescriptionStyleModel",
            "_view_count": null,
            "_view_module": "@jupyter-widgets/base",
            "_view_module_version": "1.2.0",
            "_view_name": "StyleView",
            "description_width": ""
          }
        },
        "701e8c37cf9d4d9a9efed3328c669628": {
          "model_module": "@jupyter-widgets/base",
          "model_name": "LayoutModel",
          "model_module_version": "1.2.0",
          "state": {
            "_model_module": "@jupyter-widgets/base",
            "_model_module_version": "1.2.0",
            "_model_name": "LayoutModel",
            "_view_count": null,
            "_view_module": "@jupyter-widgets/base",
            "_view_module_version": "1.2.0",
            "_view_name": "LayoutView",
            "align_content": null,
            "align_items": null,
            "align_self": null,
            "border": null,
            "bottom": null,
            "display": null,
            "flex": null,
            "flex_flow": null,
            "grid_area": null,
            "grid_auto_columns": null,
            "grid_auto_flow": null,
            "grid_auto_rows": null,
            "grid_column": null,
            "grid_gap": null,
            "grid_row": null,
            "grid_template_areas": null,
            "grid_template_columns": null,
            "grid_template_rows": null,
            "height": null,
            "justify_content": null,
            "justify_items": null,
            "left": null,
            "margin": null,
            "max_height": null,
            "max_width": null,
            "min_height": null,
            "min_width": null,
            "object_fit": null,
            "object_position": null,
            "order": null,
            "overflow": null,
            "overflow_x": null,
            "overflow_y": null,
            "padding": null,
            "right": null,
            "top": null,
            "visibility": null,
            "width": null
          }
        },
        "30f4a0636b0c4bacbdfba08e560cd310": {
          "model_module": "@jupyter-widgets/controls",
          "model_name": "ProgressStyleModel",
          "model_module_version": "1.5.0",
          "state": {
            "_model_module": "@jupyter-widgets/controls",
            "_model_module_version": "1.5.0",
            "_model_name": "ProgressStyleModel",
            "_view_count": null,
            "_view_module": "@jupyter-widgets/base",
            "_view_module_version": "1.2.0",
            "_view_name": "StyleView",
            "bar_color": null,
            "description_width": ""
          }
        },
        "882bb98b5ce744089748068e675c77eb": {
          "model_module": "@jupyter-widgets/base",
          "model_name": "LayoutModel",
          "model_module_version": "1.2.0",
          "state": {
            "_model_module": "@jupyter-widgets/base",
            "_model_module_version": "1.2.0",
            "_model_name": "LayoutModel",
            "_view_count": null,
            "_view_module": "@jupyter-widgets/base",
            "_view_module_version": "1.2.0",
            "_view_name": "LayoutView",
            "align_content": null,
            "align_items": null,
            "align_self": null,
            "border": null,
            "bottom": null,
            "display": null,
            "flex": null,
            "flex_flow": null,
            "grid_area": null,
            "grid_auto_columns": null,
            "grid_auto_flow": null,
            "grid_auto_rows": null,
            "grid_column": null,
            "grid_gap": null,
            "grid_row": null,
            "grid_template_areas": null,
            "grid_template_columns": null,
            "grid_template_rows": null,
            "height": null,
            "justify_content": null,
            "justify_items": null,
            "left": null,
            "margin": null,
            "max_height": null,
            "max_width": null,
            "min_height": null,
            "min_width": null,
            "object_fit": null,
            "object_position": null,
            "order": null,
            "overflow": null,
            "overflow_x": null,
            "overflow_y": null,
            "padding": null,
            "right": null,
            "top": null,
            "visibility": null,
            "width": null
          }
        },
        "14bec1a5600941fe9285e881ae6c3913": {
          "model_module": "@jupyter-widgets/controls",
          "model_name": "DescriptionStyleModel",
          "model_module_version": "1.5.0",
          "state": {
            "_model_module": "@jupyter-widgets/controls",
            "_model_module_version": "1.5.0",
            "_model_name": "DescriptionStyleModel",
            "_view_count": null,
            "_view_module": "@jupyter-widgets/base",
            "_view_module_version": "1.2.0",
            "_view_name": "StyleView",
            "description_width": ""
          }
        },
        "f50eba6b3c4d4e009cec4daef3bcd9cd": {
          "model_module": "@jupyter-widgets/controls",
          "model_name": "HBoxModel",
          "model_module_version": "1.5.0",
          "state": {
            "_dom_classes": [],
            "_model_module": "@jupyter-widgets/controls",
            "_model_module_version": "1.5.0",
            "_model_name": "HBoxModel",
            "_view_count": null,
            "_view_module": "@jupyter-widgets/controls",
            "_view_module_version": "1.5.0",
            "_view_name": "HBoxView",
            "box_style": "",
            "children": [
              "IPY_MODEL_9414fcf206be4be7a9962f4434bbd468",
              "IPY_MODEL_668de5a28091431c8524558b8a0a7e0f",
              "IPY_MODEL_6042eff804fb43ee8919afa28de6830a"
            ],
            "layout": "IPY_MODEL_1ffac4f430404fa89bf7551a0b21276d"
          }
        },
        "9414fcf206be4be7a9962f4434bbd468": {
          "model_module": "@jupyter-widgets/controls",
          "model_name": "HTMLModel",
          "model_module_version": "1.5.0",
          "state": {
            "_dom_classes": [],
            "_model_module": "@jupyter-widgets/controls",
            "_model_module_version": "1.5.0",
            "_model_name": "HTMLModel",
            "_view_count": null,
            "_view_module": "@jupyter-widgets/controls",
            "_view_module_version": "1.5.0",
            "_view_name": "HTMLView",
            "description": "",
            "description_tooltip": null,
            "layout": "IPY_MODEL_f3929bbe353a4a41923d75310c313862",
            "placeholder": "​",
            "style": "IPY_MODEL_ce36949c8c2f4f8ea4aee98caea04006",
            "value": "100%"
          }
        },
        "668de5a28091431c8524558b8a0a7e0f": {
          "model_module": "@jupyter-widgets/controls",
          "model_name": "FloatProgressModel",
          "model_module_version": "1.5.0",
          "state": {
            "_dom_classes": [],
            "_model_module": "@jupyter-widgets/controls",
            "_model_module_version": "1.5.0",
            "_model_name": "FloatProgressModel",
            "_view_count": null,
            "_view_module": "@jupyter-widgets/controls",
            "_view_module_version": "1.5.0",
            "_view_name": "ProgressView",
            "bar_style": "success",
            "description": "",
            "description_tooltip": null,
            "layout": "IPY_MODEL_8f72c9570bfd45b3994f9805790a394c",
            "max": 1000000,
            "min": 0,
            "orientation": "horizontal",
            "style": "IPY_MODEL_59870269cb76450cb18f91f8e4b3b34f",
            "value": 1000000
          }
        },
        "6042eff804fb43ee8919afa28de6830a": {
          "model_module": "@jupyter-widgets/controls",
          "model_name": "HTMLModel",
          "model_module_version": "1.5.0",
          "state": {
            "_dom_classes": [],
            "_model_module": "@jupyter-widgets/controls",
            "_model_module_version": "1.5.0",
            "_model_name": "HTMLModel",
            "_view_count": null,
            "_view_module": "@jupyter-widgets/controls",
            "_view_module_version": "1.5.0",
            "_view_name": "HTMLView",
            "description": "",
            "description_tooltip": null,
            "layout": "IPY_MODEL_f318f4fa7394404fab82de6fff26ecc9",
            "placeholder": "​",
            "style": "IPY_MODEL_e4ff7ebf3ea042079ebb1d4017cdf755",
            "value": " 1000000/1000000 [02:17&lt;00:00, 6450.79it/s]"
          }
        },
        "1ffac4f430404fa89bf7551a0b21276d": {
          "model_module": "@jupyter-widgets/base",
          "model_name": "LayoutModel",
          "model_module_version": "1.2.0",
          "state": {
            "_model_module": "@jupyter-widgets/base",
            "_model_module_version": "1.2.0",
            "_model_name": "LayoutModel",
            "_view_count": null,
            "_view_module": "@jupyter-widgets/base",
            "_view_module_version": "1.2.0",
            "_view_name": "LayoutView",
            "align_content": null,
            "align_items": null,
            "align_self": null,
            "border": null,
            "bottom": null,
            "display": null,
            "flex": null,
            "flex_flow": null,
            "grid_area": null,
            "grid_auto_columns": null,
            "grid_auto_flow": null,
            "grid_auto_rows": null,
            "grid_column": null,
            "grid_gap": null,
            "grid_row": null,
            "grid_template_areas": null,
            "grid_template_columns": null,
            "grid_template_rows": null,
            "height": null,
            "justify_content": null,
            "justify_items": null,
            "left": null,
            "margin": null,
            "max_height": null,
            "max_width": null,
            "min_height": null,
            "min_width": null,
            "object_fit": null,
            "object_position": null,
            "order": null,
            "overflow": null,
            "overflow_x": null,
            "overflow_y": null,
            "padding": null,
            "right": null,
            "top": null,
            "visibility": null,
            "width": null
          }
        },
        "f3929bbe353a4a41923d75310c313862": {
          "model_module": "@jupyter-widgets/base",
          "model_name": "LayoutModel",
          "model_module_version": "1.2.0",
          "state": {
            "_model_module": "@jupyter-widgets/base",
            "_model_module_version": "1.2.0",
            "_model_name": "LayoutModel",
            "_view_count": null,
            "_view_module": "@jupyter-widgets/base",
            "_view_module_version": "1.2.0",
            "_view_name": "LayoutView",
            "align_content": null,
            "align_items": null,
            "align_self": null,
            "border": null,
            "bottom": null,
            "display": null,
            "flex": null,
            "flex_flow": null,
            "grid_area": null,
            "grid_auto_columns": null,
            "grid_auto_flow": null,
            "grid_auto_rows": null,
            "grid_column": null,
            "grid_gap": null,
            "grid_row": null,
            "grid_template_areas": null,
            "grid_template_columns": null,
            "grid_template_rows": null,
            "height": null,
            "justify_content": null,
            "justify_items": null,
            "left": null,
            "margin": null,
            "max_height": null,
            "max_width": null,
            "min_height": null,
            "min_width": null,
            "object_fit": null,
            "object_position": null,
            "order": null,
            "overflow": null,
            "overflow_x": null,
            "overflow_y": null,
            "padding": null,
            "right": null,
            "top": null,
            "visibility": null,
            "width": null
          }
        },
        "ce36949c8c2f4f8ea4aee98caea04006": {
          "model_module": "@jupyter-widgets/controls",
          "model_name": "DescriptionStyleModel",
          "model_module_version": "1.5.0",
          "state": {
            "_model_module": "@jupyter-widgets/controls",
            "_model_module_version": "1.5.0",
            "_model_name": "DescriptionStyleModel",
            "_view_count": null,
            "_view_module": "@jupyter-widgets/base",
            "_view_module_version": "1.2.0",
            "_view_name": "StyleView",
            "description_width": ""
          }
        },
        "8f72c9570bfd45b3994f9805790a394c": {
          "model_module": "@jupyter-widgets/base",
          "model_name": "LayoutModel",
          "model_module_version": "1.2.0",
          "state": {
            "_model_module": "@jupyter-widgets/base",
            "_model_module_version": "1.2.0",
            "_model_name": "LayoutModel",
            "_view_count": null,
            "_view_module": "@jupyter-widgets/base",
            "_view_module_version": "1.2.0",
            "_view_name": "LayoutView",
            "align_content": null,
            "align_items": null,
            "align_self": null,
            "border": null,
            "bottom": null,
            "display": null,
            "flex": null,
            "flex_flow": null,
            "grid_area": null,
            "grid_auto_columns": null,
            "grid_auto_flow": null,
            "grid_auto_rows": null,
            "grid_column": null,
            "grid_gap": null,
            "grid_row": null,
            "grid_template_areas": null,
            "grid_template_columns": null,
            "grid_template_rows": null,
            "height": null,
            "justify_content": null,
            "justify_items": null,
            "left": null,
            "margin": null,
            "max_height": null,
            "max_width": null,
            "min_height": null,
            "min_width": null,
            "object_fit": null,
            "object_position": null,
            "order": null,
            "overflow": null,
            "overflow_x": null,
            "overflow_y": null,
            "padding": null,
            "right": null,
            "top": null,
            "visibility": null,
            "width": null
          }
        },
        "59870269cb76450cb18f91f8e4b3b34f": {
          "model_module": "@jupyter-widgets/controls",
          "model_name": "ProgressStyleModel",
          "model_module_version": "1.5.0",
          "state": {
            "_model_module": "@jupyter-widgets/controls",
            "_model_module_version": "1.5.0",
            "_model_name": "ProgressStyleModel",
            "_view_count": null,
            "_view_module": "@jupyter-widgets/base",
            "_view_module_version": "1.2.0",
            "_view_name": "StyleView",
            "bar_color": null,
            "description_width": ""
          }
        },
        "f318f4fa7394404fab82de6fff26ecc9": {
          "model_module": "@jupyter-widgets/base",
          "model_name": "LayoutModel",
          "model_module_version": "1.2.0",
          "state": {
            "_model_module": "@jupyter-widgets/base",
            "_model_module_version": "1.2.0",
            "_model_name": "LayoutModel",
            "_view_count": null,
            "_view_module": "@jupyter-widgets/base",
            "_view_module_version": "1.2.0",
            "_view_name": "LayoutView",
            "align_content": null,
            "align_items": null,
            "align_self": null,
            "border": null,
            "bottom": null,
            "display": null,
            "flex": null,
            "flex_flow": null,
            "grid_area": null,
            "grid_auto_columns": null,
            "grid_auto_flow": null,
            "grid_auto_rows": null,
            "grid_column": null,
            "grid_gap": null,
            "grid_row": null,
            "grid_template_areas": null,
            "grid_template_columns": null,
            "grid_template_rows": null,
            "height": null,
            "justify_content": null,
            "justify_items": null,
            "left": null,
            "margin": null,
            "max_height": null,
            "max_width": null,
            "min_height": null,
            "min_width": null,
            "object_fit": null,
            "object_position": null,
            "order": null,
            "overflow": null,
            "overflow_x": null,
            "overflow_y": null,
            "padding": null,
            "right": null,
            "top": null,
            "visibility": null,
            "width": null
          }
        },
        "e4ff7ebf3ea042079ebb1d4017cdf755": {
          "model_module": "@jupyter-widgets/controls",
          "model_name": "DescriptionStyleModel",
          "model_module_version": "1.5.0",
          "state": {
            "_model_module": "@jupyter-widgets/controls",
            "_model_module_version": "1.5.0",
            "_model_name": "DescriptionStyleModel",
            "_view_count": null,
            "_view_module": "@jupyter-widgets/base",
            "_view_module_version": "1.2.0",
            "_view_name": "StyleView",
            "description_width": ""
          }
        },
        "1ae000e15e694873b21214a12190b884": {
          "model_module": "@jupyter-widgets/controls",
          "model_name": "HBoxModel",
          "model_module_version": "1.5.0",
          "state": {
            "_dom_classes": [],
            "_model_module": "@jupyter-widgets/controls",
            "_model_module_version": "1.5.0",
            "_model_name": "HBoxModel",
            "_view_count": null,
            "_view_module": "@jupyter-widgets/controls",
            "_view_module_version": "1.5.0",
            "_view_name": "HBoxView",
            "box_style": "",
            "children": [
              "IPY_MODEL_b0568e8f3dff409a9c96ae2cf175241b",
              "IPY_MODEL_568ce871db614f268f501d3e3dcaea53",
              "IPY_MODEL_810b9f3ff9634314878f12a00c05fb70"
            ],
            "layout": "IPY_MODEL_3231879429694d8984e8c4d9a3fa1709"
          }
        },
        "b0568e8f3dff409a9c96ae2cf175241b": {
          "model_module": "@jupyter-widgets/controls",
          "model_name": "HTMLModel",
          "model_module_version": "1.5.0",
          "state": {
            "_dom_classes": [],
            "_model_module": "@jupyter-widgets/controls",
            "_model_module_version": "1.5.0",
            "_model_name": "HTMLModel",
            "_view_count": null,
            "_view_module": "@jupyter-widgets/controls",
            "_view_module_version": "1.5.0",
            "_view_name": "HTMLView",
            "description": "",
            "description_tooltip": null,
            "layout": "IPY_MODEL_a3d49f9efabb480f8c2594ef5d4a48ee",
            "placeholder": "​",
            "style": "IPY_MODEL_d01fbf62242846798ad153aad40a52ef",
            "value": "100%"
          }
        },
        "568ce871db614f268f501d3e3dcaea53": {
          "model_module": "@jupyter-widgets/controls",
          "model_name": "FloatProgressModel",
          "model_module_version": "1.5.0",
          "state": {
            "_dom_classes": [],
            "_model_module": "@jupyter-widgets/controls",
            "_model_module_version": "1.5.0",
            "_model_name": "FloatProgressModel",
            "_view_count": null,
            "_view_module": "@jupyter-widgets/controls",
            "_view_module_version": "1.5.0",
            "_view_name": "ProgressView",
            "bar_style": "success",
            "description": "",
            "description_tooltip": null,
            "layout": "IPY_MODEL_b4cf2739919d4f7f810f0c19fa6d23db",
            "max": 50000,
            "min": 0,
            "orientation": "horizontal",
            "style": "IPY_MODEL_9c0de0f8da3c44d386a3c73ae902cc3e",
            "value": 50000
          }
        },
        "810b9f3ff9634314878f12a00c05fb70": {
          "model_module": "@jupyter-widgets/controls",
          "model_name": "HTMLModel",
          "model_module_version": "1.5.0",
          "state": {
            "_dom_classes": [],
            "_model_module": "@jupyter-widgets/controls",
            "_model_module_version": "1.5.0",
            "_model_name": "HTMLModel",
            "_view_count": null,
            "_view_module": "@jupyter-widgets/controls",
            "_view_module_version": "1.5.0",
            "_view_name": "HTMLView",
            "description": "",
            "description_tooltip": null,
            "layout": "IPY_MODEL_e94f052a5fdd453890a62da96bbb26cc",
            "placeholder": "​",
            "style": "IPY_MODEL_f396dd8ae09f41cfbc2b6deca66e4e9c",
            "value": " 50000/50000 [00:01&lt;00:00, 35697.88it/s]"
          }
        },
        "3231879429694d8984e8c4d9a3fa1709": {
          "model_module": "@jupyter-widgets/base",
          "model_name": "LayoutModel",
          "model_module_version": "1.2.0",
          "state": {
            "_model_module": "@jupyter-widgets/base",
            "_model_module_version": "1.2.0",
            "_model_name": "LayoutModel",
            "_view_count": null,
            "_view_module": "@jupyter-widgets/base",
            "_view_module_version": "1.2.0",
            "_view_name": "LayoutView",
            "align_content": null,
            "align_items": null,
            "align_self": null,
            "border": null,
            "bottom": null,
            "display": null,
            "flex": null,
            "flex_flow": null,
            "grid_area": null,
            "grid_auto_columns": null,
            "grid_auto_flow": null,
            "grid_auto_rows": null,
            "grid_column": null,
            "grid_gap": null,
            "grid_row": null,
            "grid_template_areas": null,
            "grid_template_columns": null,
            "grid_template_rows": null,
            "height": null,
            "justify_content": null,
            "justify_items": null,
            "left": null,
            "margin": null,
            "max_height": null,
            "max_width": null,
            "min_height": null,
            "min_width": null,
            "object_fit": null,
            "object_position": null,
            "order": null,
            "overflow": null,
            "overflow_x": null,
            "overflow_y": null,
            "padding": null,
            "right": null,
            "top": null,
            "visibility": null,
            "width": null
          }
        },
        "a3d49f9efabb480f8c2594ef5d4a48ee": {
          "model_module": "@jupyter-widgets/base",
          "model_name": "LayoutModel",
          "model_module_version": "1.2.0",
          "state": {
            "_model_module": "@jupyter-widgets/base",
            "_model_module_version": "1.2.0",
            "_model_name": "LayoutModel",
            "_view_count": null,
            "_view_module": "@jupyter-widgets/base",
            "_view_module_version": "1.2.0",
            "_view_name": "LayoutView",
            "align_content": null,
            "align_items": null,
            "align_self": null,
            "border": null,
            "bottom": null,
            "display": null,
            "flex": null,
            "flex_flow": null,
            "grid_area": null,
            "grid_auto_columns": null,
            "grid_auto_flow": null,
            "grid_auto_rows": null,
            "grid_column": null,
            "grid_gap": null,
            "grid_row": null,
            "grid_template_areas": null,
            "grid_template_columns": null,
            "grid_template_rows": null,
            "height": null,
            "justify_content": null,
            "justify_items": null,
            "left": null,
            "margin": null,
            "max_height": null,
            "max_width": null,
            "min_height": null,
            "min_width": null,
            "object_fit": null,
            "object_position": null,
            "order": null,
            "overflow": null,
            "overflow_x": null,
            "overflow_y": null,
            "padding": null,
            "right": null,
            "top": null,
            "visibility": null,
            "width": null
          }
        },
        "d01fbf62242846798ad153aad40a52ef": {
          "model_module": "@jupyter-widgets/controls",
          "model_name": "DescriptionStyleModel",
          "model_module_version": "1.5.0",
          "state": {
            "_model_module": "@jupyter-widgets/controls",
            "_model_module_version": "1.5.0",
            "_model_name": "DescriptionStyleModel",
            "_view_count": null,
            "_view_module": "@jupyter-widgets/base",
            "_view_module_version": "1.2.0",
            "_view_name": "StyleView",
            "description_width": ""
          }
        },
        "b4cf2739919d4f7f810f0c19fa6d23db": {
          "model_module": "@jupyter-widgets/base",
          "model_name": "LayoutModel",
          "model_module_version": "1.2.0",
          "state": {
            "_model_module": "@jupyter-widgets/base",
            "_model_module_version": "1.2.0",
            "_model_name": "LayoutModel",
            "_view_count": null,
            "_view_module": "@jupyter-widgets/base",
            "_view_module_version": "1.2.0",
            "_view_name": "LayoutView",
            "align_content": null,
            "align_items": null,
            "align_self": null,
            "border": null,
            "bottom": null,
            "display": null,
            "flex": null,
            "flex_flow": null,
            "grid_area": null,
            "grid_auto_columns": null,
            "grid_auto_flow": null,
            "grid_auto_rows": null,
            "grid_column": null,
            "grid_gap": null,
            "grid_row": null,
            "grid_template_areas": null,
            "grid_template_columns": null,
            "grid_template_rows": null,
            "height": null,
            "justify_content": null,
            "justify_items": null,
            "left": null,
            "margin": null,
            "max_height": null,
            "max_width": null,
            "min_height": null,
            "min_width": null,
            "object_fit": null,
            "object_position": null,
            "order": null,
            "overflow": null,
            "overflow_x": null,
            "overflow_y": null,
            "padding": null,
            "right": null,
            "top": null,
            "visibility": null,
            "width": null
          }
        },
        "9c0de0f8da3c44d386a3c73ae902cc3e": {
          "model_module": "@jupyter-widgets/controls",
          "model_name": "ProgressStyleModel",
          "model_module_version": "1.5.0",
          "state": {
            "_model_module": "@jupyter-widgets/controls",
            "_model_module_version": "1.5.0",
            "_model_name": "ProgressStyleModel",
            "_view_count": null,
            "_view_module": "@jupyter-widgets/base",
            "_view_module_version": "1.2.0",
            "_view_name": "StyleView",
            "bar_color": null,
            "description_width": ""
          }
        },
        "e94f052a5fdd453890a62da96bbb26cc": {
          "model_module": "@jupyter-widgets/base",
          "model_name": "LayoutModel",
          "model_module_version": "1.2.0",
          "state": {
            "_model_module": "@jupyter-widgets/base",
            "_model_module_version": "1.2.0",
            "_model_name": "LayoutModel",
            "_view_count": null,
            "_view_module": "@jupyter-widgets/base",
            "_view_module_version": "1.2.0",
            "_view_name": "LayoutView",
            "align_content": null,
            "align_items": null,
            "align_self": null,
            "border": null,
            "bottom": null,
            "display": null,
            "flex": null,
            "flex_flow": null,
            "grid_area": null,
            "grid_auto_columns": null,
            "grid_auto_flow": null,
            "grid_auto_rows": null,
            "grid_column": null,
            "grid_gap": null,
            "grid_row": null,
            "grid_template_areas": null,
            "grid_template_columns": null,
            "grid_template_rows": null,
            "height": null,
            "justify_content": null,
            "justify_items": null,
            "left": null,
            "margin": null,
            "max_height": null,
            "max_width": null,
            "min_height": null,
            "min_width": null,
            "object_fit": null,
            "object_position": null,
            "order": null,
            "overflow": null,
            "overflow_x": null,
            "overflow_y": null,
            "padding": null,
            "right": null,
            "top": null,
            "visibility": null,
            "width": null
          }
        },
        "f396dd8ae09f41cfbc2b6deca66e4e9c": {
          "model_module": "@jupyter-widgets/controls",
          "model_name": "DescriptionStyleModel",
          "model_module_version": "1.5.0",
          "state": {
            "_model_module": "@jupyter-widgets/controls",
            "_model_module_version": "1.5.0",
            "_model_name": "DescriptionStyleModel",
            "_view_count": null,
            "_view_module": "@jupyter-widgets/base",
            "_view_module_version": "1.2.0",
            "_view_name": "StyleView",
            "description_width": ""
          }
        },
        "d78da372c036407cba1453779226ae49": {
          "model_module": "@jupyter-widgets/controls",
          "model_name": "HBoxModel",
          "model_module_version": "1.5.0",
          "state": {
            "_dom_classes": [],
            "_model_module": "@jupyter-widgets/controls",
            "_model_module_version": "1.5.0",
            "_model_name": "HBoxModel",
            "_view_count": null,
            "_view_module": "@jupyter-widgets/controls",
            "_view_module_version": "1.5.0",
            "_view_name": "HBoxView",
            "box_style": "",
            "children": [
              "IPY_MODEL_13a5c7a133d94cd48e2d8c1229ddc529",
              "IPY_MODEL_71739886731e4ab994d3190a5fad3fad",
              "IPY_MODEL_8b31b316cfae464abd24c46dc6750c9b"
            ],
            "layout": "IPY_MODEL_acd2a106b8e94f9d8876731bf2c8f0d7"
          }
        },
        "13a5c7a133d94cd48e2d8c1229ddc529": {
          "model_module": "@jupyter-widgets/controls",
          "model_name": "HTMLModel",
          "model_module_version": "1.5.0",
          "state": {
            "_dom_classes": [],
            "_model_module": "@jupyter-widgets/controls",
            "_model_module_version": "1.5.0",
            "_model_name": "HTMLModel",
            "_view_count": null,
            "_view_module": "@jupyter-widgets/controls",
            "_view_module_version": "1.5.0",
            "_view_name": "HTMLView",
            "description": "",
            "description_tooltip": null,
            "layout": "IPY_MODEL_3e02b377c6994633aa9e2bb254358944",
            "placeholder": "​",
            "style": "IPY_MODEL_a075746a53b54e31bc47be090a7ceae9",
            "value": "100%"
          }
        },
        "71739886731e4ab994d3190a5fad3fad": {
          "model_module": "@jupyter-widgets/controls",
          "model_name": "FloatProgressModel",
          "model_module_version": "1.5.0",
          "state": {
            "_dom_classes": [],
            "_model_module": "@jupyter-widgets/controls",
            "_model_module_version": "1.5.0",
            "_model_name": "FloatProgressModel",
            "_view_count": null,
            "_view_module": "@jupyter-widgets/controls",
            "_view_module_version": "1.5.0",
            "_view_name": "ProgressView",
            "bar_style": "success",
            "description": "",
            "description_tooltip": null,
            "layout": "IPY_MODEL_43f7a6c2d9354fab84554e1f97b4fc7d",
            "max": 50000,
            "min": 0,
            "orientation": "horizontal",
            "style": "IPY_MODEL_8be842c6e9874c47b6f8473d57fa4626",
            "value": 50000
          }
        },
        "8b31b316cfae464abd24c46dc6750c9b": {
          "model_module": "@jupyter-widgets/controls",
          "model_name": "HTMLModel",
          "model_module_version": "1.5.0",
          "state": {
            "_dom_classes": [],
            "_model_module": "@jupyter-widgets/controls",
            "_model_module_version": "1.5.0",
            "_model_name": "HTMLModel",
            "_view_count": null,
            "_view_module": "@jupyter-widgets/controls",
            "_view_module_version": "1.5.0",
            "_view_name": "HTMLView",
            "description": "",
            "description_tooltip": null,
            "layout": "IPY_MODEL_a8d641935bab4b0eb1cc94985f10886f",
            "placeholder": "​",
            "style": "IPY_MODEL_0a468210921043fb809632e7e88ebcb6",
            "value": " 50000/50000 [00:06&lt;00:00, 7417.90it/s]"
          }
        },
        "acd2a106b8e94f9d8876731bf2c8f0d7": {
          "model_module": "@jupyter-widgets/base",
          "model_name": "LayoutModel",
          "model_module_version": "1.2.0",
          "state": {
            "_model_module": "@jupyter-widgets/base",
            "_model_module_version": "1.2.0",
            "_model_name": "LayoutModel",
            "_view_count": null,
            "_view_module": "@jupyter-widgets/base",
            "_view_module_version": "1.2.0",
            "_view_name": "LayoutView",
            "align_content": null,
            "align_items": null,
            "align_self": null,
            "border": null,
            "bottom": null,
            "display": null,
            "flex": null,
            "flex_flow": null,
            "grid_area": null,
            "grid_auto_columns": null,
            "grid_auto_flow": null,
            "grid_auto_rows": null,
            "grid_column": null,
            "grid_gap": null,
            "grid_row": null,
            "grid_template_areas": null,
            "grid_template_columns": null,
            "grid_template_rows": null,
            "height": null,
            "justify_content": null,
            "justify_items": null,
            "left": null,
            "margin": null,
            "max_height": null,
            "max_width": null,
            "min_height": null,
            "min_width": null,
            "object_fit": null,
            "object_position": null,
            "order": null,
            "overflow": null,
            "overflow_x": null,
            "overflow_y": null,
            "padding": null,
            "right": null,
            "top": null,
            "visibility": null,
            "width": null
          }
        },
        "3e02b377c6994633aa9e2bb254358944": {
          "model_module": "@jupyter-widgets/base",
          "model_name": "LayoutModel",
          "model_module_version": "1.2.0",
          "state": {
            "_model_module": "@jupyter-widgets/base",
            "_model_module_version": "1.2.0",
            "_model_name": "LayoutModel",
            "_view_count": null,
            "_view_module": "@jupyter-widgets/base",
            "_view_module_version": "1.2.0",
            "_view_name": "LayoutView",
            "align_content": null,
            "align_items": null,
            "align_self": null,
            "border": null,
            "bottom": null,
            "display": null,
            "flex": null,
            "flex_flow": null,
            "grid_area": null,
            "grid_auto_columns": null,
            "grid_auto_flow": null,
            "grid_auto_rows": null,
            "grid_column": null,
            "grid_gap": null,
            "grid_row": null,
            "grid_template_areas": null,
            "grid_template_columns": null,
            "grid_template_rows": null,
            "height": null,
            "justify_content": null,
            "justify_items": null,
            "left": null,
            "margin": null,
            "max_height": null,
            "max_width": null,
            "min_height": null,
            "min_width": null,
            "object_fit": null,
            "object_position": null,
            "order": null,
            "overflow": null,
            "overflow_x": null,
            "overflow_y": null,
            "padding": null,
            "right": null,
            "top": null,
            "visibility": null,
            "width": null
          }
        },
        "a075746a53b54e31bc47be090a7ceae9": {
          "model_module": "@jupyter-widgets/controls",
          "model_name": "DescriptionStyleModel",
          "model_module_version": "1.5.0",
          "state": {
            "_model_module": "@jupyter-widgets/controls",
            "_model_module_version": "1.5.0",
            "_model_name": "DescriptionStyleModel",
            "_view_count": null,
            "_view_module": "@jupyter-widgets/base",
            "_view_module_version": "1.2.0",
            "_view_name": "StyleView",
            "description_width": ""
          }
        },
        "43f7a6c2d9354fab84554e1f97b4fc7d": {
          "model_module": "@jupyter-widgets/base",
          "model_name": "LayoutModel",
          "model_module_version": "1.2.0",
          "state": {
            "_model_module": "@jupyter-widgets/base",
            "_model_module_version": "1.2.0",
            "_model_name": "LayoutModel",
            "_view_count": null,
            "_view_module": "@jupyter-widgets/base",
            "_view_module_version": "1.2.0",
            "_view_name": "LayoutView",
            "align_content": null,
            "align_items": null,
            "align_self": null,
            "border": null,
            "bottom": null,
            "display": null,
            "flex": null,
            "flex_flow": null,
            "grid_area": null,
            "grid_auto_columns": null,
            "grid_auto_flow": null,
            "grid_auto_rows": null,
            "grid_column": null,
            "grid_gap": null,
            "grid_row": null,
            "grid_template_areas": null,
            "grid_template_columns": null,
            "grid_template_rows": null,
            "height": null,
            "justify_content": null,
            "justify_items": null,
            "left": null,
            "margin": null,
            "max_height": null,
            "max_width": null,
            "min_height": null,
            "min_width": null,
            "object_fit": null,
            "object_position": null,
            "order": null,
            "overflow": null,
            "overflow_x": null,
            "overflow_y": null,
            "padding": null,
            "right": null,
            "top": null,
            "visibility": null,
            "width": null
          }
        },
        "8be842c6e9874c47b6f8473d57fa4626": {
          "model_module": "@jupyter-widgets/controls",
          "model_name": "ProgressStyleModel",
          "model_module_version": "1.5.0",
          "state": {
            "_model_module": "@jupyter-widgets/controls",
            "_model_module_version": "1.5.0",
            "_model_name": "ProgressStyleModel",
            "_view_count": null,
            "_view_module": "@jupyter-widgets/base",
            "_view_module_version": "1.2.0",
            "_view_name": "StyleView",
            "bar_color": null,
            "description_width": ""
          }
        },
        "a8d641935bab4b0eb1cc94985f10886f": {
          "model_module": "@jupyter-widgets/base",
          "model_name": "LayoutModel",
          "model_module_version": "1.2.0",
          "state": {
            "_model_module": "@jupyter-widgets/base",
            "_model_module_version": "1.2.0",
            "_model_name": "LayoutModel",
            "_view_count": null,
            "_view_module": "@jupyter-widgets/base",
            "_view_module_version": "1.2.0",
            "_view_name": "LayoutView",
            "align_content": null,
            "align_items": null,
            "align_self": null,
            "border": null,
            "bottom": null,
            "display": null,
            "flex": null,
            "flex_flow": null,
            "grid_area": null,
            "grid_auto_columns": null,
            "grid_auto_flow": null,
            "grid_auto_rows": null,
            "grid_column": null,
            "grid_gap": null,
            "grid_row": null,
            "grid_template_areas": null,
            "grid_template_columns": null,
            "grid_template_rows": null,
            "height": null,
            "justify_content": null,
            "justify_items": null,
            "left": null,
            "margin": null,
            "max_height": null,
            "max_width": null,
            "min_height": null,
            "min_width": null,
            "object_fit": null,
            "object_position": null,
            "order": null,
            "overflow": null,
            "overflow_x": null,
            "overflow_y": null,
            "padding": null,
            "right": null,
            "top": null,
            "visibility": null,
            "width": null
          }
        },
        "0a468210921043fb809632e7e88ebcb6": {
          "model_module": "@jupyter-widgets/controls",
          "model_name": "DescriptionStyleModel",
          "model_module_version": "1.5.0",
          "state": {
            "_model_module": "@jupyter-widgets/controls",
            "_model_module_version": "1.5.0",
            "_model_name": "DescriptionStyleModel",
            "_view_count": null,
            "_view_module": "@jupyter-widgets/base",
            "_view_module_version": "1.2.0",
            "_view_name": "StyleView",
            "description_width": ""
          }
        },
        "e2df098132534116984890d628de1719": {
          "model_module": "@jupyter-widgets/controls",
          "model_name": "HBoxModel",
          "model_module_version": "1.5.0",
          "state": {
            "_dom_classes": [],
            "_model_module": "@jupyter-widgets/controls",
            "_model_module_version": "1.5.0",
            "_model_name": "HBoxModel",
            "_view_count": null,
            "_view_module": "@jupyter-widgets/controls",
            "_view_module_version": "1.5.0",
            "_view_name": "HBoxView",
            "box_style": "",
            "children": [
              "IPY_MODEL_e269aa7011d94700a2484a22d6611dc4",
              "IPY_MODEL_e9e8f208ad484f5b80410cb254b87c0f",
              "IPY_MODEL_23ec0bc1a15d46029f02719b3cf37d30"
            ],
            "layout": "IPY_MODEL_66d96c3145cd42ee8341887a209cf746"
          }
        },
        "e269aa7011d94700a2484a22d6611dc4": {
          "model_module": "@jupyter-widgets/controls",
          "model_name": "HTMLModel",
          "model_module_version": "1.5.0",
          "state": {
            "_dom_classes": [],
            "_model_module": "@jupyter-widgets/controls",
            "_model_module_version": "1.5.0",
            "_model_name": "HTMLModel",
            "_view_count": null,
            "_view_module": "@jupyter-widgets/controls",
            "_view_module_version": "1.5.0",
            "_view_name": "HTMLView",
            "description": "",
            "description_tooltip": null,
            "layout": "IPY_MODEL_e3c15f22bd1f470eaa04e2898b779cd9",
            "placeholder": "​",
            "style": "IPY_MODEL_3c9635d296ff4c259c36c53c8dba1d29",
            "value": "100%"
          }
        },
        "e9e8f208ad484f5b80410cb254b87c0f": {
          "model_module": "@jupyter-widgets/controls",
          "model_name": "FloatProgressModel",
          "model_module_version": "1.5.0",
          "state": {
            "_dom_classes": [],
            "_model_module": "@jupyter-widgets/controls",
            "_model_module_version": "1.5.0",
            "_model_name": "FloatProgressModel",
            "_view_count": null,
            "_view_module": "@jupyter-widgets/controls",
            "_view_module_version": "1.5.0",
            "_view_name": "ProgressView",
            "bar_style": "success",
            "description": "",
            "description_tooltip": null,
            "layout": "IPY_MODEL_64ba70fefea14a03aab6d6ecb2f68cb8",
            "max": 50000,
            "min": 0,
            "orientation": "horizontal",
            "style": "IPY_MODEL_7c74617798bd4375adff288878799642",
            "value": 50000
          }
        },
        "23ec0bc1a15d46029f02719b3cf37d30": {
          "model_module": "@jupyter-widgets/controls",
          "model_name": "HTMLModel",
          "model_module_version": "1.5.0",
          "state": {
            "_dom_classes": [],
            "_model_module": "@jupyter-widgets/controls",
            "_model_module_version": "1.5.0",
            "_model_name": "HTMLModel",
            "_view_count": null,
            "_view_module": "@jupyter-widgets/controls",
            "_view_module_version": "1.5.0",
            "_view_name": "HTMLView",
            "description": "",
            "description_tooltip": null,
            "layout": "IPY_MODEL_de8e861727394300b0b7a24e5f1ae163",
            "placeholder": "​",
            "style": "IPY_MODEL_5885a1026f8e4488814d15ff7f238acd",
            "value": " 50000/50000 [00:01&lt;00:00, 36076.52it/s]"
          }
        },
        "66d96c3145cd42ee8341887a209cf746": {
          "model_module": "@jupyter-widgets/base",
          "model_name": "LayoutModel",
          "model_module_version": "1.2.0",
          "state": {
            "_model_module": "@jupyter-widgets/base",
            "_model_module_version": "1.2.0",
            "_model_name": "LayoutModel",
            "_view_count": null,
            "_view_module": "@jupyter-widgets/base",
            "_view_module_version": "1.2.0",
            "_view_name": "LayoutView",
            "align_content": null,
            "align_items": null,
            "align_self": null,
            "border": null,
            "bottom": null,
            "display": null,
            "flex": null,
            "flex_flow": null,
            "grid_area": null,
            "grid_auto_columns": null,
            "grid_auto_flow": null,
            "grid_auto_rows": null,
            "grid_column": null,
            "grid_gap": null,
            "grid_row": null,
            "grid_template_areas": null,
            "grid_template_columns": null,
            "grid_template_rows": null,
            "height": null,
            "justify_content": null,
            "justify_items": null,
            "left": null,
            "margin": null,
            "max_height": null,
            "max_width": null,
            "min_height": null,
            "min_width": null,
            "object_fit": null,
            "object_position": null,
            "order": null,
            "overflow": null,
            "overflow_x": null,
            "overflow_y": null,
            "padding": null,
            "right": null,
            "top": null,
            "visibility": null,
            "width": null
          }
        },
        "e3c15f22bd1f470eaa04e2898b779cd9": {
          "model_module": "@jupyter-widgets/base",
          "model_name": "LayoutModel",
          "model_module_version": "1.2.0",
          "state": {
            "_model_module": "@jupyter-widgets/base",
            "_model_module_version": "1.2.0",
            "_model_name": "LayoutModel",
            "_view_count": null,
            "_view_module": "@jupyter-widgets/base",
            "_view_module_version": "1.2.0",
            "_view_name": "LayoutView",
            "align_content": null,
            "align_items": null,
            "align_self": null,
            "border": null,
            "bottom": null,
            "display": null,
            "flex": null,
            "flex_flow": null,
            "grid_area": null,
            "grid_auto_columns": null,
            "grid_auto_flow": null,
            "grid_auto_rows": null,
            "grid_column": null,
            "grid_gap": null,
            "grid_row": null,
            "grid_template_areas": null,
            "grid_template_columns": null,
            "grid_template_rows": null,
            "height": null,
            "justify_content": null,
            "justify_items": null,
            "left": null,
            "margin": null,
            "max_height": null,
            "max_width": null,
            "min_height": null,
            "min_width": null,
            "object_fit": null,
            "object_position": null,
            "order": null,
            "overflow": null,
            "overflow_x": null,
            "overflow_y": null,
            "padding": null,
            "right": null,
            "top": null,
            "visibility": null,
            "width": null
          }
        },
        "3c9635d296ff4c259c36c53c8dba1d29": {
          "model_module": "@jupyter-widgets/controls",
          "model_name": "DescriptionStyleModel",
          "model_module_version": "1.5.0",
          "state": {
            "_model_module": "@jupyter-widgets/controls",
            "_model_module_version": "1.5.0",
            "_model_name": "DescriptionStyleModel",
            "_view_count": null,
            "_view_module": "@jupyter-widgets/base",
            "_view_module_version": "1.2.0",
            "_view_name": "StyleView",
            "description_width": ""
          }
        },
        "64ba70fefea14a03aab6d6ecb2f68cb8": {
          "model_module": "@jupyter-widgets/base",
          "model_name": "LayoutModel",
          "model_module_version": "1.2.0",
          "state": {
            "_model_module": "@jupyter-widgets/base",
            "_model_module_version": "1.2.0",
            "_model_name": "LayoutModel",
            "_view_count": null,
            "_view_module": "@jupyter-widgets/base",
            "_view_module_version": "1.2.0",
            "_view_name": "LayoutView",
            "align_content": null,
            "align_items": null,
            "align_self": null,
            "border": null,
            "bottom": null,
            "display": null,
            "flex": null,
            "flex_flow": null,
            "grid_area": null,
            "grid_auto_columns": null,
            "grid_auto_flow": null,
            "grid_auto_rows": null,
            "grid_column": null,
            "grid_gap": null,
            "grid_row": null,
            "grid_template_areas": null,
            "grid_template_columns": null,
            "grid_template_rows": null,
            "height": null,
            "justify_content": null,
            "justify_items": null,
            "left": null,
            "margin": null,
            "max_height": null,
            "max_width": null,
            "min_height": null,
            "min_width": null,
            "object_fit": null,
            "object_position": null,
            "order": null,
            "overflow": null,
            "overflow_x": null,
            "overflow_y": null,
            "padding": null,
            "right": null,
            "top": null,
            "visibility": null,
            "width": null
          }
        },
        "7c74617798bd4375adff288878799642": {
          "model_module": "@jupyter-widgets/controls",
          "model_name": "ProgressStyleModel",
          "model_module_version": "1.5.0",
          "state": {
            "_model_module": "@jupyter-widgets/controls",
            "_model_module_version": "1.5.0",
            "_model_name": "ProgressStyleModel",
            "_view_count": null,
            "_view_module": "@jupyter-widgets/base",
            "_view_module_version": "1.2.0",
            "_view_name": "StyleView",
            "bar_color": null,
            "description_width": ""
          }
        },
        "de8e861727394300b0b7a24e5f1ae163": {
          "model_module": "@jupyter-widgets/base",
          "model_name": "LayoutModel",
          "model_module_version": "1.2.0",
          "state": {
            "_model_module": "@jupyter-widgets/base",
            "_model_module_version": "1.2.0",
            "_model_name": "LayoutModel",
            "_view_count": null,
            "_view_module": "@jupyter-widgets/base",
            "_view_module_version": "1.2.0",
            "_view_name": "LayoutView",
            "align_content": null,
            "align_items": null,
            "align_self": null,
            "border": null,
            "bottom": null,
            "display": null,
            "flex": null,
            "flex_flow": null,
            "grid_area": null,
            "grid_auto_columns": null,
            "grid_auto_flow": null,
            "grid_auto_rows": null,
            "grid_column": null,
            "grid_gap": null,
            "grid_row": null,
            "grid_template_areas": null,
            "grid_template_columns": null,
            "grid_template_rows": null,
            "height": null,
            "justify_content": null,
            "justify_items": null,
            "left": null,
            "margin": null,
            "max_height": null,
            "max_width": null,
            "min_height": null,
            "min_width": null,
            "object_fit": null,
            "object_position": null,
            "order": null,
            "overflow": null,
            "overflow_x": null,
            "overflow_y": null,
            "padding": null,
            "right": null,
            "top": null,
            "visibility": null,
            "width": null
          }
        },
        "5885a1026f8e4488814d15ff7f238acd": {
          "model_module": "@jupyter-widgets/controls",
          "model_name": "DescriptionStyleModel",
          "model_module_version": "1.5.0",
          "state": {
            "_model_module": "@jupyter-widgets/controls",
            "_model_module_version": "1.5.0",
            "_model_name": "DescriptionStyleModel",
            "_view_count": null,
            "_view_module": "@jupyter-widgets/base",
            "_view_module_version": "1.2.0",
            "_view_name": "StyleView",
            "description_width": ""
          }
        },
        "3e5eecee0f814664b2bb2d928bf79207": {
          "model_module": "@jupyter-widgets/controls",
          "model_name": "HBoxModel",
          "model_module_version": "1.5.0",
          "state": {
            "_dom_classes": [],
            "_model_module": "@jupyter-widgets/controls",
            "_model_module_version": "1.5.0",
            "_model_name": "HBoxModel",
            "_view_count": null,
            "_view_module": "@jupyter-widgets/controls",
            "_view_module_version": "1.5.0",
            "_view_name": "HBoxView",
            "box_style": "",
            "children": [
              "IPY_MODEL_342017710d88499a8e9fa3de22b5e2b2",
              "IPY_MODEL_43b7c3f140034a9683d845e6b703bc6c",
              "IPY_MODEL_7002e6fad9b941ee96b32a6d1fb3ffe4"
            ],
            "layout": "IPY_MODEL_c4a0484b10664f0891503561187665d9"
          }
        },
        "342017710d88499a8e9fa3de22b5e2b2": {
          "model_module": "@jupyter-widgets/controls",
          "model_name": "HTMLModel",
          "model_module_version": "1.5.0",
          "state": {
            "_dom_classes": [],
            "_model_module": "@jupyter-widgets/controls",
            "_model_module_version": "1.5.0",
            "_model_name": "HTMLModel",
            "_view_count": null,
            "_view_module": "@jupyter-widgets/controls",
            "_view_module_version": "1.5.0",
            "_view_name": "HTMLView",
            "description": "",
            "description_tooltip": null,
            "layout": "IPY_MODEL_63e06e6c3a16473ca9ac62737c836753",
            "placeholder": "​",
            "style": "IPY_MODEL_48accfd7954c40fca742fcdc047c416a",
            "value": "100%"
          }
        },
        "43b7c3f140034a9683d845e6b703bc6c": {
          "model_module": "@jupyter-widgets/controls",
          "model_name": "FloatProgressModel",
          "model_module_version": "1.5.0",
          "state": {
            "_dom_classes": [],
            "_model_module": "@jupyter-widgets/controls",
            "_model_module_version": "1.5.0",
            "_model_name": "FloatProgressModel",
            "_view_count": null,
            "_view_module": "@jupyter-widgets/controls",
            "_view_module_version": "1.5.0",
            "_view_name": "ProgressView",
            "bar_style": "success",
            "description": "",
            "description_tooltip": null,
            "layout": "IPY_MODEL_b5b50e1efd5446259445dfcb6c78cdfe",
            "max": 50000,
            "min": 0,
            "orientation": "horizontal",
            "style": "IPY_MODEL_3d54a68fe7a645b0b00042233d6734b3",
            "value": 50000
          }
        },
        "7002e6fad9b941ee96b32a6d1fb3ffe4": {
          "model_module": "@jupyter-widgets/controls",
          "model_name": "HTMLModel",
          "model_module_version": "1.5.0",
          "state": {
            "_dom_classes": [],
            "_model_module": "@jupyter-widgets/controls",
            "_model_module_version": "1.5.0",
            "_model_name": "HTMLModel",
            "_view_count": null,
            "_view_module": "@jupyter-widgets/controls",
            "_view_module_version": "1.5.0",
            "_view_name": "HTMLView",
            "description": "",
            "description_tooltip": null,
            "layout": "IPY_MODEL_bdb7de0db4804065829ed39ad22554aa",
            "placeholder": "​",
            "style": "IPY_MODEL_0abb085177c54ca7b2aa34fba89ad5e6",
            "value": " 50000/50000 [00:06&lt;00:00, 7488.94it/s]"
          }
        },
        "c4a0484b10664f0891503561187665d9": {
          "model_module": "@jupyter-widgets/base",
          "model_name": "LayoutModel",
          "model_module_version": "1.2.0",
          "state": {
            "_model_module": "@jupyter-widgets/base",
            "_model_module_version": "1.2.0",
            "_model_name": "LayoutModel",
            "_view_count": null,
            "_view_module": "@jupyter-widgets/base",
            "_view_module_version": "1.2.0",
            "_view_name": "LayoutView",
            "align_content": null,
            "align_items": null,
            "align_self": null,
            "border": null,
            "bottom": null,
            "display": null,
            "flex": null,
            "flex_flow": null,
            "grid_area": null,
            "grid_auto_columns": null,
            "grid_auto_flow": null,
            "grid_auto_rows": null,
            "grid_column": null,
            "grid_gap": null,
            "grid_row": null,
            "grid_template_areas": null,
            "grid_template_columns": null,
            "grid_template_rows": null,
            "height": null,
            "justify_content": null,
            "justify_items": null,
            "left": null,
            "margin": null,
            "max_height": null,
            "max_width": null,
            "min_height": null,
            "min_width": null,
            "object_fit": null,
            "object_position": null,
            "order": null,
            "overflow": null,
            "overflow_x": null,
            "overflow_y": null,
            "padding": null,
            "right": null,
            "top": null,
            "visibility": null,
            "width": null
          }
        },
        "63e06e6c3a16473ca9ac62737c836753": {
          "model_module": "@jupyter-widgets/base",
          "model_name": "LayoutModel",
          "model_module_version": "1.2.0",
          "state": {
            "_model_module": "@jupyter-widgets/base",
            "_model_module_version": "1.2.0",
            "_model_name": "LayoutModel",
            "_view_count": null,
            "_view_module": "@jupyter-widgets/base",
            "_view_module_version": "1.2.0",
            "_view_name": "LayoutView",
            "align_content": null,
            "align_items": null,
            "align_self": null,
            "border": null,
            "bottom": null,
            "display": null,
            "flex": null,
            "flex_flow": null,
            "grid_area": null,
            "grid_auto_columns": null,
            "grid_auto_flow": null,
            "grid_auto_rows": null,
            "grid_column": null,
            "grid_gap": null,
            "grid_row": null,
            "grid_template_areas": null,
            "grid_template_columns": null,
            "grid_template_rows": null,
            "height": null,
            "justify_content": null,
            "justify_items": null,
            "left": null,
            "margin": null,
            "max_height": null,
            "max_width": null,
            "min_height": null,
            "min_width": null,
            "object_fit": null,
            "object_position": null,
            "order": null,
            "overflow": null,
            "overflow_x": null,
            "overflow_y": null,
            "padding": null,
            "right": null,
            "top": null,
            "visibility": null,
            "width": null
          }
        },
        "48accfd7954c40fca742fcdc047c416a": {
          "model_module": "@jupyter-widgets/controls",
          "model_name": "DescriptionStyleModel",
          "model_module_version": "1.5.0",
          "state": {
            "_model_module": "@jupyter-widgets/controls",
            "_model_module_version": "1.5.0",
            "_model_name": "DescriptionStyleModel",
            "_view_count": null,
            "_view_module": "@jupyter-widgets/base",
            "_view_module_version": "1.2.0",
            "_view_name": "StyleView",
            "description_width": ""
          }
        },
        "b5b50e1efd5446259445dfcb6c78cdfe": {
          "model_module": "@jupyter-widgets/base",
          "model_name": "LayoutModel",
          "model_module_version": "1.2.0",
          "state": {
            "_model_module": "@jupyter-widgets/base",
            "_model_module_version": "1.2.0",
            "_model_name": "LayoutModel",
            "_view_count": null,
            "_view_module": "@jupyter-widgets/base",
            "_view_module_version": "1.2.0",
            "_view_name": "LayoutView",
            "align_content": null,
            "align_items": null,
            "align_self": null,
            "border": null,
            "bottom": null,
            "display": null,
            "flex": null,
            "flex_flow": null,
            "grid_area": null,
            "grid_auto_columns": null,
            "grid_auto_flow": null,
            "grid_auto_rows": null,
            "grid_column": null,
            "grid_gap": null,
            "grid_row": null,
            "grid_template_areas": null,
            "grid_template_columns": null,
            "grid_template_rows": null,
            "height": null,
            "justify_content": null,
            "justify_items": null,
            "left": null,
            "margin": null,
            "max_height": null,
            "max_width": null,
            "min_height": null,
            "min_width": null,
            "object_fit": null,
            "object_position": null,
            "order": null,
            "overflow": null,
            "overflow_x": null,
            "overflow_y": null,
            "padding": null,
            "right": null,
            "top": null,
            "visibility": null,
            "width": null
          }
        },
        "3d54a68fe7a645b0b00042233d6734b3": {
          "model_module": "@jupyter-widgets/controls",
          "model_name": "ProgressStyleModel",
          "model_module_version": "1.5.0",
          "state": {
            "_model_module": "@jupyter-widgets/controls",
            "_model_module_version": "1.5.0",
            "_model_name": "ProgressStyleModel",
            "_view_count": null,
            "_view_module": "@jupyter-widgets/base",
            "_view_module_version": "1.2.0",
            "_view_name": "StyleView",
            "bar_color": null,
            "description_width": ""
          }
        },
        "bdb7de0db4804065829ed39ad22554aa": {
          "model_module": "@jupyter-widgets/base",
          "model_name": "LayoutModel",
          "model_module_version": "1.2.0",
          "state": {
            "_model_module": "@jupyter-widgets/base",
            "_model_module_version": "1.2.0",
            "_model_name": "LayoutModel",
            "_view_count": null,
            "_view_module": "@jupyter-widgets/base",
            "_view_module_version": "1.2.0",
            "_view_name": "LayoutView",
            "align_content": null,
            "align_items": null,
            "align_self": null,
            "border": null,
            "bottom": null,
            "display": null,
            "flex": null,
            "flex_flow": null,
            "grid_area": null,
            "grid_auto_columns": null,
            "grid_auto_flow": null,
            "grid_auto_rows": null,
            "grid_column": null,
            "grid_gap": null,
            "grid_row": null,
            "grid_template_areas": null,
            "grid_template_columns": null,
            "grid_template_rows": null,
            "height": null,
            "justify_content": null,
            "justify_items": null,
            "left": null,
            "margin": null,
            "max_height": null,
            "max_width": null,
            "min_height": null,
            "min_width": null,
            "object_fit": null,
            "object_position": null,
            "order": null,
            "overflow": null,
            "overflow_x": null,
            "overflow_y": null,
            "padding": null,
            "right": null,
            "top": null,
            "visibility": null,
            "width": null
          }
        },
        "0abb085177c54ca7b2aa34fba89ad5e6": {
          "model_module": "@jupyter-widgets/controls",
          "model_name": "DescriptionStyleModel",
          "model_module_version": "1.5.0",
          "state": {
            "_model_module": "@jupyter-widgets/controls",
            "_model_module_version": "1.5.0",
            "_model_name": "DescriptionStyleModel",
            "_view_count": null,
            "_view_module": "@jupyter-widgets/base",
            "_view_module_version": "1.2.0",
            "_view_name": "StyleView",
            "description_width": ""
          }
        }
      }
    },
    "colab": {
      "provenance": [],
      "machine_shape": "hm"
    }
  },
  "nbformat": 4,
  "nbformat_minor": 5
}